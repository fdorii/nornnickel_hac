{
 "cells": [
  {
   "cell_type": "code",
   "execution_count": 1,
   "id": "initial_id",
   "metadata": {},
   "outputs": [],
   "source": [
    "from ultralytics import YOLO\n",
    "import os\n",
    "import cv2\n",
    "import shutil\n",
    "from sklearn.model_selection import train_test_split\n",
    "import numpy as np"
   ]
  },
  {
   "cell_type": "code",
   "execution_count": 2,
   "id": "ac56f6e6ea79ce6e",
   "metadata": {
    "collapsed": false
   },
   "outputs": [],
   "source": [
    "IMAGES_DIR = 'cv_open_dataset/open_img'  # Путь к вашему датасету с изображениями\n",
    "MASKS_DIR = 'cv_open_dataset/open_msk_new'  # Путь к вашему датасету с масками\n",
    "OUTPUT_DIR = './datasets/train_data'  # Путь к выходной директории\n",
    "TRAIN_SIZE = 0.8  # Процент обучающей выборки"
   ]
  },
  {
   "cell_type": "code",
   "execution_count": 3,
   "id": "74782e91",
   "metadata": {},
   "outputs": [],
   "source": [
    "IMAGES_DIR = 'cv_open_dataset/open_img_synt'  # Путь к вашему датасету с изображениями\n",
    "MASKS_DIR = 'cv_open_dataset/open_msk_synt_new'  # Путь к вашему датасету с масками\n",
    "OUTPUT_DIR = './datasets/train_data_synt'  # Путь к выходной директории\n",
    "TRAIN_SIZE = 0.8  # Процент обучающей выборки"
   ]
  },
  {
   "cell_type": "code",
   "execution_count": 4,
   "id": "406044194f9535d5",
   "metadata": {
    "collapsed": false
   },
   "outputs": [],
   "source": [
    "os.makedirs(os.path.join(OUTPUT_DIR, 'images/train'), exist_ok=True)\n",
    "os.makedirs(os.path.join(OUTPUT_DIR, 'images/val'), exist_ok=True)\n",
    "os.makedirs(os.path.join(OUTPUT_DIR, 'labels/train'), exist_ok=True)\n",
    "os.makedirs(os.path.join(OUTPUT_DIR, 'labels/val'), exist_ok=True)"
   ]
  },
  {
   "cell_type": "code",
   "execution_count": 5,
   "id": "61ba29c30ff4a2dc",
   "metadata": {
    "collapsed": false
   },
   "outputs": [],
   "source": [
    "image_files = [f for f in os.listdir(IMAGES_DIR) if f.endswith(('.jpg', '.png'))]\n",
    "mask_files = [f for f in os.listdir(MASKS_DIR) if f.endswith('.png')]\n",
    "if len(image_files) != len(mask_files):\n",
    "    print(len(image_files))\n",
    "    print(len(mask_files))\n",
    "    print(\"Количество изображений и масок не совпадает.\")\n",
    "    for mask in mask_files:\n",
    "        if mask.replace(\".png\", \".jpg\") not in image_files:\n",
    "            print(mask)"
   ]
  },
  {
   "cell_type": "code",
   "execution_count": 6,
   "id": "d00ab007653eda31",
   "metadata": {
    "collapsed": false
   },
   "outputs": [],
   "source": [
    "train_images, val_images = train_test_split(image_files, train_size=TRAIN_SIZE, random_state=42)"
   ]
  },
  {
   "cell_type": "code",
   "execution_count": 7,
   "id": "f4cd15221eb3f864",
   "metadata": {
    "collapsed": false
   },
   "outputs": [],
   "source": [
    "def convert_mask_to_yolo(mask_path, out):\n",
    "    # Открываем изображение\n",
    "    image = cv2.imread(mask_path)\n",
    "\n",
    "    if image is None:\n",
    "        print(f\"Не удалось открыть изображение: {mask_path}\")\n",
    "        return\n",
    "    \n",
    "    height, width = image.shape[:2]\n",
    "\n",
    "    # Создаем маску для черного цвета\n",
    "    black_mask = cv2.inRange(image, (0, 0, 0), (50, 50, 50))\n",
    "\n",
    "    # Создаем новое изображение, где черный цвет остается, а остальные цвета становятся белыми\n",
    "    new_image = np.ones_like(image) * 255  # Начинаем с белого изображения\n",
    "    new_image[black_mask > 0] = [0, 0, 0]  # Заменяем черные пиксели\n",
    "\n",
    "    # Преобразуем в градации серого для нахождения контуров\n",
    "    gray_image = cv2.cvtColor(new_image, cv2.COLOR_BGR2GRAY)\n",
    "\n",
    "    # Находим контуры\n",
    "    contours, _ = cv2.findContours(gray_image, cv2.RETR_EXTERNAL, cv2.CHAIN_APPROX_SIMPLE)\n",
    "\n",
    "    # Сохраняем контуры в текстовом формате\n",
    "    output_file_name = os.path.splitext(os.path.basename(mask_path))[0] + '.txt'\n",
    "    output_file_path = os.path.join(OUTPUT_DIR, out, output_file_name)\n",
    "\n",
    "    with open(output_file_path, 'w') as f:\n",
    "        for index, contour in enumerate(contours):\n",
    "            # Получаем координаты всех точек контура\n",
    "            contour_points = contour.reshape(-1, 2)\n",
    "            # Нормализуем координаты\n",
    "            normalized_points = [(x / width, y / height) for x, y in contour_points]\n",
    "            points_str = ' '.join(f\"{x:.3f} {y:.3f}\" for x, y in normalized_points)\n",
    "            f.write(f\"0 {points_str}\\n\")"
   ]
  },
  {
   "cell_type": "code",
   "execution_count": 8,
   "id": "fdf99ded756441b8",
   "metadata": {
    "collapsed": false
   },
   "outputs": [],
   "source": [
    "# Копирование изображений и масок в соответствующие папки\n",
    "for img in train_images:\n",
    "    shutil.copy(os.path.join(IMAGES_DIR, img), os.path.join(OUTPUT_DIR, 'images/train', img))\n",
    "    mask_name = img.replace('.jpg', '.png')\n",
    "    convert_mask_to_yolo(os.path.join(MASKS_DIR, mask_name), 'labels/train')"
   ]
  },
  {
   "cell_type": "code",
   "execution_count": 9,
   "id": "1b2fd246643ce5cf",
   "metadata": {
    "collapsed": false
   },
   "outputs": [],
   "source": [
    "for img in val_images:\n",
    "    shutil.copy(os.path.join(IMAGES_DIR, img), os.path.join(OUTPUT_DIR, 'images/val', img))\n",
    "    mask_name = img.replace('.jpg', '.png')\n",
    "    convert_mask_to_yolo(os.path.join(MASKS_DIR, mask_name), 'labels/val')\n"
   ]
  },
  {
   "cell_type": "code",
   "execution_count": 10,
   "id": "7d7767e7853d7b98",
   "metadata": {
    "collapsed": false
   },
   "outputs": [
    {
     "name": "stdout",
     "output_type": "stream",
     "text": [
      "Датасет успешно разбит и сохранен в структуре проекта.\n"
     ]
    }
   ],
   "source": [
    "data_yaml_content = f\"\"\"\n",
    "train: train_data_synt/images/train\n",
    "val: train_data_synt/images/val\n",
    "\n",
    "nc: 1  # Обновите количество классов (1 для загрязнения)\n",
    "names: ['contaminated']  # Обновите названия классов\n",
    "\"\"\"\n",
    "\n",
    "with open('data.yaml', 'w') as f:\n",
    "    f.write(data_yaml_content)\n",
    "\n",
    "print(\"Датасет успешно разбит и сохранен в структуре проекта.\")"
   ]
  },
  {
   "cell_type": "code",
   "execution_count": 11,
   "id": "6a73b014c45fcc50",
   "metadata": {},
   "outputs": [],
   "source": [
    "model = YOLO(\"yolo11n-seg.pt\")"
   ]
  },
  {
   "cell_type": "code",
   "execution_count": 14,
   "id": "4d85abfbc10ae302",
   "metadata": {},
   "outputs": [
    {
     "name": "stdout",
     "output_type": "stream",
     "text": [
      "Ultralytics 8.3.44  Python-3.10.0 torch-2.5.1+cu124 CUDA:0 (NVIDIA GeForce RTX 3050 Ti Laptop GPU, 4096MiB)\n",
      "\u001b[34m\u001b[1mengine\\trainer: \u001b[0mtask=segment, mode=train, model=yolo11n-seg.pt, data=./data.yaml, epochs=20, time=None, patience=100, batch=16, imgsz=640, save=True, save_period=-1, cache=False, device=0, workers=8, project=None, name=train133, exist_ok=False, pretrained=True, optimizer=auto, verbose=True, seed=0, deterministic=True, single_cls=False, rect=False, cos_lr=False, close_mosaic=10, resume=False, amp=True, fraction=1.0, profile=False, freeze=None, multi_scale=False, overlap_mask=True, mask_ratio=4, dropout=0.0, val=True, split=val, save_json=False, save_hybrid=False, conf=None, iou=0.7, max_det=300, half=False, dnn=False, plots=True, source=None, vid_stride=1, stream_buffer=False, visualize=False, augment=False, agnostic_nms=False, classes=None, retina_masks=False, embed=None, show=False, save_frames=False, save_txt=False, save_conf=False, save_crop=False, show_labels=True, show_conf=True, show_boxes=True, line_width=None, format=torchscript, keras=False, optimize=False, int8=False, dynamic=False, simplify=True, opset=None, workspace=None, nms=False, lr0=0.01, lrf=0.01, momentum=0.937, weight_decay=0.0005, warmup_epochs=3.0, warmup_momentum=0.8, warmup_bias_lr=0.0, box=7.5, cls=0.5, dfl=1.5, pose=12.0, kobj=1.0, nbs=64, hsv_h=0.015, hsv_s=0.7, hsv_v=0.4, degrees=0.0, translate=0.1, scale=0.5, shear=0.0, perspective=0.0, flipud=0.0, fliplr=0.5, bgr=0.0, mosaic=1.0, mixup=0.0, copy_paste=0.0, copy_paste_mode=flip, auto_augment=randaugment, erasing=0.4, crop_fraction=1.0, cfg=None, tracker=botsort.yaml, save_dir=c:\\Users\\nadyl\\Documents\\GitHub\\nornnickel_hac\\runs\\segment\\train133\n",
      "\n",
      "                   from  n    params  module                                       arguments                     \n",
      "  0                  -1  1       464  ultralytics.nn.modules.conv.Conv             [3, 16, 3, 2]                 \n",
      "  1                  -1  1      4672  ultralytics.nn.modules.conv.Conv             [16, 32, 3, 2]                \n",
      "  2                  -1  1      6640  ultralytics.nn.modules.block.C3k2            [32, 64, 1, False, 0.25]      \n",
      "  3                  -1  1     36992  ultralytics.nn.modules.conv.Conv             [64, 64, 3, 2]                \n",
      "  4                  -1  1     26080  ultralytics.nn.modules.block.C3k2            [64, 128, 1, False, 0.25]     \n",
      "  5                  -1  1    147712  ultralytics.nn.modules.conv.Conv             [128, 128, 3, 2]              \n",
      "  6                  -1  1     87040  ultralytics.nn.modules.block.C3k2            [128, 128, 1, True]           \n",
      "  7                  -1  1    295424  ultralytics.nn.modules.conv.Conv             [128, 256, 3, 2]              \n",
      "  8                  -1  1    346112  ultralytics.nn.modules.block.C3k2            [256, 256, 1, True]           \n",
      "  9                  -1  1    164608  ultralytics.nn.modules.block.SPPF            [256, 256, 5]                 \n",
      " 10                  -1  1    249728  ultralytics.nn.modules.block.C2PSA           [256, 256, 1]                 \n",
      " 11                  -1  1         0  torch.nn.modules.upsampling.Upsample         [None, 2, 'nearest']          \n",
      " 12             [-1, 6]  1         0  ultralytics.nn.modules.conv.Concat           [1]                           \n",
      " 13                  -1  1    111296  ultralytics.nn.modules.block.C3k2            [384, 128, 1, False]          \n",
      " 14                  -1  1         0  torch.nn.modules.upsampling.Upsample         [None, 2, 'nearest']          \n",
      " 15             [-1, 4]  1         0  ultralytics.nn.modules.conv.Concat           [1]                           \n",
      " 16                  -1  1     32096  ultralytics.nn.modules.block.C3k2            [256, 64, 1, False]           \n",
      " 17                  -1  1     36992  ultralytics.nn.modules.conv.Conv             [64, 64, 3, 2]                \n",
      " 18            [-1, 13]  1         0  ultralytics.nn.modules.conv.Concat           [1]                           \n",
      " 19                  -1  1     86720  ultralytics.nn.modules.block.C3k2            [192, 128, 1, False]          \n",
      " 20                  -1  1    147712  ultralytics.nn.modules.conv.Conv             [128, 128, 3, 2]              \n",
      " 21            [-1, 10]  1         0  ultralytics.nn.modules.conv.Concat           [1]                           \n",
      " 22                  -1  1    378880  ultralytics.nn.modules.block.C3k2            [384, 256, 1, True]           \n",
      " 23        [16, 19, 22]  1    683635  ultralytics.nn.modules.head.Segment          [1, 32, 64, [64, 128, 256]]   \n",
      "YOLO11n-seg summary: 355 layers, 2,842,803 parameters, 2,842,787 gradients, 10.4 GFLOPs\n",
      "\n",
      "Transferred 111/561 items from pretrained weights\n",
      "Freezing layer 'model.23.dfl.conv.weight'\n",
      "\u001b[34m\u001b[1mAMP: \u001b[0mrunning Automatic Mixed Precision (AMP) checks...\n",
      "\u001b[34m\u001b[1mAMP: \u001b[0mchecks passed \n"
     ]
    },
    {
     "name": "stderr",
     "output_type": "stream",
     "text": [
      "\u001b[34m\u001b[1mtrain: \u001b[0mScanning C:\\Users\\nadyl\\Documents\\GitHub\\nornnickel_hac\\datasets\\train_data_synt\\labels\\train.cache... 253 images, 91 backgrounds, 0 corrupt: 100%|██████████| 253/253 [00:00<?, ?it/s]\n",
      "\u001b[34m\u001b[1mval: \u001b[0mScanning C:\\Users\\nadyl\\Documents\\GitHub\\nornnickel_hac\\datasets\\train_data_synt\\labels\\val.cache... 64 images, 20 backgrounds, 0 corrupt: 100%|██████████| 64/64 [00:00<?, ?it/s]\n"
     ]
    },
    {
     "name": "stdout",
     "output_type": "stream",
     "text": [
      "Plotting labels to c:\\Users\\nadyl\\Documents\\GitHub\\nornnickel_hac\\runs\\segment\\train133\\labels.jpg... \n",
      "\u001b[34m\u001b[1moptimizer:\u001b[0m 'optimizer=auto' found, ignoring 'lr0=0.01' and 'momentum=0.937' and determining best 'optimizer', 'lr0' and 'momentum' automatically... \n",
      "\u001b[34m\u001b[1moptimizer:\u001b[0m AdamW(lr=0.002, momentum=0.9) with parameter groups 90 weight(decay=0.0), 101 weight(decay=0.0005), 100 bias(decay=0.0)\n",
      "Image sizes 640 train, 640 val\n",
      "Using 8 dataloader workers\n",
      "Logging results to \u001b[1mc:\\Users\\nadyl\\Documents\\GitHub\\nornnickel_hac\\runs\\segment\\train133\u001b[0m\n",
      "Starting training for 20 epochs...\n",
      "\n",
      "      Epoch    GPU_mem   box_loss   seg_loss   cls_loss   dfl_loss  Instances       Size\n"
     ]
    },
    {
     "name": "stderr",
     "output_type": "stream",
     "text": [
      "       1/20      3.71G      2.947      3.504      2.462      2.106        104        640: 100%|██████████| 16/16 [00:06<00:00,  2.62it/s]\n",
      "                 Class     Images  Instances      Box(P          R      mAP50  mAP50-95)     Mask(P          R      mAP50  mAP50-95): 100%|██████████| 2/2 [00:00<00:00,  2.90it/s]"
     ]
    },
    {
     "name": "stdout",
     "output_type": "stream",
     "text": [
      "                   all         64        674      0.264      0.194      0.109     0.0441      0.213       0.16     0.0772     0.0255\n"
     ]
    },
    {
     "name": "stderr",
     "output_type": "stream",
     "text": [
      "\n"
     ]
    },
    {
     "name": "stdout",
     "output_type": "stream",
     "text": [
      "\n",
      "      Epoch    GPU_mem   box_loss   seg_loss   cls_loss   dfl_loss  Instances       Size\n"
     ]
    },
    {
     "name": "stderr",
     "output_type": "stream",
     "text": [
      "       2/20      3.66G      1.649      2.395      1.253      1.443        318        640: 100%|██████████| 16/16 [00:05<00:00,  3.18it/s]\n",
      "                 Class     Images  Instances      Box(P          R      mAP50  mAP50-95)     Mask(P          R      mAP50  mAP50-95): 100%|██████████| 2/2 [00:00<00:00,  2.90it/s]"
     ]
    },
    {
     "name": "stdout",
     "output_type": "stream",
     "text": [
      "                   all         64        674      0.131     0.0564     0.0469     0.0159      0.109     0.0504     0.0391     0.0116\n"
     ]
    },
    {
     "name": "stderr",
     "output_type": "stream",
     "text": [
      "\n"
     ]
    },
    {
     "name": "stdout",
     "output_type": "stream",
     "text": [
      "\n",
      "      Epoch    GPU_mem   box_loss   seg_loss   cls_loss   dfl_loss  Instances       Size\n"
     ]
    },
    {
     "name": "stderr",
     "output_type": "stream",
     "text": [
      "       3/20      3.62G      1.412      2.179      1.065      1.271        181        640: 100%|██████████| 16/16 [00:04<00:00,  3.23it/s]\n",
      "                 Class     Images  Instances      Box(P          R      mAP50  mAP50-95)     Mask(P          R      mAP50  mAP50-95): 100%|██████████| 2/2 [00:00<00:00,  3.11it/s]"
     ]
    },
    {
     "name": "stdout",
     "output_type": "stream",
     "text": [
      "                   all         64        674      0.446      0.257      0.253      0.136      0.424      0.244      0.247       0.12\n"
     ]
    },
    {
     "name": "stderr",
     "output_type": "stream",
     "text": [
      "\n"
     ]
    },
    {
     "name": "stdout",
     "output_type": "stream",
     "text": [
      "\n",
      "      Epoch    GPU_mem   box_loss   seg_loss   cls_loss   dfl_loss  Instances       Size\n"
     ]
    },
    {
     "name": "stderr",
     "output_type": "stream",
     "text": [
      "       4/20      3.64G      1.287      2.012     0.9683      1.191        174        640: 100%|██████████| 16/16 [00:05<00:00,  2.81it/s]\n",
      "                 Class     Images  Instances      Box(P          R      mAP50  mAP50-95)     Mask(P          R      mAP50  mAP50-95): 100%|██████████| 2/2 [00:00<00:00,  2.76it/s]"
     ]
    },
    {
     "name": "stdout",
     "output_type": "stream",
     "text": [
      "                   all         64        674      0.599      0.385      0.404      0.248      0.571      0.392      0.408      0.223\n"
     ]
    },
    {
     "name": "stderr",
     "output_type": "stream",
     "text": [
      "\n"
     ]
    },
    {
     "name": "stdout",
     "output_type": "stream",
     "text": [
      "\n",
      "      Epoch    GPU_mem   box_loss   seg_loss   cls_loss   dfl_loss  Instances       Size\n"
     ]
    },
    {
     "name": "stderr",
     "output_type": "stream",
     "text": [
      "       5/20      3.45G      1.171      1.876     0.8814      1.119        162        640: 100%|██████████| 16/16 [00:04<00:00,  3.23it/s]\n",
      "                 Class     Images  Instances      Box(P          R      mAP50  mAP50-95)     Mask(P          R      mAP50  mAP50-95): 100%|██████████| 2/2 [00:00<00:00,  3.14it/s]"
     ]
    },
    {
     "name": "stdout",
     "output_type": "stream",
     "text": [
      "                   all         64        674       0.68      0.552      0.559      0.356      0.687      0.551      0.557      0.322\n"
     ]
    },
    {
     "name": "stderr",
     "output_type": "stream",
     "text": [
      "\n"
     ]
    },
    {
     "name": "stdout",
     "output_type": "stream",
     "text": [
      "\n",
      "      Epoch    GPU_mem   box_loss   seg_loss   cls_loss   dfl_loss  Instances       Size\n"
     ]
    },
    {
     "name": "stderr",
     "output_type": "stream",
     "text": [
      "       6/20       3.6G      1.145      1.769     0.8277      1.096        251        640: 100%|██████████| 16/16 [00:04<00:00,  3.25it/s]\n",
      "                 Class     Images  Instances      Box(P          R      mAP50  mAP50-95)     Mask(P          R      mAP50  mAP50-95): 100%|██████████| 2/2 [00:00<00:00,  3.12it/s]"
     ]
    },
    {
     "name": "stdout",
     "output_type": "stream",
     "text": [
      "                   all         64        674      0.802      0.711      0.734      0.505      0.804      0.711      0.732      0.451\n"
     ]
    },
    {
     "name": "stderr",
     "output_type": "stream",
     "text": [
      "\n"
     ]
    },
    {
     "name": "stdout",
     "output_type": "stream",
     "text": [
      "\n",
      "      Epoch    GPU_mem   box_loss   seg_loss   cls_loss   dfl_loss  Instances       Size\n"
     ]
    },
    {
     "name": "stderr",
     "output_type": "stream",
     "text": [
      "       7/20      3.44G      1.093      1.706     0.7902       1.07        213        640: 100%|██████████| 16/16 [00:04<00:00,  3.27it/s]\n",
      "                 Class     Images  Instances      Box(P          R      mAP50  mAP50-95)     Mask(P          R      mAP50  mAP50-95): 100%|██████████| 2/2 [00:00<00:00,  3.04it/s]"
     ]
    },
    {
     "name": "stdout",
     "output_type": "stream",
     "text": [
      "                   all         64        674      0.837      0.736      0.772      0.546      0.835      0.734      0.763      0.483\n"
     ]
    },
    {
     "name": "stderr",
     "output_type": "stream",
     "text": [
      "\n"
     ]
    },
    {
     "name": "stdout",
     "output_type": "stream",
     "text": [
      "\n",
      "      Epoch    GPU_mem   box_loss   seg_loss   cls_loss   dfl_loss  Instances       Size\n"
     ]
    },
    {
     "name": "stderr",
     "output_type": "stream",
     "text": [
      "       8/20      3.56G      1.061      1.673     0.7765      1.065        132        640: 100%|██████████| 16/16 [00:04<00:00,  3.32it/s]\n",
      "                 Class     Images  Instances      Box(P          R      mAP50  mAP50-95)     Mask(P          R      mAP50  mAP50-95): 100%|██████████| 2/2 [00:00<00:00,  3.14it/s]"
     ]
    },
    {
     "name": "stdout",
     "output_type": "stream",
     "text": [
      "                   all         64        674      0.875      0.764        0.8      0.564      0.877      0.766      0.797      0.503\n"
     ]
    },
    {
     "name": "stderr",
     "output_type": "stream",
     "text": [
      "\n"
     ]
    },
    {
     "name": "stdout",
     "output_type": "stream",
     "text": [
      "\n",
      "      Epoch    GPU_mem   box_loss   seg_loss   cls_loss   dfl_loss  Instances       Size\n"
     ]
    },
    {
     "name": "stderr",
     "output_type": "stream",
     "text": [
      "       9/20      3.57G      1.013      1.601     0.7186      1.036        228        640: 100%|██████████| 16/16 [00:04<00:00,  3.27it/s]\n",
      "                 Class     Images  Instances      Box(P          R      mAP50  mAP50-95)     Mask(P          R      mAP50  mAP50-95): 100%|██████████| 2/2 [00:00<00:00,  3.00it/s]"
     ]
    },
    {
     "name": "stdout",
     "output_type": "stream",
     "text": [
      "                   all         64        674      0.889      0.773      0.821      0.579      0.891      0.774      0.814      0.527\n"
     ]
    },
    {
     "name": "stderr",
     "output_type": "stream",
     "text": [
      "\n"
     ]
    },
    {
     "name": "stdout",
     "output_type": "stream",
     "text": [
      "\n",
      "      Epoch    GPU_mem   box_loss   seg_loss   cls_loss   dfl_loss  Instances       Size\n"
     ]
    },
    {
     "name": "stderr",
     "output_type": "stream",
     "text": [
      "      10/20      3.57G       1.01      1.561     0.7009      1.029        127        640: 100%|██████████| 16/16 [00:04<00:00,  3.28it/s]\n",
      "                 Class     Images  Instances      Box(P          R      mAP50  mAP50-95)     Mask(P          R      mAP50  mAP50-95): 100%|██████████| 2/2 [00:00<00:00,  3.15it/s]"
     ]
    },
    {
     "name": "stdout",
     "output_type": "stream",
     "text": [
      "                   all         64        674      0.904      0.764       0.82       0.59      0.912       0.77      0.818      0.525\n"
     ]
    },
    {
     "name": "stderr",
     "output_type": "stream",
     "text": [
      "\n"
     ]
    },
    {
     "name": "stdout",
     "output_type": "stream",
     "text": [
      "Closing dataloader mosaic\n",
      "\n",
      "      Epoch    GPU_mem   box_loss   seg_loss   cls_loss   dfl_loss  Instances       Size\n"
     ]
    },
    {
     "name": "stderr",
     "output_type": "stream",
     "text": [
      "      11/20      3.55G     0.9964      1.579      0.846      1.003        106        640: 100%|██████████| 16/16 [00:05<00:00,  3.07it/s]\n",
      "                 Class     Images  Instances      Box(P          R      mAP50  mAP50-95)     Mask(P          R      mAP50  mAP50-95): 100%|██████████| 2/2 [00:00<00:00,  3.01it/s]"
     ]
    },
    {
     "name": "stdout",
     "output_type": "stream",
     "text": [
      "                   all         64        674      0.883      0.763      0.807      0.576      0.888      0.767      0.804        0.5\n"
     ]
    },
    {
     "name": "stderr",
     "output_type": "stream",
     "text": [
      "\n"
     ]
    },
    {
     "name": "stdout",
     "output_type": "stream",
     "text": [
      "\n",
      "      Epoch    GPU_mem   box_loss   seg_loss   cls_loss   dfl_loss  Instances       Size\n"
     ]
    },
    {
     "name": "stderr",
     "output_type": "stream",
     "text": [
      "      12/20      3.12G      0.949      1.473     0.7766     0.9858         32        640: 100%|██████████| 16/16 [00:04<00:00,  3.58it/s]\n",
      "                 Class     Images  Instances      Box(P          R      mAP50  mAP50-95)     Mask(P          R      mAP50  mAP50-95): 100%|██████████| 2/2 [00:00<00:00,  3.06it/s]"
     ]
    },
    {
     "name": "stdout",
     "output_type": "stream",
     "text": [
      "                   all         64        674      0.892      0.769      0.808      0.554      0.892      0.769        0.8      0.499\n"
     ]
    },
    {
     "name": "stderr",
     "output_type": "stream",
     "text": [
      "\n"
     ]
    },
    {
     "name": "stdout",
     "output_type": "stream",
     "text": [
      "\n",
      "      Epoch    GPU_mem   box_loss   seg_loss   cls_loss   dfl_loss  Instances       Size\n"
     ]
    },
    {
     "name": "stderr",
     "output_type": "stream",
     "text": [
      "      13/20      3.22G     0.9187      1.437     0.6927     0.9781         97        640: 100%|██████████| 16/16 [00:04<00:00,  3.59it/s]\n",
      "                 Class     Images  Instances      Box(P          R      mAP50  mAP50-95)     Mask(P          R      mAP50  mAP50-95): 100%|██████████| 2/2 [00:00<00:00,  3.02it/s]"
     ]
    },
    {
     "name": "stdout",
     "output_type": "stream",
     "text": [
      "                   all         64        674      0.886      0.792      0.822       0.59      0.898      0.794      0.822      0.528\n"
     ]
    },
    {
     "name": "stderr",
     "output_type": "stream",
     "text": [
      "\n"
     ]
    },
    {
     "name": "stdout",
     "output_type": "stream",
     "text": [
      "\n",
      "      Epoch    GPU_mem   box_loss   seg_loss   cls_loss   dfl_loss  Instances       Size\n"
     ]
    },
    {
     "name": "stderr",
     "output_type": "stream",
     "text": [
      "      14/20      3.15G     0.8908      1.396     0.6515     0.9593         80        640: 100%|██████████| 16/16 [00:04<00:00,  3.60it/s]\n",
      "                 Class     Images  Instances      Box(P          R      mAP50  mAP50-95)     Mask(P          R      mAP50  mAP50-95): 100%|██████████| 2/2 [00:00<00:00,  2.97it/s]"
     ]
    },
    {
     "name": "stdout",
     "output_type": "stream",
     "text": [
      "                   all         64        674        0.9       0.79      0.823      0.591      0.902      0.792      0.826      0.539\n"
     ]
    },
    {
     "name": "stderr",
     "output_type": "stream",
     "text": [
      "\n"
     ]
    },
    {
     "name": "stdout",
     "output_type": "stream",
     "text": [
      "\n",
      "      Epoch    GPU_mem   box_loss   seg_loss   cls_loss   dfl_loss  Instances       Size\n"
     ]
    },
    {
     "name": "stderr",
     "output_type": "stream",
     "text": [
      "      15/20      3.22G     0.9194      1.413     0.6583     0.9711        106        640: 100%|██████████| 16/16 [00:04<00:00,  3.60it/s]\n",
      "                 Class     Images  Instances      Box(P          R      mAP50  mAP50-95)     Mask(P          R      mAP50  mAP50-95): 100%|██████████| 2/2 [00:00<00:00,  3.10it/s]"
     ]
    },
    {
     "name": "stdout",
     "output_type": "stream",
     "text": [
      "                   all         64        674      0.909      0.788      0.831      0.606      0.932      0.777      0.828       0.55\n"
     ]
    },
    {
     "name": "stderr",
     "output_type": "stream",
     "text": [
      "\n"
     ]
    },
    {
     "name": "stdout",
     "output_type": "stream",
     "text": [
      "\n",
      "      Epoch    GPU_mem   box_loss   seg_loss   cls_loss   dfl_loss  Instances       Size\n"
     ]
    },
    {
     "name": "stderr",
     "output_type": "stream",
     "text": [
      "      16/20      3.17G     0.8759      1.356     0.6351     0.9509        106        640: 100%|██████████| 16/16 [00:04<00:00,  3.57it/s]\n",
      "                 Class     Images  Instances      Box(P          R      mAP50  mAP50-95)     Mask(P          R      mAP50  mAP50-95): 100%|██████████| 2/2 [00:00<00:00,  2.97it/s]"
     ]
    },
    {
     "name": "stdout",
     "output_type": "stream",
     "text": [
      "                   all         64        674      0.901      0.806      0.837      0.606      0.902      0.806       0.83      0.534\n"
     ]
    },
    {
     "name": "stderr",
     "output_type": "stream",
     "text": [
      "\n"
     ]
    },
    {
     "name": "stdout",
     "output_type": "stream",
     "text": [
      "\n",
      "      Epoch    GPU_mem   box_loss   seg_loss   cls_loss   dfl_loss  Instances       Size\n"
     ]
    },
    {
     "name": "stderr",
     "output_type": "stream",
     "text": [
      "      17/20       3.2G     0.8572      1.349     0.6196     0.9634         73        640: 100%|██████████| 16/16 [00:04<00:00,  3.58it/s]\n",
      "                 Class     Images  Instances      Box(P          R      mAP50  mAP50-95)     Mask(P          R      mAP50  mAP50-95): 100%|██████████| 2/2 [00:00<00:00,  2.95it/s]"
     ]
    },
    {
     "name": "stdout",
     "output_type": "stream",
     "text": [
      "                   all         64        674        0.9        0.8      0.832      0.603      0.904      0.801       0.83      0.534\n"
     ]
    },
    {
     "name": "stderr",
     "output_type": "stream",
     "text": [
      "\n"
     ]
    },
    {
     "name": "stdout",
     "output_type": "stream",
     "text": [
      "\n",
      "      Epoch    GPU_mem   box_loss   seg_loss   cls_loss   dfl_loss  Instances       Size\n"
     ]
    },
    {
     "name": "stderr",
     "output_type": "stream",
     "text": [
      "      18/20      3.19G     0.8508      1.337     0.5915      0.938        103        640: 100%|██████████| 16/16 [00:04<00:00,  3.57it/s]\n",
      "                 Class     Images  Instances      Box(P          R      mAP50  mAP50-95)     Mask(P          R      mAP50  mAP50-95): 100%|██████████| 2/2 [00:00<00:00,  2.98it/s]"
     ]
    },
    {
     "name": "stdout",
     "output_type": "stream",
     "text": [
      "                   all         64        674      0.908      0.806      0.839      0.607      0.908      0.804      0.831      0.531\n"
     ]
    },
    {
     "name": "stderr",
     "output_type": "stream",
     "text": [
      "\n"
     ]
    },
    {
     "name": "stdout",
     "output_type": "stream",
     "text": [
      "\n",
      "      Epoch    GPU_mem   box_loss   seg_loss   cls_loss   dfl_loss  Instances       Size\n"
     ]
    },
    {
     "name": "stderr",
     "output_type": "stream",
     "text": [
      "      19/20      3.24G     0.8432      1.327     0.6067     0.9428        116        640: 100%|██████████| 16/16 [00:04<00:00,  3.57it/s]\n",
      "                 Class     Images  Instances      Box(P          R      mAP50  mAP50-95)     Mask(P          R      mAP50  mAP50-95): 100%|██████████| 2/2 [00:00<00:00,  3.07it/s]"
     ]
    },
    {
     "name": "stdout",
     "output_type": "stream",
     "text": [
      "                   all         64        674      0.911      0.808      0.843       0.61      0.913       0.81      0.837      0.538\n"
     ]
    },
    {
     "name": "stderr",
     "output_type": "stream",
     "text": [
      "\n"
     ]
    },
    {
     "name": "stdout",
     "output_type": "stream",
     "text": [
      "\n",
      "      Epoch    GPU_mem   box_loss   seg_loss   cls_loss   dfl_loss  Instances       Size\n"
     ]
    },
    {
     "name": "stderr",
     "output_type": "stream",
     "text": [
      "      20/20      3.21G      0.846      1.328     0.6002     0.9485         81        640: 100%|██████████| 16/16 [00:04<00:00,  3.62it/s]\n",
      "                 Class     Images  Instances      Box(P          R      mAP50  mAP50-95)     Mask(P          R      mAP50  mAP50-95): 100%|██████████| 2/2 [00:00<00:00,  3.11it/s]"
     ]
    },
    {
     "name": "stdout",
     "output_type": "stream",
     "text": [
      "                   all         64        674        0.9       0.81      0.838      0.612      0.903      0.813      0.837      0.543\n"
     ]
    },
    {
     "name": "stderr",
     "output_type": "stream",
     "text": [
      "\n"
     ]
    },
    {
     "name": "stdout",
     "output_type": "stream",
     "text": [
      "\n",
      "20 epochs completed in 0.041 hours.\n",
      "Optimizer stripped from c:\\Users\\nadyl\\Documents\\GitHub\\nornnickel_hac\\runs\\segment\\train133\\weights\\last.pt, 6.0MB\n",
      "Optimizer stripped from c:\\Users\\nadyl\\Documents\\GitHub\\nornnickel_hac\\runs\\segment\\train133\\weights\\best.pt, 6.0MB\n",
      "\n",
      "Validating c:\\Users\\nadyl\\Documents\\GitHub\\nornnickel_hac\\runs\\segment\\train133\\weights\\best.pt...\n",
      "Ultralytics 8.3.44  Python-3.10.0 torch-2.5.1+cu124 CUDA:0 (NVIDIA GeForce RTX 3050 Ti Laptop GPU, 4096MiB)\n",
      "YOLO11n-seg summary (fused): 265 layers, 2,834,763 parameters, 0 gradients, 10.2 GFLOPs\n"
     ]
    },
    {
     "name": "stderr",
     "output_type": "stream",
     "text": [
      "                 Class     Images  Instances      Box(P          R      mAP50  mAP50-95)     Mask(P          R      mAP50  mAP50-95): 100%|██████████| 2/2 [00:01<00:00,  1.70it/s]\n"
     ]
    },
    {
     "name": "stdout",
     "output_type": "stream",
     "text": [
      "                   all         64        674      0.898      0.812      0.839      0.612      0.902      0.815      0.837      0.542\n",
      "Speed: 0.8ms preprocess, 2.3ms inference, 0.0ms loss, 1.1ms postprocess per image\n",
      "Results saved to \u001b[1mc:\\Users\\nadyl\\Documents\\GitHub\\nornnickel_hac\\runs\\segment\\train133\u001b[0m\n"
     ]
    }
   ],
   "source": [
    "train_results = model.train(\n",
    "    data=\"./data.yaml\",  # path to dataset YAML\n",
    "    epochs=20,  # number of training epochs\n",
    "    imgsz=640,  # training image size\n",
    "    device=\"0\",  # device to run on, i.e. device=0 or device=0,1,2,3 or device=cpu\n",
    "    \n",
    ")"
   ]
  },
  {
   "cell_type": "code",
   "execution_count": null,
   "id": "2660d21c659b40fb",
   "metadata": {
    "collapsed": false
   },
   "outputs": [
    {
     "name": "stdout",
     "output_type": "stream",
     "text": [
      "Ultralytics 8.3.44  Python-3.10.0 torch-2.5.1+cu124 CUDA:0 (NVIDIA GeForce RTX 3050 Ti Laptop GPU, 4096MiB)\n",
      "YOLO11n-seg summary (fused): 265 layers, 2,834,763 parameters, 0 gradients, 10.2 GFLOPs\n"
     ]
    },
    {
     "name": "stderr",
     "output_type": "stream",
     "text": [
      "\u001b[34m\u001b[1mval: \u001b[0mScanning C:\\Users\\nadyl\\Documents\\GitHub\\nornnickel_hac\\datasets\\train_data_synt\\labels\\val.cache... 64 images, 20 backgrounds, 0 corrupt: 100%|██████████| 64/64 [00:00<?, ?it/s]\n",
      "                 Class     Images  Instances      Box(P          R      mAP50  mAP50-95)     Mask(P          R      mAP50  mAP50-95): 100%|██████████| 4/4 [00:06<00:00,  1.72s/it]\n"
     ]
    },
    {
     "name": "stdout",
     "output_type": "stream",
     "text": [
      "                   all         64        674      0.895      0.845      0.863      0.674      0.888      0.832      0.848      0.565\n",
      "Speed: 6.9ms preprocess, 21.8ms inference, 0.0ms loss, 3.2ms postprocess per image\n",
      "Results saved to \u001b[1mc:\\Users\\nadyl\\Documents\\GitHub\\nornnickel_hac\\runs\\segment\\train132\u001b[0m\n",
      "ultralytics.utils.metrics.SegmentMetrics object with attributes:\n",
      "\n",
      "ap_class_index: array([0])\n",
      "box: ultralytics.utils.metrics.Metric object\n",
      "confusion_matrix: <ultralytics.utils.metrics.ConfusionMatrix object at 0x000001F783E13C70>\n",
      "curves: ['Precision-Recall(B)', 'F1-Confidence(B)', 'Precision-Confidence(B)', 'Recall-Confidence(B)', 'Precision-Recall(M)', 'F1-Confidence(M)', 'Precision-Confidence(M)', 'Recall-Confidence(M)']\n",
      "curves_results: [[array([          0,    0.001001,    0.002002,    0.003003,    0.004004,    0.005005,    0.006006,    0.007007,    0.008008,    0.009009,     0.01001,    0.011011,    0.012012,    0.013013,    0.014014,    0.015015,    0.016016,    0.017017,    0.018018,    0.019019,     0.02002,    0.021021,    0.022022,    0.023023,\n",
      "          0.024024,    0.025025,    0.026026,    0.027027,    0.028028,    0.029029,     0.03003,    0.031031,    0.032032,    0.033033,    0.034034,    0.035035,    0.036036,    0.037037,    0.038038,    0.039039,     0.04004,    0.041041,    0.042042,    0.043043,    0.044044,    0.045045,    0.046046,    0.047047,\n",
      "          0.048048,    0.049049,     0.05005,    0.051051,    0.052052,    0.053053,    0.054054,    0.055055,    0.056056,    0.057057,    0.058058,    0.059059,     0.06006,    0.061061,    0.062062,    0.063063,    0.064064,    0.065065,    0.066066,    0.067067,    0.068068,    0.069069,     0.07007,    0.071071,\n",
      "          0.072072,    0.073073,    0.074074,    0.075075,    0.076076,    0.077077,    0.078078,    0.079079,     0.08008,    0.081081,    0.082082,    0.083083,    0.084084,    0.085085,    0.086086,    0.087087,    0.088088,    0.089089,     0.09009,    0.091091,    0.092092,    0.093093,    0.094094,    0.095095,\n",
      "          0.096096,    0.097097,    0.098098,    0.099099,      0.1001,      0.1011,      0.1021,      0.1031,      0.1041,     0.10511,     0.10611,     0.10711,     0.10811,     0.10911,     0.11011,     0.11111,     0.11211,     0.11311,     0.11411,     0.11512,     0.11612,     0.11712,     0.11812,     0.11912,\n",
      "           0.12012,     0.12112,     0.12212,     0.12312,     0.12412,     0.12513,     0.12613,     0.12713,     0.12813,     0.12913,     0.13013,     0.13113,     0.13213,     0.13313,     0.13413,     0.13514,     0.13614,     0.13714,     0.13814,     0.13914,     0.14014,     0.14114,     0.14214,     0.14314,\n",
      "           0.14414,     0.14515,     0.14615,     0.14715,     0.14815,     0.14915,     0.15015,     0.15115,     0.15215,     0.15315,     0.15415,     0.15516,     0.15616,     0.15716,     0.15816,     0.15916,     0.16016,     0.16116,     0.16216,     0.16316,     0.16416,     0.16517,     0.16617,     0.16717,\n",
      "           0.16817,     0.16917,     0.17017,     0.17117,     0.17217,     0.17317,     0.17417,     0.17518,     0.17618,     0.17718,     0.17818,     0.17918,     0.18018,     0.18118,     0.18218,     0.18318,     0.18418,     0.18519,     0.18619,     0.18719,     0.18819,     0.18919,     0.19019,     0.19119,\n",
      "           0.19219,     0.19319,     0.19419,      0.1952,      0.1962,      0.1972,      0.1982,      0.1992,      0.2002,      0.2012,      0.2022,      0.2032,      0.2042,     0.20521,     0.20621,     0.20721,     0.20821,     0.20921,     0.21021,     0.21121,     0.21221,     0.21321,     0.21421,     0.21522,\n",
      "           0.21622,     0.21722,     0.21822,     0.21922,     0.22022,     0.22122,     0.22222,     0.22322,     0.22422,     0.22523,     0.22623,     0.22723,     0.22823,     0.22923,     0.23023,     0.23123,     0.23223,     0.23323,     0.23423,     0.23524,     0.23624,     0.23724,     0.23824,     0.23924,\n",
      "           0.24024,     0.24124,     0.24224,     0.24324,     0.24424,     0.24525,     0.24625,     0.24725,     0.24825,     0.24925,     0.25025,     0.25125,     0.25225,     0.25325,     0.25425,     0.25526,     0.25626,     0.25726,     0.25826,     0.25926,     0.26026,     0.26126,     0.26226,     0.26326,\n",
      "           0.26426,     0.26527,     0.26627,     0.26727,     0.26827,     0.26927,     0.27027,     0.27127,     0.27227,     0.27327,     0.27427,     0.27528,     0.27628,     0.27728,     0.27828,     0.27928,     0.28028,     0.28128,     0.28228,     0.28328,     0.28428,     0.28529,     0.28629,     0.28729,\n",
      "           0.28829,     0.28929,     0.29029,     0.29129,     0.29229,     0.29329,     0.29429,      0.2953,      0.2963,      0.2973,      0.2983,      0.2993,      0.3003,      0.3013,      0.3023,      0.3033,      0.3043,     0.30531,     0.30631,     0.30731,     0.30831,     0.30931,     0.31031,     0.31131,\n",
      "           0.31231,     0.31331,     0.31431,     0.31532,     0.31632,     0.31732,     0.31832,     0.31932,     0.32032,     0.32132,     0.32232,     0.32332,     0.32432,     0.32533,     0.32633,     0.32733,     0.32833,     0.32933,     0.33033,     0.33133,     0.33233,     0.33333,     0.33433,     0.33534,\n",
      "           0.33634,     0.33734,     0.33834,     0.33934,     0.34034,     0.34134,     0.34234,     0.34334,     0.34434,     0.34535,     0.34635,     0.34735,     0.34835,     0.34935,     0.35035,     0.35135,     0.35235,     0.35335,     0.35435,     0.35536,     0.35636,     0.35736,     0.35836,     0.35936,\n",
      "           0.36036,     0.36136,     0.36236,     0.36336,     0.36436,     0.36537,     0.36637,     0.36737,     0.36837,     0.36937,     0.37037,     0.37137,     0.37237,     0.37337,     0.37437,     0.37538,     0.37638,     0.37738,     0.37838,     0.37938,     0.38038,     0.38138,     0.38238,     0.38338,\n",
      "           0.38438,     0.38539,     0.38639,     0.38739,     0.38839,     0.38939,     0.39039,     0.39139,     0.39239,     0.39339,     0.39439,      0.3954,      0.3964,      0.3974,      0.3984,      0.3994,      0.4004,      0.4014,      0.4024,      0.4034,      0.4044,     0.40541,     0.40641,     0.40741,\n",
      "           0.40841,     0.40941,     0.41041,     0.41141,     0.41241,     0.41341,     0.41441,     0.41542,     0.41642,     0.41742,     0.41842,     0.41942,     0.42042,     0.42142,     0.42242,     0.42342,     0.42442,     0.42543,     0.42643,     0.42743,     0.42843,     0.42943,     0.43043,     0.43143,\n",
      "           0.43243,     0.43343,     0.43443,     0.43544,     0.43644,     0.43744,     0.43844,     0.43944,     0.44044,     0.44144,     0.44244,     0.44344,     0.44444,     0.44545,     0.44645,     0.44745,     0.44845,     0.44945,     0.45045,     0.45145,     0.45245,     0.45345,     0.45445,     0.45546,\n",
      "           0.45646,     0.45746,     0.45846,     0.45946,     0.46046,     0.46146,     0.46246,     0.46346,     0.46446,     0.46547,     0.46647,     0.46747,     0.46847,     0.46947,     0.47047,     0.47147,     0.47247,     0.47347,     0.47447,     0.47548,     0.47648,     0.47748,     0.47848,     0.47948,\n",
      "           0.48048,     0.48148,     0.48248,     0.48348,     0.48448,     0.48549,     0.48649,     0.48749,     0.48849,     0.48949,     0.49049,     0.49149,     0.49249,     0.49349,     0.49449,      0.4955,      0.4965,      0.4975,      0.4985,      0.4995,      0.5005,      0.5015,      0.5025,      0.5035,\n",
      "            0.5045,     0.50551,     0.50651,     0.50751,     0.50851,     0.50951,     0.51051,     0.51151,     0.51251,     0.51351,     0.51451,     0.51552,     0.51652,     0.51752,     0.51852,     0.51952,     0.52052,     0.52152,     0.52252,     0.52352,     0.52452,     0.52553,     0.52653,     0.52753,\n",
      "           0.52853,     0.52953,     0.53053,     0.53153,     0.53253,     0.53353,     0.53453,     0.53554,     0.53654,     0.53754,     0.53854,     0.53954,     0.54054,     0.54154,     0.54254,     0.54354,     0.54454,     0.54555,     0.54655,     0.54755,     0.54855,     0.54955,     0.55055,     0.55155,\n",
      "           0.55255,     0.55355,     0.55455,     0.55556,     0.55656,     0.55756,     0.55856,     0.55956,     0.56056,     0.56156,     0.56256,     0.56356,     0.56456,     0.56557,     0.56657,     0.56757,     0.56857,     0.56957,     0.57057,     0.57157,     0.57257,     0.57357,     0.57457,     0.57558,\n",
      "           0.57658,     0.57758,     0.57858,     0.57958,     0.58058,     0.58158,     0.58258,     0.58358,     0.58458,     0.58559,     0.58659,     0.58759,     0.58859,     0.58959,     0.59059,     0.59159,     0.59259,     0.59359,     0.59459,      0.5956,      0.5966,      0.5976,      0.5986,      0.5996,\n",
      "            0.6006,      0.6016,      0.6026,      0.6036,      0.6046,     0.60561,     0.60661,     0.60761,     0.60861,     0.60961,     0.61061,     0.61161,     0.61261,     0.61361,     0.61461,     0.61562,     0.61662,     0.61762,     0.61862,     0.61962,     0.62062,     0.62162,     0.62262,     0.62362,\n",
      "           0.62462,     0.62563,     0.62663,     0.62763,     0.62863,     0.62963,     0.63063,     0.63163,     0.63263,     0.63363,     0.63463,     0.63564,     0.63664,     0.63764,     0.63864,     0.63964,     0.64064,     0.64164,     0.64264,     0.64364,     0.64464,     0.64565,     0.64665,     0.64765,\n",
      "           0.64865,     0.64965,     0.65065,     0.65165,     0.65265,     0.65365,     0.65465,     0.65566,     0.65666,     0.65766,     0.65866,     0.65966,     0.66066,     0.66166,     0.66266,     0.66366,     0.66466,     0.66567,     0.66667,     0.66767,     0.66867,     0.66967,     0.67067,     0.67167,\n",
      "           0.67267,     0.67367,     0.67467,     0.67568,     0.67668,     0.67768,     0.67868,     0.67968,     0.68068,     0.68168,     0.68268,     0.68368,     0.68468,     0.68569,     0.68669,     0.68769,     0.68869,     0.68969,     0.69069,     0.69169,     0.69269,     0.69369,     0.69469,      0.6957,\n",
      "            0.6967,      0.6977,      0.6987,      0.6997,      0.7007,      0.7017,      0.7027,      0.7037,      0.7047,     0.70571,     0.70671,     0.70771,     0.70871,     0.70971,     0.71071,     0.71171,     0.71271,     0.71371,     0.71471,     0.71572,     0.71672,     0.71772,     0.71872,     0.71972,\n",
      "           0.72072,     0.72172,     0.72272,     0.72372,     0.72472,     0.72573,     0.72673,     0.72773,     0.72873,     0.72973,     0.73073,     0.73173,     0.73273,     0.73373,     0.73473,     0.73574,     0.73674,     0.73774,     0.73874,     0.73974,     0.74074,     0.74174,     0.74274,     0.74374,\n",
      "           0.74474,     0.74575,     0.74675,     0.74775,     0.74875,     0.74975,     0.75075,     0.75175,     0.75275,     0.75375,     0.75475,     0.75576,     0.75676,     0.75776,     0.75876,     0.75976,     0.76076,     0.76176,     0.76276,     0.76376,     0.76476,     0.76577,     0.76677,     0.76777,\n",
      "           0.76877,     0.76977,     0.77077,     0.77177,     0.77277,     0.77377,     0.77477,     0.77578,     0.77678,     0.77778,     0.77878,     0.77978,     0.78078,     0.78178,     0.78278,     0.78378,     0.78478,     0.78579,     0.78679,     0.78779,     0.78879,     0.78979,     0.79079,     0.79179,\n",
      "           0.79279,     0.79379,     0.79479,      0.7958,      0.7968,      0.7978,      0.7988,      0.7998,      0.8008,      0.8018,      0.8028,      0.8038,      0.8048,     0.80581,     0.80681,     0.80781,     0.80881,     0.80981,     0.81081,     0.81181,     0.81281,     0.81381,     0.81481,     0.81582,\n",
      "           0.81682,     0.81782,     0.81882,     0.81982,     0.82082,     0.82182,     0.82282,     0.82382,     0.82482,     0.82583,     0.82683,     0.82783,     0.82883,     0.82983,     0.83083,     0.83183,     0.83283,     0.83383,     0.83483,     0.83584,     0.83684,     0.83784,     0.83884,     0.83984,\n",
      "           0.84084,     0.84184,     0.84284,     0.84384,     0.84484,     0.84585,     0.84685,     0.84785,     0.84885,     0.84985,     0.85085,     0.85185,     0.85285,     0.85385,     0.85485,     0.85586,     0.85686,     0.85786,     0.85886,     0.85986,     0.86086,     0.86186,     0.86286,     0.86386,\n",
      "           0.86486,     0.86587,     0.86687,     0.86787,     0.86887,     0.86987,     0.87087,     0.87187,     0.87287,     0.87387,     0.87487,     0.87588,     0.87688,     0.87788,     0.87888,     0.87988,     0.88088,     0.88188,     0.88288,     0.88388,     0.88488,     0.88589,     0.88689,     0.88789,\n",
      "           0.88889,     0.88989,     0.89089,     0.89189,     0.89289,     0.89389,     0.89489,      0.8959,      0.8969,      0.8979,      0.8989,      0.8999,      0.9009,      0.9019,      0.9029,      0.9039,      0.9049,     0.90591,     0.90691,     0.90791,     0.90891,     0.90991,     0.91091,     0.91191,\n",
      "           0.91291,     0.91391,     0.91491,     0.91592,     0.91692,     0.91792,     0.91892,     0.91992,     0.92092,     0.92192,     0.92292,     0.92392,     0.92492,     0.92593,     0.92693,     0.92793,     0.92893,     0.92993,     0.93093,     0.93193,     0.93293,     0.93393,     0.93493,     0.93594,\n",
      "           0.93694,     0.93794,     0.93894,     0.93994,     0.94094,     0.94194,     0.94294,     0.94394,     0.94494,     0.94595,     0.94695,     0.94795,     0.94895,     0.94995,     0.95095,     0.95195,     0.95295,     0.95395,     0.95495,     0.95596,     0.95696,     0.95796,     0.95896,     0.95996,\n",
      "           0.96096,     0.96196,     0.96296,     0.96396,     0.96496,     0.96597,     0.96697,     0.96797,     0.96897,     0.96997,     0.97097,     0.97197,     0.97297,     0.97397,     0.97497,     0.97598,     0.97698,     0.97798,     0.97898,     0.97998,     0.98098,     0.98198,     0.98298,     0.98398,\n",
      "           0.98498,     0.98599,     0.98699,     0.98799,     0.98899,     0.98999,     0.99099,     0.99199,     0.99299,     0.99399,     0.99499,       0.996,       0.997,       0.998,       0.999,           1]), array([[          1,           1,           1,           1,           1,           1,           1,           1,           1,           1,           1,           1,           1,           1,           1,           1,           1,           1,           1,           1,           1,           1,           1,\n",
      "                  1,           1,           1,      0.9812,      0.9812,      0.9812,      0.9812,      0.9812,      0.9812,      0.9812,      0.9812,      0.9812,      0.9812,      0.9812,      0.9812,      0.9812,      0.9812,      0.9812,      0.9812,      0.9812,      0.9812,      0.9812,      0.9812,\n",
      "             0.9812,      0.9812,      0.9812,      0.9812,      0.9812,      0.9812,      0.9812,      0.9812,      0.9812,      0.9812,      0.9812,      0.9812,      0.9812,      0.9812,      0.9812,      0.9812,      0.9812,      0.9812,      0.9812,      0.9812,      0.9812,      0.9812,      0.9812,\n",
      "             0.9812,      0.9812,      0.9812,      0.9812,      0.9812,      0.9812,      0.9812,      0.9812,      0.9812,      0.9812,      0.9812,      0.9812,      0.9812,      0.9812,      0.9812,      0.9812,      0.9812,      0.9812,      0.9812,      0.9812,      0.9812,      0.9812,      0.9812,\n",
      "             0.9812,      0.9812,      0.9812,      0.9812,      0.9812,      0.9812,      0.9812,      0.9812,      0.9812,      0.9812,      0.9812,      0.9812,      0.9812,      0.9812,      0.9812,      0.9812,      0.9812,      0.9812,      0.9812,      0.9812,      0.9812,      0.9812,      0.9812,\n",
      "             0.9812,      0.9812,      0.9812,      0.9812,      0.9812,      0.9812,      0.9812,      0.9812,      0.9812,      0.9812,      0.9812,      0.9812,      0.9812,      0.9812,      0.9812,      0.9812,      0.9812,      0.9812,      0.9812,      0.9812,      0.9812,      0.9812,      0.9812,\n",
      "             0.9812,      0.9812,      0.9812,      0.9812,      0.9812,      0.9812,      0.9812,      0.9812,      0.9812,      0.9812,      0.9812,      0.9812,      0.9812,      0.9812,      0.9812,      0.9812,      0.9812,      0.9812,      0.9812,      0.9812,      0.9812,      0.9812,      0.9812,\n",
      "             0.9812,      0.9812,      0.9812,      0.9812,      0.9812,      0.9812,      0.9812,      0.9812,      0.9812,      0.9812,      0.9812,      0.9812,      0.9812,      0.9812,      0.9812,      0.9812,      0.9812,      0.9812,      0.9812,      0.9812,      0.9812,      0.9812,      0.9812,\n",
      "             0.9812,      0.9812,      0.9812,      0.9812,      0.9812,      0.9812,      0.9812,      0.9812,      0.9812,      0.9812,      0.9812,      0.9812,      0.9812,      0.9812,      0.9812,      0.9812,      0.9812,      0.9812,      0.9812,      0.9812,      0.9812,      0.9812,      0.9812,\n",
      "             0.9812,      0.9812,      0.9812,      0.9812,      0.9812,      0.9812,      0.9812,      0.9812,      0.9812,      0.9812,      0.9812,      0.9812,      0.9812,      0.9812,      0.9812,      0.9812,      0.9812,      0.9812,      0.9812,      0.9812,      0.9812,      0.9812,      0.9812,\n",
      "             0.9812,      0.9812,      0.9812,      0.9812,      0.9812,      0.9812,      0.9812,      0.9812,      0.9812,      0.9812,      0.9812,      0.9812,      0.9812,      0.9812,      0.9812,      0.9812,      0.9812,      0.9812,      0.9812,      0.9812,      0.9812,      0.9812,      0.9812,\n",
      "             0.9812,      0.9812,      0.9812,      0.9812,      0.9812,      0.9812,      0.9812,      0.9812,      0.9812,      0.9812,      0.9812,      0.9812,      0.9812,      0.9812,      0.9812,      0.9812,      0.9812,      0.9812,      0.9812,      0.9812,      0.9812,      0.9812,      0.9812,\n",
      "             0.9812,      0.9812,      0.9812,      0.9812,      0.9812,      0.9812,      0.9812,      0.9812,      0.9812,      0.9812,      0.9812,      0.9812,      0.9812,      0.9812,      0.9812,      0.9812,      0.9812,      0.9812,      0.9812,      0.9812,      0.9812,      0.9812,      0.9812,\n",
      "             0.9812,      0.9812,      0.9812,      0.9812,      0.9812,      0.9812,      0.9812,      0.9812,      0.9812,      0.9812,      0.9812,      0.9812,      0.9812,      0.9812,      0.9812,      0.9812,      0.9812,      0.9812,      0.9812,      0.9812,      0.9812,      0.9812,      0.9812,\n",
      "             0.9812,      0.9812,      0.9812,      0.9812,      0.9812,      0.9812,      0.9812,      0.9812,      0.9812,      0.9812,      0.9812,      0.9812,      0.9812,      0.9812,      0.9812,      0.9812,      0.9812,      0.9812,      0.9812,      0.9812,      0.9812,      0.9812,      0.9812,\n",
      "             0.9812,      0.9812,      0.9812,      0.9812,      0.9812,      0.9812,      0.9812,      0.9812,      0.9812,      0.9812,      0.9812,      0.9812,      0.9812,      0.9812,      0.9812,      0.9812,      0.9812,      0.9812,      0.9812,      0.9812,      0.9812,      0.9812,      0.9812,\n",
      "             0.9812,      0.9812,      0.9812,      0.9812,      0.9812,      0.9812,      0.9812,      0.9812,      0.9812,      0.9812,      0.9812,      0.9812,      0.9812,      0.9812,      0.9812,      0.9812,      0.9812,      0.9812,      0.9812,     0.97872,     0.97872,     0.97872,     0.97872,\n",
      "            0.97872,     0.97872,     0.97872,     0.97872,     0.97872,     0.97872,     0.97872,     0.97872,     0.97872,     0.97872,     0.97872,     0.97872,     0.97872,     0.97872,     0.97872,     0.97872,     0.97872,     0.97872,     0.97872,      0.9769,      0.9769,      0.9769,      0.9769,\n",
      "             0.9769,      0.9769,      0.9769,      0.9769,      0.9769,      0.9769,      0.9769,      0.9769,      0.9769,      0.9769,      0.9769,      0.9769,      0.9769,      0.9769,      0.9769,      0.9769,      0.9769,      0.9769,      0.9769,      0.9769,      0.9769,      0.9769,      0.9769,\n",
      "             0.9769,      0.9769,     0.97078,     0.97078,     0.97078,     0.97078,     0.97078,     0.96835,     0.96835,     0.96835,     0.96835,     0.96835,     0.96835,     0.96835,     0.96835,     0.96835,     0.96835,     0.96707,     0.96707,     0.96707,     0.96707,     0.96707,     0.96707,\n",
      "            0.96707,     0.96707,     0.96707,     0.96707,     0.96707,     0.96707,     0.96707,     0.96707,     0.96707,     0.96707,     0.96707,     0.96707,     0.96707,     0.96707,     0.96707,     0.96707,     0.96707,     0.96707,     0.96707,     0.96501,     0.96501,     0.96501,     0.96501,\n",
      "            0.96501,     0.96501,     0.96501,     0.96501,     0.96501,     0.96501,     0.96501,     0.96501,     0.96458,     0.96458,     0.96458,     0.96458,     0.96458,     0.96458,     0.96458,     0.96458,     0.96458,     0.96458,     0.96458,     0.96458,     0.96458,     0.96458,     0.96458,\n",
      "            0.96458,     0.96458,     0.96458,     0.96458,     0.96458,     0.96458,     0.96458,     0.96458,     0.96458,     0.96458,     0.96458,     0.96458,     0.96458,     0.96458,     0.96458,     0.96458,     0.96458,     0.96458,     0.96458,     0.96296,     0.96296,     0.96296,     0.96296,\n",
      "            0.96296,     0.96296,     0.96296,     0.96296,     0.96296,     0.96296,     0.96296,     0.96296,     0.96296,     0.96296,     0.96296,     0.96114,     0.96114,     0.96114,     0.96114,     0.96114,     0.96114,     0.96114,     0.96114,     0.96114,     0.96114,     0.95929,     0.95929,\n",
      "            0.95929,     0.95929,     0.95929,     0.95929,     0.95929,     0.95929,     0.95929,      0.9562,      0.9562,      0.9562,      0.9562,      0.9562,      0.9562,      0.9562,      0.9562,      0.9562,      0.9562,      0.9562,      0.9562,      0.9562,      0.9562,      0.9562,      0.9562,\n",
      "             0.9562,      0.9562,      0.9562,      0.9562,      0.9562,      0.9562,      0.9562,      0.9562,     0.95411,     0.95411,     0.95411,     0.95227,     0.95227,     0.95227,     0.95227,     0.95227,     0.95227,     0.95139,     0.95139,     0.95139,     0.95139,     0.95139,     0.95139,\n",
      "            0.95139,     0.95139,     0.95139,     0.95139,     0.95139,     0.95139,     0.95139,     0.95139,     0.95139,     0.95139,     0.95139,     0.95139,     0.95034,     0.95034,     0.95034,     0.95034,     0.95034,     0.95034,     0.95034,     0.95034,     0.95034,     0.95034,     0.95034,\n",
      "            0.95034,     0.95034,     0.95034,     0.95034,     0.94978,     0.94978,     0.94978,     0.94978,     0.94978,     0.94978,     0.94978,     0.94978,     0.94978,     0.94978,     0.94978,     0.94978,     0.94978,     0.94978,     0.94978,     0.94978,     0.94978,     0.94978,     0.94978,\n",
      "            0.94978,     0.94926,     0.94926,     0.94926,     0.94926,     0.94926,     0.94926,     0.94926,     0.94926,     0.94926,     0.94926,     0.94926,     0.94926,     0.94926,     0.94926,     0.94926,     0.94926,     0.94926,     0.94926,     0.94926,     0.94926,     0.94926,     0.94643,\n",
      "            0.94643,     0.94643,     0.94643,     0.94643,     0.94643,     0.94643,     0.94643,     0.94643,     0.94643,     0.94643,     0.94643,     0.94643,     0.94643,     0.94643,     0.94643,     0.94643,     0.94643,     0.94643,     0.94643,     0.94643,     0.94643,     0.94643,     0.94643,\n",
      "            0.94643,     0.94643,     0.94643,     0.94643,     0.94643,     0.94643,     0.94643,     0.94643,     0.94643,     0.94643,     0.94643,     0.94643,     0.94643,     0.94643,     0.94643,     0.94643,     0.94643,     0.94643,     0.94303,     0.94303,     0.94303,     0.94303,     0.94186,\n",
      "            0.94186,     0.94186,     0.94186,     0.94186,     0.94186,     0.94186,     0.94186,     0.94186,     0.93939,     0.93939,     0.93939,     0.93939,     0.93939,     0.93939,     0.93939,     0.93939,     0.93939,     0.93939,     0.93939,     0.93939,     0.93939,     0.93939,     0.93939,\n",
      "            0.93774,     0.93621,     0.93621,     0.93621,     0.93458,     0.93458,     0.93309,     0.93309,     0.93309,     0.93186,     0.93186,     0.93186,     0.93186,     0.93186,      0.9304,      0.9304,      0.9304,     0.92909,     0.92909,     0.92909,     0.92909,     0.92909,     0.92782,\n",
      "            0.92782,     0.92782,     0.92782,     0.92782,     0.92782,     0.92782,     0.92782,     0.92782,     0.92782,     0.92782,     0.92782,     0.92782,     0.92782,     0.92782,     0.92782,     0.92782,     0.92782,     0.92782,     0.92782,     0.92782,     0.92782,     0.92782,     0.92782,\n",
      "            0.92509,     0.92509,     0.92509,     0.92509,     0.92509,     0.92509,     0.92374,     0.92374,     0.92374,     0.92123,     0.92123,     0.92123,     0.92123,     0.92123,     0.92123,     0.92123,     0.92007,     0.92007,     0.92007,     0.92007,     0.91568,     0.91568,     0.91568,\n",
      "            0.91429,     0.91429,     0.90985,     0.90713,     0.90713,     0.90713,     0.90579,     0.90579,     0.90507,     0.90507,     0.90507,     0.90507,     0.90507,     0.90507,     0.90507,     0.90375,     0.90375,     0.89968,     0.89968,     0.89968,     0.89952,     0.89952,     0.89952,\n",
      "            0.89952,     0.89952,     0.89952,     0.89952,     0.89952,     0.89952,     0.89952,     0.89952,     0.89715,     0.89715,     0.89715,     0.89715,     0.89715,     0.89482,     0.89482,     0.89482,     0.89482,      0.8839,      0.8839,     0.87596,     0.87481,     0.87481,     0.86989,\n",
      "            0.86989,     0.86989,     0.85587,     0.85481,     0.85481,     0.83647,      0.8307,      0.8307,     0.82504,     0.81831,     0.81831,     0.81653,     0.81653,     0.81653,     0.81224,     0.81137,     0.81137,     0.81051,     0.80966,     0.80966,     0.80796,     0.80796,     0.80796,\n",
      "            0.80272,     0.79223,     0.78411,     0.78411,     0.77314,     0.76843,     0.76843,     0.75604,     0.75253,     0.75253,     0.74906,      0.7475,      0.7475,     0.72169,     0.62565,     0.62565,     0.56485,     0.56262,     0.56262,     0.52028,     0.43547,     0.43547,     0.41927,\n",
      "            0.41422,     0.41422,     0.40305,     0.38751,     0.38751,     0.34252,     0.31476,     0.31476,     0.24548,     0.20072,     0.20072,     0.18786,     0.15977,     0.15977,     0.13712,     0.11012,     0.11012,     0.10342,    0.078586,    0.072944,    0.072065,    0.071186,    0.070307,\n",
      "           0.069428,    0.068549,    0.067671,    0.066792,    0.065913,    0.065034,    0.064155,    0.063276,    0.062398,    0.061519,     0.06064,    0.059761,    0.058882,    0.058003,    0.057124,    0.056246,    0.055367,    0.054488,    0.053609,     0.05273,    0.051851,    0.050973,    0.050094,\n",
      "           0.049215,    0.048336,    0.047457,    0.046578,      0.0457,    0.044821,    0.043942,    0.043063,    0.042184,    0.041305,    0.040427,    0.039548,    0.038669,     0.03779,    0.036911,    0.036032,    0.035154,    0.034275,    0.033396,    0.032517,    0.031638,    0.030759,     0.02988,\n",
      "           0.029002,    0.028123,    0.027244,    0.026365,    0.025486,    0.024607,    0.023729,     0.02285,    0.021971,    0.021092,    0.020213,    0.019334,    0.018456,    0.017577,    0.016698,    0.015819,     0.01494,    0.014061,    0.013183,    0.012304,    0.011425,    0.010546,   0.0096672,\n",
      "          0.0087884,   0.0079095,   0.0070307,   0.0061519,    0.005273,   0.0043942,   0.0035154,   0.0026365,   0.0017577,  0.00087884,           0]]), 'Recall', 'Precision'], [array([          0,    0.001001,    0.002002,    0.003003,    0.004004,    0.005005,    0.006006,    0.007007,    0.008008,    0.009009,     0.01001,    0.011011,    0.012012,    0.013013,    0.014014,    0.015015,    0.016016,    0.017017,    0.018018,    0.019019,     0.02002,    0.021021,    0.022022,    0.023023,\n",
      "          0.024024,    0.025025,    0.026026,    0.027027,    0.028028,    0.029029,     0.03003,    0.031031,    0.032032,    0.033033,    0.034034,    0.035035,    0.036036,    0.037037,    0.038038,    0.039039,     0.04004,    0.041041,    0.042042,    0.043043,    0.044044,    0.045045,    0.046046,    0.047047,\n",
      "          0.048048,    0.049049,     0.05005,    0.051051,    0.052052,    0.053053,    0.054054,    0.055055,    0.056056,    0.057057,    0.058058,    0.059059,     0.06006,    0.061061,    0.062062,    0.063063,    0.064064,    0.065065,    0.066066,    0.067067,    0.068068,    0.069069,     0.07007,    0.071071,\n",
      "          0.072072,    0.073073,    0.074074,    0.075075,    0.076076,    0.077077,    0.078078,    0.079079,     0.08008,    0.081081,    0.082082,    0.083083,    0.084084,    0.085085,    0.086086,    0.087087,    0.088088,    0.089089,     0.09009,    0.091091,    0.092092,    0.093093,    0.094094,    0.095095,\n",
      "          0.096096,    0.097097,    0.098098,    0.099099,      0.1001,      0.1011,      0.1021,      0.1031,      0.1041,     0.10511,     0.10611,     0.10711,     0.10811,     0.10911,     0.11011,     0.11111,     0.11211,     0.11311,     0.11411,     0.11512,     0.11612,     0.11712,     0.11812,     0.11912,\n",
      "           0.12012,     0.12112,     0.12212,     0.12312,     0.12412,     0.12513,     0.12613,     0.12713,     0.12813,     0.12913,     0.13013,     0.13113,     0.13213,     0.13313,     0.13413,     0.13514,     0.13614,     0.13714,     0.13814,     0.13914,     0.14014,     0.14114,     0.14214,     0.14314,\n",
      "           0.14414,     0.14515,     0.14615,     0.14715,     0.14815,     0.14915,     0.15015,     0.15115,     0.15215,     0.15315,     0.15415,     0.15516,     0.15616,     0.15716,     0.15816,     0.15916,     0.16016,     0.16116,     0.16216,     0.16316,     0.16416,     0.16517,     0.16617,     0.16717,\n",
      "           0.16817,     0.16917,     0.17017,     0.17117,     0.17217,     0.17317,     0.17417,     0.17518,     0.17618,     0.17718,     0.17818,     0.17918,     0.18018,     0.18118,     0.18218,     0.18318,     0.18418,     0.18519,     0.18619,     0.18719,     0.18819,     0.18919,     0.19019,     0.19119,\n",
      "           0.19219,     0.19319,     0.19419,      0.1952,      0.1962,      0.1972,      0.1982,      0.1992,      0.2002,      0.2012,      0.2022,      0.2032,      0.2042,     0.20521,     0.20621,     0.20721,     0.20821,     0.20921,     0.21021,     0.21121,     0.21221,     0.21321,     0.21421,     0.21522,\n",
      "           0.21622,     0.21722,     0.21822,     0.21922,     0.22022,     0.22122,     0.22222,     0.22322,     0.22422,     0.22523,     0.22623,     0.22723,     0.22823,     0.22923,     0.23023,     0.23123,     0.23223,     0.23323,     0.23423,     0.23524,     0.23624,     0.23724,     0.23824,     0.23924,\n",
      "           0.24024,     0.24124,     0.24224,     0.24324,     0.24424,     0.24525,     0.24625,     0.24725,     0.24825,     0.24925,     0.25025,     0.25125,     0.25225,     0.25325,     0.25425,     0.25526,     0.25626,     0.25726,     0.25826,     0.25926,     0.26026,     0.26126,     0.26226,     0.26326,\n",
      "           0.26426,     0.26527,     0.26627,     0.26727,     0.26827,     0.26927,     0.27027,     0.27127,     0.27227,     0.27327,     0.27427,     0.27528,     0.27628,     0.27728,     0.27828,     0.27928,     0.28028,     0.28128,     0.28228,     0.28328,     0.28428,     0.28529,     0.28629,     0.28729,\n",
      "           0.28829,     0.28929,     0.29029,     0.29129,     0.29229,     0.29329,     0.29429,      0.2953,      0.2963,      0.2973,      0.2983,      0.2993,      0.3003,      0.3013,      0.3023,      0.3033,      0.3043,     0.30531,     0.30631,     0.30731,     0.30831,     0.30931,     0.31031,     0.31131,\n",
      "           0.31231,     0.31331,     0.31431,     0.31532,     0.31632,     0.31732,     0.31832,     0.31932,     0.32032,     0.32132,     0.32232,     0.32332,     0.32432,     0.32533,     0.32633,     0.32733,     0.32833,     0.32933,     0.33033,     0.33133,     0.33233,     0.33333,     0.33433,     0.33534,\n",
      "           0.33634,     0.33734,     0.33834,     0.33934,     0.34034,     0.34134,     0.34234,     0.34334,     0.34434,     0.34535,     0.34635,     0.34735,     0.34835,     0.34935,     0.35035,     0.35135,     0.35235,     0.35335,     0.35435,     0.35536,     0.35636,     0.35736,     0.35836,     0.35936,\n",
      "           0.36036,     0.36136,     0.36236,     0.36336,     0.36436,     0.36537,     0.36637,     0.36737,     0.36837,     0.36937,     0.37037,     0.37137,     0.37237,     0.37337,     0.37437,     0.37538,     0.37638,     0.37738,     0.37838,     0.37938,     0.38038,     0.38138,     0.38238,     0.38338,\n",
      "           0.38438,     0.38539,     0.38639,     0.38739,     0.38839,     0.38939,     0.39039,     0.39139,     0.39239,     0.39339,     0.39439,      0.3954,      0.3964,      0.3974,      0.3984,      0.3994,      0.4004,      0.4014,      0.4024,      0.4034,      0.4044,     0.40541,     0.40641,     0.40741,\n",
      "           0.40841,     0.40941,     0.41041,     0.41141,     0.41241,     0.41341,     0.41441,     0.41542,     0.41642,     0.41742,     0.41842,     0.41942,     0.42042,     0.42142,     0.42242,     0.42342,     0.42442,     0.42543,     0.42643,     0.42743,     0.42843,     0.42943,     0.43043,     0.43143,\n",
      "           0.43243,     0.43343,     0.43443,     0.43544,     0.43644,     0.43744,     0.43844,     0.43944,     0.44044,     0.44144,     0.44244,     0.44344,     0.44444,     0.44545,     0.44645,     0.44745,     0.44845,     0.44945,     0.45045,     0.45145,     0.45245,     0.45345,     0.45445,     0.45546,\n",
      "           0.45646,     0.45746,     0.45846,     0.45946,     0.46046,     0.46146,     0.46246,     0.46346,     0.46446,     0.46547,     0.46647,     0.46747,     0.46847,     0.46947,     0.47047,     0.47147,     0.47247,     0.47347,     0.47447,     0.47548,     0.47648,     0.47748,     0.47848,     0.47948,\n",
      "           0.48048,     0.48148,     0.48248,     0.48348,     0.48448,     0.48549,     0.48649,     0.48749,     0.48849,     0.48949,     0.49049,     0.49149,     0.49249,     0.49349,     0.49449,      0.4955,      0.4965,      0.4975,      0.4985,      0.4995,      0.5005,      0.5015,      0.5025,      0.5035,\n",
      "            0.5045,     0.50551,     0.50651,     0.50751,     0.50851,     0.50951,     0.51051,     0.51151,     0.51251,     0.51351,     0.51451,     0.51552,     0.51652,     0.51752,     0.51852,     0.51952,     0.52052,     0.52152,     0.52252,     0.52352,     0.52452,     0.52553,     0.52653,     0.52753,\n",
      "           0.52853,     0.52953,     0.53053,     0.53153,     0.53253,     0.53353,     0.53453,     0.53554,     0.53654,     0.53754,     0.53854,     0.53954,     0.54054,     0.54154,     0.54254,     0.54354,     0.54454,     0.54555,     0.54655,     0.54755,     0.54855,     0.54955,     0.55055,     0.55155,\n",
      "           0.55255,     0.55355,     0.55455,     0.55556,     0.55656,     0.55756,     0.55856,     0.55956,     0.56056,     0.56156,     0.56256,     0.56356,     0.56456,     0.56557,     0.56657,     0.56757,     0.56857,     0.56957,     0.57057,     0.57157,     0.57257,     0.57357,     0.57457,     0.57558,\n",
      "           0.57658,     0.57758,     0.57858,     0.57958,     0.58058,     0.58158,     0.58258,     0.58358,     0.58458,     0.58559,     0.58659,     0.58759,     0.58859,     0.58959,     0.59059,     0.59159,     0.59259,     0.59359,     0.59459,      0.5956,      0.5966,      0.5976,      0.5986,      0.5996,\n",
      "            0.6006,      0.6016,      0.6026,      0.6036,      0.6046,     0.60561,     0.60661,     0.60761,     0.60861,     0.60961,     0.61061,     0.61161,     0.61261,     0.61361,     0.61461,     0.61562,     0.61662,     0.61762,     0.61862,     0.61962,     0.62062,     0.62162,     0.62262,     0.62362,\n",
      "           0.62462,     0.62563,     0.62663,     0.62763,     0.62863,     0.62963,     0.63063,     0.63163,     0.63263,     0.63363,     0.63463,     0.63564,     0.63664,     0.63764,     0.63864,     0.63964,     0.64064,     0.64164,     0.64264,     0.64364,     0.64464,     0.64565,     0.64665,     0.64765,\n",
      "           0.64865,     0.64965,     0.65065,     0.65165,     0.65265,     0.65365,     0.65465,     0.65566,     0.65666,     0.65766,     0.65866,     0.65966,     0.66066,     0.66166,     0.66266,     0.66366,     0.66466,     0.66567,     0.66667,     0.66767,     0.66867,     0.66967,     0.67067,     0.67167,\n",
      "           0.67267,     0.67367,     0.67467,     0.67568,     0.67668,     0.67768,     0.67868,     0.67968,     0.68068,     0.68168,     0.68268,     0.68368,     0.68468,     0.68569,     0.68669,     0.68769,     0.68869,     0.68969,     0.69069,     0.69169,     0.69269,     0.69369,     0.69469,      0.6957,\n",
      "            0.6967,      0.6977,      0.6987,      0.6997,      0.7007,      0.7017,      0.7027,      0.7037,      0.7047,     0.70571,     0.70671,     0.70771,     0.70871,     0.70971,     0.71071,     0.71171,     0.71271,     0.71371,     0.71471,     0.71572,     0.71672,     0.71772,     0.71872,     0.71972,\n",
      "           0.72072,     0.72172,     0.72272,     0.72372,     0.72472,     0.72573,     0.72673,     0.72773,     0.72873,     0.72973,     0.73073,     0.73173,     0.73273,     0.73373,     0.73473,     0.73574,     0.73674,     0.73774,     0.73874,     0.73974,     0.74074,     0.74174,     0.74274,     0.74374,\n",
      "           0.74474,     0.74575,     0.74675,     0.74775,     0.74875,     0.74975,     0.75075,     0.75175,     0.75275,     0.75375,     0.75475,     0.75576,     0.75676,     0.75776,     0.75876,     0.75976,     0.76076,     0.76176,     0.76276,     0.76376,     0.76476,     0.76577,     0.76677,     0.76777,\n",
      "           0.76877,     0.76977,     0.77077,     0.77177,     0.77277,     0.77377,     0.77477,     0.77578,     0.77678,     0.77778,     0.77878,     0.77978,     0.78078,     0.78178,     0.78278,     0.78378,     0.78478,     0.78579,     0.78679,     0.78779,     0.78879,     0.78979,     0.79079,     0.79179,\n",
      "           0.79279,     0.79379,     0.79479,      0.7958,      0.7968,      0.7978,      0.7988,      0.7998,      0.8008,      0.8018,      0.8028,      0.8038,      0.8048,     0.80581,     0.80681,     0.80781,     0.80881,     0.80981,     0.81081,     0.81181,     0.81281,     0.81381,     0.81481,     0.81582,\n",
      "           0.81682,     0.81782,     0.81882,     0.81982,     0.82082,     0.82182,     0.82282,     0.82382,     0.82482,     0.82583,     0.82683,     0.82783,     0.82883,     0.82983,     0.83083,     0.83183,     0.83283,     0.83383,     0.83483,     0.83584,     0.83684,     0.83784,     0.83884,     0.83984,\n",
      "           0.84084,     0.84184,     0.84284,     0.84384,     0.84484,     0.84585,     0.84685,     0.84785,     0.84885,     0.84985,     0.85085,     0.85185,     0.85285,     0.85385,     0.85485,     0.85586,     0.85686,     0.85786,     0.85886,     0.85986,     0.86086,     0.86186,     0.86286,     0.86386,\n",
      "           0.86486,     0.86587,     0.86687,     0.86787,     0.86887,     0.86987,     0.87087,     0.87187,     0.87287,     0.87387,     0.87487,     0.87588,     0.87688,     0.87788,     0.87888,     0.87988,     0.88088,     0.88188,     0.88288,     0.88388,     0.88488,     0.88589,     0.88689,     0.88789,\n",
      "           0.88889,     0.88989,     0.89089,     0.89189,     0.89289,     0.89389,     0.89489,      0.8959,      0.8969,      0.8979,      0.8989,      0.8999,      0.9009,      0.9019,      0.9029,      0.9039,      0.9049,     0.90591,     0.90691,     0.90791,     0.90891,     0.90991,     0.91091,     0.91191,\n",
      "           0.91291,     0.91391,     0.91491,     0.91592,     0.91692,     0.91792,     0.91892,     0.91992,     0.92092,     0.92192,     0.92292,     0.92392,     0.92492,     0.92593,     0.92693,     0.92793,     0.92893,     0.92993,     0.93093,     0.93193,     0.93293,     0.93393,     0.93493,     0.93594,\n",
      "           0.93694,     0.93794,     0.93894,     0.93994,     0.94094,     0.94194,     0.94294,     0.94394,     0.94494,     0.94595,     0.94695,     0.94795,     0.94895,     0.94995,     0.95095,     0.95195,     0.95295,     0.95395,     0.95495,     0.95596,     0.95696,     0.95796,     0.95896,     0.95996,\n",
      "           0.96096,     0.96196,     0.96296,     0.96396,     0.96496,     0.96597,     0.96697,     0.96797,     0.96897,     0.96997,     0.97097,     0.97197,     0.97297,     0.97397,     0.97497,     0.97598,     0.97698,     0.97798,     0.97898,     0.97998,     0.98098,     0.98198,     0.98298,     0.98398,\n",
      "           0.98498,     0.98599,     0.98699,     0.98799,     0.98899,     0.98999,     0.99099,     0.99199,     0.99299,     0.99399,     0.99499,       0.996,       0.997,       0.998,       0.999,           1]), array([[    0.13514,     0.13526,     0.24781,      0.3315,     0.39732,     0.45031,     0.49638,      0.5334,     0.56076,     0.58945,     0.61916,     0.63982,      0.6595,      0.6735,     0.68587,     0.69476,     0.70274,     0.71116,     0.71842,     0.72581,     0.73473,     0.74232,     0.74678,\n",
      "            0.75335,     0.75992,     0.76309,     0.76638,     0.77133,     0.77519,     0.77874,     0.78173,     0.78299,     0.78541,     0.78855,     0.78944,     0.79192,      0.7927,     0.79481,     0.79589,     0.79777,     0.79961,     0.79999,     0.80245,     0.80473,     0.80718,       0.808,\n",
      "            0.80996,     0.81112,     0.81128,     0.81304,     0.81447,      0.8138,     0.81506,     0.81686,     0.81748,     0.81849,     0.82016,     0.82038,     0.82115,     0.82178,     0.82249,     0.82301,     0.82302,     0.82368,     0.82518,     0.82555,     0.82694,     0.82764,     0.82841,\n",
      "            0.82893,     0.83015,      0.8305,     0.83106,     0.83184,     0.83165,     0.83244,     0.83297,     0.83338,     0.83357,     0.83376,     0.83454,     0.83574,     0.83592,      0.8361,     0.83628,     0.83711,     0.83741,     0.83715,     0.83674,     0.83707,     0.83841,     0.83897,\n",
      "            0.83825,     0.83813,     0.83841,     0.83882,     0.83839,     0.83859,     0.83878,     0.83862,     0.83871,     0.83845,      0.8382,     0.83794,     0.83798,     0.83812,     0.83826,      0.8384,     0.83817,     0.83849,     0.83874,     0.83966,     0.83983,     0.83939,     0.83903,\n",
      "            0.83873,     0.83843,     0.83897,     0.83932,     0.83943,     0.83879,     0.83909,     0.83956,     0.84022,     0.84052,      0.8413,     0.84152,     0.84173,     0.84194,     0.84214,     0.84235,     0.84215,     0.84178,     0.84199,     0.84229,     0.84243,     0.84257,     0.84271,\n",
      "            0.84292,     0.84324,     0.84359,     0.84397,     0.84429,     0.84386,     0.84427,     0.84454,      0.8447,     0.84487,     0.84508,     0.84579,      0.8463,     0.84649,     0.84668,     0.84687,      0.8466,      0.8463,     0.84606,     0.84615,     0.84625,     0.84634,     0.84643,\n",
      "            0.84653,     0.84662,     0.84701,     0.84749,     0.84787,     0.84802,     0.84814,     0.84826,     0.84838,     0.84851,     0.84866,     0.84883,       0.849,     0.84924,     0.85066,      0.8511,     0.85126,     0.85142,     0.85157,     0.85169,     0.85176,     0.85183,      0.8519,\n",
      "            0.85197,     0.85204,     0.85211,     0.85218,     0.85225,     0.85251,     0.85293,     0.85302,     0.85311,      0.8532,     0.85329,     0.85338,     0.85346,     0.85356,     0.85369,     0.85382,     0.85396,     0.85409,     0.85437,     0.85485,     0.85498,     0.85511,     0.85524,\n",
      "            0.85537,     0.85465,     0.85478,     0.85492,     0.85505,     0.85519,     0.85504,     0.85476,     0.85448,     0.85442,     0.85448,     0.85454,      0.8546,     0.85466,     0.85472,     0.85478,     0.85484,      0.8549,     0.85496,     0.85502,     0.85512,     0.85522,     0.85532,\n",
      "            0.85542,     0.85553,     0.85563,     0.85634,     0.85655,     0.85676,     0.85702,     0.85742,     0.85794,     0.85867,       0.859,      0.8592,     0.85939,     0.85962,     0.85988,     0.86014,     0.86022,     0.86031,     0.86039,     0.86048,     0.86056,     0.86064,     0.86073,\n",
      "            0.86085,     0.86103,     0.86122,      0.8614,     0.86061,     0.86044,      0.8603,     0.86017,     0.86003,      0.8599,     0.85976,     0.85979,     0.85989,        0.86,     0.86011,     0.86022,     0.86032,     0.86054,      0.8608,     0.86102,     0.86106,      0.8611,     0.86114,\n",
      "            0.86118,     0.86122,     0.86126,      0.8613,     0.86134,     0.86138,     0.86142,     0.86146,      0.8615,     0.86154,     0.86158,     0.86163,     0.86176,     0.86213,     0.86161,     0.86149,     0.86154,     0.86159,     0.86164,     0.86169,     0.86174,     0.86179,     0.86184,\n",
      "            0.86189,     0.86194,     0.86199,     0.86204,     0.86209,     0.86204,     0.86197,     0.86191,     0.86185,     0.86179,     0.86172,     0.86166,      0.8616,     0.86154,     0.86148,     0.86141,     0.86135,     0.86129,     0.86126,     0.86139,     0.86152,     0.86166,     0.86179,\n",
      "            0.86193,     0.86207,     0.86221,     0.86234,     0.86248,     0.86317,     0.86341,     0.86363,     0.86385,     0.86403,     0.86422,      0.8644,     0.86452,     0.86457,     0.86463,     0.86468,     0.86473,     0.86479,     0.86484,     0.86489,     0.86494,       0.865,     0.86505,\n",
      "             0.8651,     0.86509,     0.86431,      0.8645,     0.86468,     0.86487,     0.86502,     0.86513,     0.86525,     0.86537,     0.86549,     0.86561,     0.86587,     0.86613,     0.86636,     0.86657,     0.86678,     0.86694,       0.867,     0.86706,     0.86712,     0.86718,     0.86724,\n",
      "             0.8673,     0.86736,     0.86742,     0.86748,     0.86754,     0.86762,     0.86773,     0.86785,     0.86796,     0.86807,     0.86819,     0.86826,     0.86829,     0.86833,     0.86836,      0.8684,     0.86843,     0.86847,      0.8685,     0.86854,     0.86857,     0.86861,     0.86864,\n",
      "            0.86868,     0.86871,     0.86875,     0.86878,     0.86882,     0.86885,     0.86889,       0.869,     0.86918,     0.86936,     0.86953,     0.86951,     0.86944,     0.86938,     0.86931,     0.86924,     0.86917,     0.86911,     0.86904,     0.86897,      0.8689,     0.86884,     0.86877,\n",
      "            0.86869,     0.86828,     0.86786,     0.86772,     0.86788,     0.86805,     0.86821,     0.86821,     0.86801,     0.86782,     0.86762,     0.86742,     0.86663,     0.86635,     0.86612,      0.8659,     0.86571,     0.86583,     0.86595,     0.86607,     0.86619,     0.86631,     0.86651,\n",
      "            0.86675,     0.86699,     0.86699,     0.86695,     0.86691,     0.86688,     0.86684,      0.8668,     0.86676,     0.86672,     0.86668,     0.86664,      0.8666,     0.86656,     0.86652,     0.86649,     0.86645,     0.86641,     0.86637,     0.86633,     0.86629,     0.86625,     0.86621,\n",
      "            0.86617,     0.86608,     0.86592,     0.86577,     0.86561,     0.86546,      0.8653,     0.86414,      0.8636,     0.86345,     0.86336,     0.86327,     0.86318,     0.86309,       0.863,     0.86291,     0.86282,     0.86273,     0.86247,     0.86175,     0.86167,      0.8616,     0.86153,\n",
      "            0.86146,     0.86139,     0.86132,     0.86125,     0.86118,     0.86111,     0.86104,     0.86096,     0.86089,     0.86078,     0.86067,     0.86056,     0.86045,     0.86034,     0.86023,     0.86012,     0.86002,      0.8601,     0.86018,     0.86025,     0.86033,     0.86041,     0.86049,\n",
      "            0.86057,     0.86065,     0.86062,     0.86052,     0.86042,     0.86032,     0.86022,     0.86012,     0.86002,     0.85992,     0.85981,     0.85941,     0.85895,     0.85907,     0.85925,     0.85942,     0.85985,      0.8603,     0.86036,     0.86042,     0.86048,     0.86054,      0.8606,\n",
      "            0.86066,     0.86072,     0.86078,     0.86084,      0.8609,     0.86012,     0.86034,     0.86055,     0.86056,      0.8601,      0.8597,     0.85941,     0.85912,     0.85889,     0.85878,     0.85868,     0.85857,     0.85846,     0.85836,     0.85825,     0.85814,     0.85804,     0.85713,\n",
      "            0.85702,     0.85691,     0.85679,     0.85668,     0.85657,     0.85646,     0.85635,     0.85629,     0.85657,     0.85686,     0.85667,     0.85634,     0.85603,     0.85609,     0.85615,     0.85621,     0.85627,     0.85633,     0.85639,     0.85646,     0.85652,     0.85658,     0.85664,\n",
      "            0.85667,     0.85642,     0.85617,     0.85592,     0.85569,     0.85547,     0.85525,     0.85503,     0.85494,     0.85504,     0.85513,     0.85523,     0.85532,     0.85542,     0.85551,      0.8556,     0.85567,     0.85574,     0.85581,     0.85588,     0.85595,     0.85602,     0.85609,\n",
      "            0.85616,     0.85623,     0.85618,      0.8561,     0.85603,     0.85595,     0.85587,     0.85579,     0.85572,     0.85564,     0.85556,     0.85548,      0.8554,     0.85537,     0.85548,     0.85559,      0.8557,     0.85581,     0.85591,     0.85603,     0.85651,     0.85731,     0.85719,\n",
      "            0.85707,     0.85695,     0.85683,     0.85671,     0.85659,     0.85647,     0.85658,     0.85669,      0.8568,     0.85691,     0.85703,     0.85714,     0.85679,     0.85642,     0.85616,     0.85602,     0.85588,     0.85573,     0.85559,     0.85545,     0.85535,     0.85542,     0.85549,\n",
      "            0.85556,     0.85564,     0.85571,     0.85578,     0.85585,     0.85592,     0.85599,     0.85724,      0.8568,     0.85631,     0.85565,     0.85545,     0.85533,     0.85521,     0.85508,     0.85496,     0.85484,     0.85472,     0.85507,     0.85424,     0.85396,     0.85367,     0.85335,\n",
      "            0.85297,     0.85259,     0.85239,     0.85219,       0.852,      0.8518,     0.85157,     0.85128,       0.851,     0.85088,     0.85175,     0.85196,     0.85166,     0.85137,     0.85032,     0.85045,     0.85059,     0.85072,     0.85085,      0.8509,     0.85054,     0.85018,     0.84819,\n",
      "            0.84814,      0.8481,     0.84805,       0.848,     0.84796,     0.84791,     0.84786,     0.84781,     0.84777,     0.84772,     0.84767,     0.84763,     0.84758,     0.84753,     0.84748,     0.84744,     0.84739,     0.84734,      0.8473,     0.84736,      0.8476,     0.84783,     0.84806,\n",
      "            0.84828,      0.8485,     0.84851,     0.84822,     0.84792,     0.84765,     0.84745,     0.84724,     0.84704,     0.84683,     0.84563,     0.84371,     0.84318,     0.84274,     0.84233,     0.84195,      0.8416,     0.84126,     0.84005,      0.8398,     0.83955,     0.83929,     0.83894,\n",
      "            0.83858,     0.83766,     0.83699,     0.83653,     0.83572,     0.83492,      0.8352,     0.83443,     0.83455,     0.83487,      0.8338,     0.83327,     0.83215,     0.83243,     0.83271,     0.83253,     0.83218,     0.83182,     0.83116,      0.8311,     0.83011,     0.82928,     0.82859,\n",
      "            0.82809,     0.82815,     0.82714,     0.82663,     0.82658,     0.82679,     0.82699,     0.82637,     0.82632,     0.82649,     0.82667,     0.82684,     0.82665,     0.82646,     0.82626,     0.82607,     0.82587,     0.82528,     0.82525,     0.82484,     0.82524,     0.82426,     0.82324,\n",
      "            0.82278,     0.82214,     0.82028,     0.81994,      0.8196,     0.81729,     0.81677,     0.81626,     0.81577,     0.81656,     0.81643,     0.81603,     0.81456,     0.81161,     0.81089,      0.8112,     0.81135,     0.80999,     0.80937,     0.80892,      0.8085,     0.80971,     0.80902,\n",
      "            0.80791,     0.80749,     0.80714,     0.80675,     0.80602,     0.80286,     0.80221,     0.80166,      0.8011,     0.80046,     0.79946,     0.79725,     0.79499,      0.7939,     0.79215,     0.79119,     0.78975,     0.78841,     0.78591,     0.78464,     0.78225,     0.78183,     0.78213,\n",
      "            0.78171,     0.77879,     0.77569,     0.77181,      0.7697,     0.76792,     0.76854,     0.76748,     0.76515,     0.76178,     0.76116,     0.76017,     0.75768,     0.75699,     0.75625,     0.75355,     0.74922,     0.74869,     0.74801,     0.74421,     0.74317,      0.7409,     0.73986,\n",
      "            0.73791,     0.73264,     0.73006,     0.72637,     0.72529,     0.72379,       0.723,     0.72004,     0.71336,     0.71267,     0.71177,     0.70923,      0.7054,     0.70596,     0.70093,     0.69874,     0.69634,     0.69119,     0.68253,     0.68058,     0.67758,      0.6735,     0.66833,\n",
      "            0.66541,     0.66376,     0.65989,     0.65589,     0.65089,     0.64358,     0.64038,     0.63525,     0.63042,     0.62228,     0.61425,     0.60849,     0.60658,      0.6059,      0.5957,     0.58974,      0.5821,     0.57657,     0.56526,     0.55495,     0.55052,     0.53869,     0.53082,\n",
      "            0.51972,     0.51374,     0.50895,     0.50044,     0.48974,     0.47434,     0.46983,     0.46617,     0.45262,     0.43682,     0.42371,     0.41267,     0.40166,      0.3934,     0.38733,     0.37227,     0.35783,     0.35128,     0.34143,     0.32983,     0.32427,     0.31675,     0.30484,\n",
      "            0.29542,     0.28761,     0.28151,     0.26773,     0.25666,     0.24866,     0.23736,     0.21951,     0.21291,     0.19872,     0.18998,     0.18077,     0.17547,     0.17124,     0.15898,      0.1551,     0.14296,     0.14154,     0.13949,     0.12763,     0.11442,    0.094974,    0.084787,\n",
      "           0.081752,    0.073145,    0.068454,    0.059906,    0.058233,    0.056694,    0.055245,    0.049136,    0.045701,    0.044102,    0.040077,    0.038103,    0.032805,    0.031278,    0.030336,    0.029394,    0.028151,    0.026847,     0.02304,     0.02208,    0.021119,    0.017465,    0.014536,\n",
      "           0.014105,    0.013673,    0.013241,    0.012809,    0.012377,    0.011944,    0.010623,   0.0088497,   0.0071036,   0.0058706,   0.0057257,   0.0055808,   0.0054358,   0.0052909,   0.0051459,   0.0050009,   0.0048559,   0.0047108,   0.0045658,   0.0044207,   0.0042756,   0.0041305,   0.0039853,\n",
      "          0.0038401,   0.0036949,   0.0035497,   0.0034045,   0.0032593,    0.003114,   0.0029687,           0,           0,           0,           0]]), 'Confidence', 'F1'], [array([          0,    0.001001,    0.002002,    0.003003,    0.004004,    0.005005,    0.006006,    0.007007,    0.008008,    0.009009,     0.01001,    0.011011,    0.012012,    0.013013,    0.014014,    0.015015,    0.016016,    0.017017,    0.018018,    0.019019,     0.02002,    0.021021,    0.022022,    0.023023,\n",
      "          0.024024,    0.025025,    0.026026,    0.027027,    0.028028,    0.029029,     0.03003,    0.031031,    0.032032,    0.033033,    0.034034,    0.035035,    0.036036,    0.037037,    0.038038,    0.039039,     0.04004,    0.041041,    0.042042,    0.043043,    0.044044,    0.045045,    0.046046,    0.047047,\n",
      "          0.048048,    0.049049,     0.05005,    0.051051,    0.052052,    0.053053,    0.054054,    0.055055,    0.056056,    0.057057,    0.058058,    0.059059,     0.06006,    0.061061,    0.062062,    0.063063,    0.064064,    0.065065,    0.066066,    0.067067,    0.068068,    0.069069,     0.07007,    0.071071,\n",
      "          0.072072,    0.073073,    0.074074,    0.075075,    0.076076,    0.077077,    0.078078,    0.079079,     0.08008,    0.081081,    0.082082,    0.083083,    0.084084,    0.085085,    0.086086,    0.087087,    0.088088,    0.089089,     0.09009,    0.091091,    0.092092,    0.093093,    0.094094,    0.095095,\n",
      "          0.096096,    0.097097,    0.098098,    0.099099,      0.1001,      0.1011,      0.1021,      0.1031,      0.1041,     0.10511,     0.10611,     0.10711,     0.10811,     0.10911,     0.11011,     0.11111,     0.11211,     0.11311,     0.11411,     0.11512,     0.11612,     0.11712,     0.11812,     0.11912,\n",
      "           0.12012,     0.12112,     0.12212,     0.12312,     0.12412,     0.12513,     0.12613,     0.12713,     0.12813,     0.12913,     0.13013,     0.13113,     0.13213,     0.13313,     0.13413,     0.13514,     0.13614,     0.13714,     0.13814,     0.13914,     0.14014,     0.14114,     0.14214,     0.14314,\n",
      "           0.14414,     0.14515,     0.14615,     0.14715,     0.14815,     0.14915,     0.15015,     0.15115,     0.15215,     0.15315,     0.15415,     0.15516,     0.15616,     0.15716,     0.15816,     0.15916,     0.16016,     0.16116,     0.16216,     0.16316,     0.16416,     0.16517,     0.16617,     0.16717,\n",
      "           0.16817,     0.16917,     0.17017,     0.17117,     0.17217,     0.17317,     0.17417,     0.17518,     0.17618,     0.17718,     0.17818,     0.17918,     0.18018,     0.18118,     0.18218,     0.18318,     0.18418,     0.18519,     0.18619,     0.18719,     0.18819,     0.18919,     0.19019,     0.19119,\n",
      "           0.19219,     0.19319,     0.19419,      0.1952,      0.1962,      0.1972,      0.1982,      0.1992,      0.2002,      0.2012,      0.2022,      0.2032,      0.2042,     0.20521,     0.20621,     0.20721,     0.20821,     0.20921,     0.21021,     0.21121,     0.21221,     0.21321,     0.21421,     0.21522,\n",
      "           0.21622,     0.21722,     0.21822,     0.21922,     0.22022,     0.22122,     0.22222,     0.22322,     0.22422,     0.22523,     0.22623,     0.22723,     0.22823,     0.22923,     0.23023,     0.23123,     0.23223,     0.23323,     0.23423,     0.23524,     0.23624,     0.23724,     0.23824,     0.23924,\n",
      "           0.24024,     0.24124,     0.24224,     0.24324,     0.24424,     0.24525,     0.24625,     0.24725,     0.24825,     0.24925,     0.25025,     0.25125,     0.25225,     0.25325,     0.25425,     0.25526,     0.25626,     0.25726,     0.25826,     0.25926,     0.26026,     0.26126,     0.26226,     0.26326,\n",
      "           0.26426,     0.26527,     0.26627,     0.26727,     0.26827,     0.26927,     0.27027,     0.27127,     0.27227,     0.27327,     0.27427,     0.27528,     0.27628,     0.27728,     0.27828,     0.27928,     0.28028,     0.28128,     0.28228,     0.28328,     0.28428,     0.28529,     0.28629,     0.28729,\n",
      "           0.28829,     0.28929,     0.29029,     0.29129,     0.29229,     0.29329,     0.29429,      0.2953,      0.2963,      0.2973,      0.2983,      0.2993,      0.3003,      0.3013,      0.3023,      0.3033,      0.3043,     0.30531,     0.30631,     0.30731,     0.30831,     0.30931,     0.31031,     0.31131,\n",
      "           0.31231,     0.31331,     0.31431,     0.31532,     0.31632,     0.31732,     0.31832,     0.31932,     0.32032,     0.32132,     0.32232,     0.32332,     0.32432,     0.32533,     0.32633,     0.32733,     0.32833,     0.32933,     0.33033,     0.33133,     0.33233,     0.33333,     0.33433,     0.33534,\n",
      "           0.33634,     0.33734,     0.33834,     0.33934,     0.34034,     0.34134,     0.34234,     0.34334,     0.34434,     0.34535,     0.34635,     0.34735,     0.34835,     0.34935,     0.35035,     0.35135,     0.35235,     0.35335,     0.35435,     0.35536,     0.35636,     0.35736,     0.35836,     0.35936,\n",
      "           0.36036,     0.36136,     0.36236,     0.36336,     0.36436,     0.36537,     0.36637,     0.36737,     0.36837,     0.36937,     0.37037,     0.37137,     0.37237,     0.37337,     0.37437,     0.37538,     0.37638,     0.37738,     0.37838,     0.37938,     0.38038,     0.38138,     0.38238,     0.38338,\n",
      "           0.38438,     0.38539,     0.38639,     0.38739,     0.38839,     0.38939,     0.39039,     0.39139,     0.39239,     0.39339,     0.39439,      0.3954,      0.3964,      0.3974,      0.3984,      0.3994,      0.4004,      0.4014,      0.4024,      0.4034,      0.4044,     0.40541,     0.40641,     0.40741,\n",
      "           0.40841,     0.40941,     0.41041,     0.41141,     0.41241,     0.41341,     0.41441,     0.41542,     0.41642,     0.41742,     0.41842,     0.41942,     0.42042,     0.42142,     0.42242,     0.42342,     0.42442,     0.42543,     0.42643,     0.42743,     0.42843,     0.42943,     0.43043,     0.43143,\n",
      "           0.43243,     0.43343,     0.43443,     0.43544,     0.43644,     0.43744,     0.43844,     0.43944,     0.44044,     0.44144,     0.44244,     0.44344,     0.44444,     0.44545,     0.44645,     0.44745,     0.44845,     0.44945,     0.45045,     0.45145,     0.45245,     0.45345,     0.45445,     0.45546,\n",
      "           0.45646,     0.45746,     0.45846,     0.45946,     0.46046,     0.46146,     0.46246,     0.46346,     0.46446,     0.46547,     0.46647,     0.46747,     0.46847,     0.46947,     0.47047,     0.47147,     0.47247,     0.47347,     0.47447,     0.47548,     0.47648,     0.47748,     0.47848,     0.47948,\n",
      "           0.48048,     0.48148,     0.48248,     0.48348,     0.48448,     0.48549,     0.48649,     0.48749,     0.48849,     0.48949,     0.49049,     0.49149,     0.49249,     0.49349,     0.49449,      0.4955,      0.4965,      0.4975,      0.4985,      0.4995,      0.5005,      0.5015,      0.5025,      0.5035,\n",
      "            0.5045,     0.50551,     0.50651,     0.50751,     0.50851,     0.50951,     0.51051,     0.51151,     0.51251,     0.51351,     0.51451,     0.51552,     0.51652,     0.51752,     0.51852,     0.51952,     0.52052,     0.52152,     0.52252,     0.52352,     0.52452,     0.52553,     0.52653,     0.52753,\n",
      "           0.52853,     0.52953,     0.53053,     0.53153,     0.53253,     0.53353,     0.53453,     0.53554,     0.53654,     0.53754,     0.53854,     0.53954,     0.54054,     0.54154,     0.54254,     0.54354,     0.54454,     0.54555,     0.54655,     0.54755,     0.54855,     0.54955,     0.55055,     0.55155,\n",
      "           0.55255,     0.55355,     0.55455,     0.55556,     0.55656,     0.55756,     0.55856,     0.55956,     0.56056,     0.56156,     0.56256,     0.56356,     0.56456,     0.56557,     0.56657,     0.56757,     0.56857,     0.56957,     0.57057,     0.57157,     0.57257,     0.57357,     0.57457,     0.57558,\n",
      "           0.57658,     0.57758,     0.57858,     0.57958,     0.58058,     0.58158,     0.58258,     0.58358,     0.58458,     0.58559,     0.58659,     0.58759,     0.58859,     0.58959,     0.59059,     0.59159,     0.59259,     0.59359,     0.59459,      0.5956,      0.5966,      0.5976,      0.5986,      0.5996,\n",
      "            0.6006,      0.6016,      0.6026,      0.6036,      0.6046,     0.60561,     0.60661,     0.60761,     0.60861,     0.60961,     0.61061,     0.61161,     0.61261,     0.61361,     0.61461,     0.61562,     0.61662,     0.61762,     0.61862,     0.61962,     0.62062,     0.62162,     0.62262,     0.62362,\n",
      "           0.62462,     0.62563,     0.62663,     0.62763,     0.62863,     0.62963,     0.63063,     0.63163,     0.63263,     0.63363,     0.63463,     0.63564,     0.63664,     0.63764,     0.63864,     0.63964,     0.64064,     0.64164,     0.64264,     0.64364,     0.64464,     0.64565,     0.64665,     0.64765,\n",
      "           0.64865,     0.64965,     0.65065,     0.65165,     0.65265,     0.65365,     0.65465,     0.65566,     0.65666,     0.65766,     0.65866,     0.65966,     0.66066,     0.66166,     0.66266,     0.66366,     0.66466,     0.66567,     0.66667,     0.66767,     0.66867,     0.66967,     0.67067,     0.67167,\n",
      "           0.67267,     0.67367,     0.67467,     0.67568,     0.67668,     0.67768,     0.67868,     0.67968,     0.68068,     0.68168,     0.68268,     0.68368,     0.68468,     0.68569,     0.68669,     0.68769,     0.68869,     0.68969,     0.69069,     0.69169,     0.69269,     0.69369,     0.69469,      0.6957,\n",
      "            0.6967,      0.6977,      0.6987,      0.6997,      0.7007,      0.7017,      0.7027,      0.7037,      0.7047,     0.70571,     0.70671,     0.70771,     0.70871,     0.70971,     0.71071,     0.71171,     0.71271,     0.71371,     0.71471,     0.71572,     0.71672,     0.71772,     0.71872,     0.71972,\n",
      "           0.72072,     0.72172,     0.72272,     0.72372,     0.72472,     0.72573,     0.72673,     0.72773,     0.72873,     0.72973,     0.73073,     0.73173,     0.73273,     0.73373,     0.73473,     0.73574,     0.73674,     0.73774,     0.73874,     0.73974,     0.74074,     0.74174,     0.74274,     0.74374,\n",
      "           0.74474,     0.74575,     0.74675,     0.74775,     0.74875,     0.74975,     0.75075,     0.75175,     0.75275,     0.75375,     0.75475,     0.75576,     0.75676,     0.75776,     0.75876,     0.75976,     0.76076,     0.76176,     0.76276,     0.76376,     0.76476,     0.76577,     0.76677,     0.76777,\n",
      "           0.76877,     0.76977,     0.77077,     0.77177,     0.77277,     0.77377,     0.77477,     0.77578,     0.77678,     0.77778,     0.77878,     0.77978,     0.78078,     0.78178,     0.78278,     0.78378,     0.78478,     0.78579,     0.78679,     0.78779,     0.78879,     0.78979,     0.79079,     0.79179,\n",
      "           0.79279,     0.79379,     0.79479,      0.7958,      0.7968,      0.7978,      0.7988,      0.7998,      0.8008,      0.8018,      0.8028,      0.8038,      0.8048,     0.80581,     0.80681,     0.80781,     0.80881,     0.80981,     0.81081,     0.81181,     0.81281,     0.81381,     0.81481,     0.81582,\n",
      "           0.81682,     0.81782,     0.81882,     0.81982,     0.82082,     0.82182,     0.82282,     0.82382,     0.82482,     0.82583,     0.82683,     0.82783,     0.82883,     0.82983,     0.83083,     0.83183,     0.83283,     0.83383,     0.83483,     0.83584,     0.83684,     0.83784,     0.83884,     0.83984,\n",
      "           0.84084,     0.84184,     0.84284,     0.84384,     0.84484,     0.84585,     0.84685,     0.84785,     0.84885,     0.84985,     0.85085,     0.85185,     0.85285,     0.85385,     0.85485,     0.85586,     0.85686,     0.85786,     0.85886,     0.85986,     0.86086,     0.86186,     0.86286,     0.86386,\n",
      "           0.86486,     0.86587,     0.86687,     0.86787,     0.86887,     0.86987,     0.87087,     0.87187,     0.87287,     0.87387,     0.87487,     0.87588,     0.87688,     0.87788,     0.87888,     0.87988,     0.88088,     0.88188,     0.88288,     0.88388,     0.88488,     0.88589,     0.88689,     0.88789,\n",
      "           0.88889,     0.88989,     0.89089,     0.89189,     0.89289,     0.89389,     0.89489,      0.8959,      0.8969,      0.8979,      0.8989,      0.8999,      0.9009,      0.9019,      0.9029,      0.9039,      0.9049,     0.90591,     0.90691,     0.90791,     0.90891,     0.90991,     0.91091,     0.91191,\n",
      "           0.91291,     0.91391,     0.91491,     0.91592,     0.91692,     0.91792,     0.91892,     0.91992,     0.92092,     0.92192,     0.92292,     0.92392,     0.92492,     0.92593,     0.92693,     0.92793,     0.92893,     0.92993,     0.93093,     0.93193,     0.93293,     0.93393,     0.93493,     0.93594,\n",
      "           0.93694,     0.93794,     0.93894,     0.93994,     0.94094,     0.94194,     0.94294,     0.94394,     0.94494,     0.94595,     0.94695,     0.94795,     0.94895,     0.94995,     0.95095,     0.95195,     0.95295,     0.95395,     0.95495,     0.95596,     0.95696,     0.95796,     0.95896,     0.95996,\n",
      "           0.96096,     0.96196,     0.96296,     0.96396,     0.96496,     0.96597,     0.96697,     0.96797,     0.96897,     0.96997,     0.97097,     0.97197,     0.97297,     0.97397,     0.97497,     0.97598,     0.97698,     0.97798,     0.97898,     0.97998,     0.98098,     0.98198,     0.98298,     0.98398,\n",
      "           0.98498,     0.98599,     0.98699,     0.98799,     0.98899,     0.98999,     0.99099,     0.99199,     0.99299,     0.99399,     0.99499,       0.996,       0.997,       0.998,       0.999,           1]), array([[   0.072946,    0.073016,     0.14341,     0.20284,     0.25453,     0.29972,     0.34239,     0.37865,     0.40744,     0.43951,     0.47338,     0.49797,     0.52274,     0.54056,     0.55666,     0.56968,      0.5805,     0.59208,     0.60221,     0.61267,     0.62549,     0.63732,     0.64393,\n",
      "            0.65377,     0.66372,     0.66857,     0.67365,     0.68134,     0.68738,     0.69299,     0.69774,     0.69973,     0.70362,     0.70867,      0.7101,     0.71413,      0.7154,     0.71884,      0.7216,     0.72469,     0.72774,     0.72836,     0.73245,     0.73626,     0.74037,     0.74176,\n",
      "            0.74506,     0.74703,      0.7489,     0.75243,     0.75602,     0.75591,     0.75808,      0.7612,     0.76228,     0.76403,     0.76694,      0.7682,     0.76981,     0.77093,     0.77218,     0.77309,     0.77426,     0.77543,     0.77809,     0.77875,     0.78123,     0.78248,     0.78406,\n",
      "            0.78598,     0.78817,     0.78879,     0.78981,     0.79121,     0.79197,     0.79351,     0.79448,     0.79522,     0.79558,     0.79593,     0.79734,     0.79954,     0.79987,      0.8002,     0.80052,     0.80205,      0.8026,     0.80262,     0.80248,     0.80324,      0.8057,     0.80775,\n",
      "            0.80752,     0.80772,     0.80823,       0.809,     0.80949,     0.80985,     0.81022,     0.81041,     0.81137,     0.81129,     0.81121,     0.81113,     0.81131,     0.81157,     0.81183,      0.8121,     0.81296,     0.81356,     0.81404,     0.81577,     0.81646,     0.81632,     0.81621,\n",
      "            0.81612,     0.81603,     0.81711,     0.81779,     0.81826,     0.81812,     0.81869,     0.81958,     0.82084,     0.82142,     0.82291,     0.82332,     0.82373,     0.82412,     0.82452,     0.82491,     0.82496,     0.82485,      0.8256,     0.82618,     0.82644,     0.82671,     0.82698,\n",
      "            0.82738,       0.828,     0.82868,      0.8294,      0.8306,     0.83048,     0.83138,      0.8319,     0.83222,     0.83255,     0.83294,     0.83434,     0.83532,     0.83569,     0.83607,     0.83644,     0.83639,      0.8363,     0.83626,     0.83645,     0.83663,     0.83682,       0.837,\n",
      "            0.83719,     0.83737,     0.83813,     0.83907,     0.83982,      0.8401,     0.84034,     0.84058,     0.84082,     0.84106,     0.84137,      0.8417,     0.84202,     0.84251,      0.8453,     0.84618,     0.84649,      0.8468,     0.84711,     0.84734,     0.84748,     0.84762,     0.84776,\n",
      "             0.8479,     0.84804,     0.84818,     0.84832,     0.84846,     0.84896,      0.8498,     0.84998,     0.85015,     0.85033,     0.85051,     0.85069,     0.85086,     0.85104,     0.85131,     0.85157,     0.85184,      0.8521,     0.85267,     0.85363,     0.85389,     0.85415,      0.8544,\n",
      "            0.85466,      0.8547,     0.85497,     0.85524,     0.85551,     0.85578,     0.85582,     0.85575,     0.85568,     0.85573,     0.85585,     0.85597,     0.85609,     0.85621,     0.85633,     0.85645,     0.85657,     0.85669,      0.8568,     0.85692,     0.85713,     0.85733,     0.85754,\n",
      "            0.85774,     0.85795,     0.85816,     0.85958,     0.86001,     0.86044,     0.86095,     0.86177,     0.86282,     0.86429,     0.86497,     0.86537,     0.86576,     0.86623,     0.86676,     0.86728,     0.86745,     0.86762,     0.86779,     0.86796,     0.86814,     0.86831,     0.86848,\n",
      "            0.86873,      0.8691,     0.86947,     0.86984,     0.86971,     0.86967,     0.86964,      0.8696,     0.86957,     0.86954,     0.86951,     0.86965,     0.86987,     0.87009,     0.87031,     0.87053,     0.87075,     0.87118,     0.87172,     0.87217,     0.87225,     0.87233,     0.87242,\n",
      "             0.8725,     0.87258,     0.87267,     0.87275,     0.87283,     0.87292,       0.873,     0.87308,     0.87317,     0.87325,     0.87333,     0.87342,      0.8737,     0.87446,     0.87465,     0.87471,     0.87481,     0.87492,     0.87502,     0.87512,     0.87523,     0.87533,     0.87543,\n",
      "            0.87554,     0.87564,     0.87575,     0.87585,     0.87595,     0.87594,     0.87593,     0.87592,      0.8759,     0.87589,     0.87588,     0.87586,     0.87585,     0.87583,     0.87582,     0.87581,     0.87579,     0.87578,     0.87581,     0.87608,     0.87636,     0.87664,     0.87692,\n",
      "             0.8772,     0.87749,     0.87777,     0.87806,     0.87834,     0.87977,     0.88027,     0.88073,     0.88118,     0.88157,     0.88195,     0.88234,     0.88259,      0.8827,     0.88281,     0.88292,     0.88303,     0.88314,     0.88325,     0.88336,     0.88347,     0.88358,     0.88369,\n",
      "             0.8838,     0.88389,     0.88376,     0.88415,     0.88454,     0.88493,     0.88524,     0.88549,     0.88573,     0.88598,     0.88623,     0.88649,     0.88703,     0.88757,     0.88806,      0.8885,     0.88893,     0.88927,      0.8894,     0.88953,     0.88965,     0.88978,     0.88991,\n",
      "            0.89003,     0.89016,     0.89029,     0.89041,     0.89054,      0.8907,     0.89094,     0.89118,     0.89142,     0.89167,     0.89191,     0.89206,     0.89213,     0.89221,     0.89228,     0.89235,     0.89243,      0.8925,     0.89257,     0.89265,     0.89272,     0.89279,     0.89287,\n",
      "            0.89294,     0.89302,     0.89309,     0.89316,     0.89324,     0.89331,     0.89338,     0.89362,       0.894,     0.89438,     0.89475,     0.89481,      0.8948,     0.89478,     0.89477,     0.89476,     0.89474,     0.89473,     0.89472,     0.89471,     0.89469,     0.89468,     0.89467,\n",
      "            0.89465,     0.89457,     0.89449,     0.89591,     0.89626,     0.89662,     0.89697,     0.89713,      0.8971,     0.89706,     0.89702,     0.89699,     0.89684,     0.89679,     0.89674,      0.8967,     0.89669,     0.89695,     0.89721,     0.89747,     0.89773,     0.89799,     0.89841,\n",
      "            0.89892,     0.89944,     0.89952,     0.89951,      0.8995,     0.89949,     0.89949,     0.89948,     0.89947,     0.89947,     0.89946,     0.89945,     0.89944,     0.89944,     0.89943,     0.89942,     0.89941,     0.89941,      0.8994,     0.89939,     0.89939,     0.89938,     0.89937,\n",
      "            0.89936,     0.89935,     0.89932,     0.89929,     0.89926,     0.89923,      0.8992,     0.89899,     0.89889,     0.89886,     0.89885,     0.89883,     0.89881,     0.89879,     0.89878,     0.89876,     0.89874,     0.89873,     0.89868,     0.89855,     0.89853,     0.89852,     0.89851,\n",
      "            0.89849,     0.89848,     0.89847,     0.89845,     0.89844,     0.89843,     0.89841,      0.8984,     0.89839,     0.89837,     0.89835,     0.89832,      0.8983,     0.89828,     0.89826,     0.89824,     0.89823,      0.8984,     0.89857,     0.89874,     0.89892,     0.89909,     0.89926,\n",
      "            0.89943,      0.8996,     0.89967,     0.89965,     0.89963,     0.89961,     0.89959,     0.89957,     0.89955,     0.89954,     0.89952,     0.89944,     0.89936,      0.8997,     0.90008,     0.90046,     0.90141,      0.9024,     0.90253,     0.90266,     0.90279,     0.90292,     0.90305,\n",
      "            0.90318,     0.90331,     0.90344,     0.90357,     0.90371,      0.9038,     0.90427,     0.90474,     0.90505,     0.90497,      0.9049,     0.90485,      0.9048,     0.90476,     0.90474,     0.90472,      0.9047,     0.90468,     0.90466,     0.90464,     0.90462,     0.90461,     0.90445,\n",
      "            0.90443,     0.90441,     0.90439,     0.90437,     0.90435,     0.90433,     0.90431,     0.90438,     0.90501,     0.90565,     0.90574,     0.90568,     0.90563,     0.90577,     0.90591,     0.90604,     0.90618,     0.90632,     0.90646,     0.90659,     0.90673,     0.90687,     0.90701,\n",
      "            0.90713,     0.90708,     0.90704,       0.907,     0.90696,     0.90692,     0.90688,     0.90684,     0.90691,     0.90713,     0.90734,     0.90756,     0.90777,     0.90798,      0.9082,     0.90839,     0.90855,     0.90871,     0.90887,     0.90903,     0.90919,     0.90935,      0.9095,\n",
      "            0.90966,     0.90982,     0.90984,     0.90983,     0.90981,      0.9098,     0.90979,     0.90977,     0.90976,     0.90975,     0.90973,     0.90972,     0.90971,     0.90976,        0.91,     0.91025,     0.91049,     0.91074,     0.91098,     0.91125,     0.91234,     0.91428,     0.91426,\n",
      "            0.91424,     0.91422,      0.9142,     0.91418,     0.91416,     0.91414,     0.91439,     0.91465,      0.9149,     0.91516,     0.91541,     0.91567,     0.91563,     0.91557,     0.91553,     0.91551,     0.91548,     0.91546,     0.91544,     0.91541,     0.91544,      0.9156,     0.91576,\n",
      "            0.91592,     0.91608,     0.91625,     0.91641,     0.91657,     0.91673,     0.91689,     0.92005,     0.91998,     0.91991,     0.91981,     0.91978,     0.91976,     0.91974,     0.91972,     0.91971,     0.91969,     0.91967,     0.92063,     0.92107,     0.92103,     0.92099,     0.92094,\n",
      "            0.92088,     0.92083,      0.9208,     0.92077,     0.92074,     0.92071,     0.92067,     0.92063,     0.92059,     0.92084,     0.92288,     0.92372,     0.92368,     0.92364,     0.92358,     0.92389,      0.9242,     0.92451,     0.92483,     0.92508,     0.92503,     0.92498,     0.92469,\n",
      "            0.92469,     0.92468,     0.92467,     0.92467,     0.92466,     0.92465,     0.92465,     0.92464,     0.92463,     0.92463,     0.92462,     0.92461,     0.92461,      0.9246,     0.92459,     0.92459,     0.92458,     0.92457,     0.92457,     0.92479,     0.92535,     0.92591,     0.92646,\n",
      "            0.92698,     0.92751,      0.9278,     0.92776,     0.92772,     0.92768,     0.92765,     0.92763,      0.9276,     0.92757,      0.9274,     0.92714,     0.92707,       0.927,     0.92695,     0.92689,     0.92685,      0.9268,     0.92663,     0.92659,     0.92656,     0.92652,     0.92647,\n",
      "            0.92642,      0.9263,      0.9262,     0.92614,     0.92602,     0.92591,     0.92745,     0.92742,     0.92806,     0.92885,     0.92893,     0.92886,     0.92883,     0.92952,     0.93021,     0.93037,     0.93032,     0.93027,     0.93019,      0.9318,     0.93167,     0.93156,     0.93147,\n",
      "            0.93141,      0.9325,     0.93293,     0.93286,     0.93317,      0.9337,     0.93423,     0.93448,     0.93486,     0.93531,     0.93575,      0.9362,     0.93619,     0.93616,     0.93614,     0.93611,     0.93609,     0.93696,      0.9377,     0.93765,     0.93926,     0.93927,     0.93915,\n",
      "             0.9391,     0.93902,      0.9388,     0.93876,     0.93872,     0.93845,     0.93838,     0.93832,     0.93826,     0.94121,     0.94182,     0.94177,     0.94161,     0.94127,     0.94138,     0.94222,     0.94301,     0.94286,     0.94279,     0.94274,     0.94276,     0.94641,     0.94634,\n",
      "            0.94622,     0.94618,     0.94614,      0.9461,     0.94602,     0.94569,     0.94562,     0.94556,      0.9455,     0.94543,     0.94532,     0.94508,     0.94484,     0.94472,     0.94453,     0.94442,     0.94427,     0.94412,     0.94384,      0.9456,     0.94534,     0.94607,     0.94695,\n",
      "            0.94914,     0.94884,     0.94852,     0.94812,      0.9479,     0.94785,     0.94976,     0.94967,     0.94944,     0.94909,     0.94903,     0.94893,     0.94867,      0.9486,     0.94852,     0.94954,     0.94988,     0.94982,     0.94975,     0.94936,     0.95122,     0.95116,     0.95105,\n",
      "            0.95086,     0.95033,     0.95226,      0.9519,     0.95403,     0.95401,     0.95607,      0.9558,     0.95519,     0.95512,     0.95504,      0.9548,     0.95468,     0.95923,     0.95879,     0.96104,     0.96084,      0.9629,     0.96221,     0.96205,     0.96438,     0.96407,     0.96367,\n",
      "            0.96343,      0.9633,     0.96299,     0.96267,     0.96482,     0.96444,     0.96703,     0.96665,     0.96629,     0.96567,     0.96807,     0.96836,     0.97062,     0.97673,     0.97634,     0.97601,     0.97557,     0.97868,     0.97809,     0.97889,     0.98098,     0.98042,     0.98003,\n",
      "            0.97946,     0.97914,     0.97888,     0.97841,      0.9778,     0.97686,     0.97658,     0.97634,     0.98023,     0.97932,     0.97852,     0.97781,     0.97706,     0.97647,     0.97603,     0.97485,     0.97364,     0.97306,     0.97214,     0.97099,     0.97041,      0.9696,     0.96824,\n",
      "            0.96708,     0.96607,     0.96524,     0.96323,     0.96147,      0.9601,     0.95803,      0.9653,     0.96414,     0.96138,     0.95949,     0.97109,     0.97015,     0.96937,     0.96687,       0.966,     0.96299,      0.9626,     0.96203,      0.9584,     0.95351,     0.94397,     0.93735,\n",
      "            0.93507,     0.96243,     0.95987,      0.9542,     0.95291,     0.95165,     0.95042,     0.94681,           1,           1,           1,           1,           1,           1,           1,           1,           1,           1,           1,           1,           1,           1,           1,\n",
      "                  1,           1,           1,           1,           1,           1,           1,           1,           1,           1,           1,           1,           1,           1,           1,           1,           1,           1,           1,           1,           1,           1,           1,\n",
      "                  1,           1,           1,           1,           1,           1,           1,           1,           1,           1,           1]]), 'Confidence', 'Precision'], [array([          0,    0.001001,    0.002002,    0.003003,    0.004004,    0.005005,    0.006006,    0.007007,    0.008008,    0.009009,     0.01001,    0.011011,    0.012012,    0.013013,    0.014014,    0.015015,    0.016016,    0.017017,    0.018018,    0.019019,     0.02002,    0.021021,    0.022022,    0.023023,\n",
      "          0.024024,    0.025025,    0.026026,    0.027027,    0.028028,    0.029029,     0.03003,    0.031031,    0.032032,    0.033033,    0.034034,    0.035035,    0.036036,    0.037037,    0.038038,    0.039039,     0.04004,    0.041041,    0.042042,    0.043043,    0.044044,    0.045045,    0.046046,    0.047047,\n",
      "          0.048048,    0.049049,     0.05005,    0.051051,    0.052052,    0.053053,    0.054054,    0.055055,    0.056056,    0.057057,    0.058058,    0.059059,     0.06006,    0.061061,    0.062062,    0.063063,    0.064064,    0.065065,    0.066066,    0.067067,    0.068068,    0.069069,     0.07007,    0.071071,\n",
      "          0.072072,    0.073073,    0.074074,    0.075075,    0.076076,    0.077077,    0.078078,    0.079079,     0.08008,    0.081081,    0.082082,    0.083083,    0.084084,    0.085085,    0.086086,    0.087087,    0.088088,    0.089089,     0.09009,    0.091091,    0.092092,    0.093093,    0.094094,    0.095095,\n",
      "          0.096096,    0.097097,    0.098098,    0.099099,      0.1001,      0.1011,      0.1021,      0.1031,      0.1041,     0.10511,     0.10611,     0.10711,     0.10811,     0.10911,     0.11011,     0.11111,     0.11211,     0.11311,     0.11411,     0.11512,     0.11612,     0.11712,     0.11812,     0.11912,\n",
      "           0.12012,     0.12112,     0.12212,     0.12312,     0.12412,     0.12513,     0.12613,     0.12713,     0.12813,     0.12913,     0.13013,     0.13113,     0.13213,     0.13313,     0.13413,     0.13514,     0.13614,     0.13714,     0.13814,     0.13914,     0.14014,     0.14114,     0.14214,     0.14314,\n",
      "           0.14414,     0.14515,     0.14615,     0.14715,     0.14815,     0.14915,     0.15015,     0.15115,     0.15215,     0.15315,     0.15415,     0.15516,     0.15616,     0.15716,     0.15816,     0.15916,     0.16016,     0.16116,     0.16216,     0.16316,     0.16416,     0.16517,     0.16617,     0.16717,\n",
      "           0.16817,     0.16917,     0.17017,     0.17117,     0.17217,     0.17317,     0.17417,     0.17518,     0.17618,     0.17718,     0.17818,     0.17918,     0.18018,     0.18118,     0.18218,     0.18318,     0.18418,     0.18519,     0.18619,     0.18719,     0.18819,     0.18919,     0.19019,     0.19119,\n",
      "           0.19219,     0.19319,     0.19419,      0.1952,      0.1962,      0.1972,      0.1982,      0.1992,      0.2002,      0.2012,      0.2022,      0.2032,      0.2042,     0.20521,     0.20621,     0.20721,     0.20821,     0.20921,     0.21021,     0.21121,     0.21221,     0.21321,     0.21421,     0.21522,\n",
      "           0.21622,     0.21722,     0.21822,     0.21922,     0.22022,     0.22122,     0.22222,     0.22322,     0.22422,     0.22523,     0.22623,     0.22723,     0.22823,     0.22923,     0.23023,     0.23123,     0.23223,     0.23323,     0.23423,     0.23524,     0.23624,     0.23724,     0.23824,     0.23924,\n",
      "           0.24024,     0.24124,     0.24224,     0.24324,     0.24424,     0.24525,     0.24625,     0.24725,     0.24825,     0.24925,     0.25025,     0.25125,     0.25225,     0.25325,     0.25425,     0.25526,     0.25626,     0.25726,     0.25826,     0.25926,     0.26026,     0.26126,     0.26226,     0.26326,\n",
      "           0.26426,     0.26527,     0.26627,     0.26727,     0.26827,     0.26927,     0.27027,     0.27127,     0.27227,     0.27327,     0.27427,     0.27528,     0.27628,     0.27728,     0.27828,     0.27928,     0.28028,     0.28128,     0.28228,     0.28328,     0.28428,     0.28529,     0.28629,     0.28729,\n",
      "           0.28829,     0.28929,     0.29029,     0.29129,     0.29229,     0.29329,     0.29429,      0.2953,      0.2963,      0.2973,      0.2983,      0.2993,      0.3003,      0.3013,      0.3023,      0.3033,      0.3043,     0.30531,     0.30631,     0.30731,     0.30831,     0.30931,     0.31031,     0.31131,\n",
      "           0.31231,     0.31331,     0.31431,     0.31532,     0.31632,     0.31732,     0.31832,     0.31932,     0.32032,     0.32132,     0.32232,     0.32332,     0.32432,     0.32533,     0.32633,     0.32733,     0.32833,     0.32933,     0.33033,     0.33133,     0.33233,     0.33333,     0.33433,     0.33534,\n",
      "           0.33634,     0.33734,     0.33834,     0.33934,     0.34034,     0.34134,     0.34234,     0.34334,     0.34434,     0.34535,     0.34635,     0.34735,     0.34835,     0.34935,     0.35035,     0.35135,     0.35235,     0.35335,     0.35435,     0.35536,     0.35636,     0.35736,     0.35836,     0.35936,\n",
      "           0.36036,     0.36136,     0.36236,     0.36336,     0.36436,     0.36537,     0.36637,     0.36737,     0.36837,     0.36937,     0.37037,     0.37137,     0.37237,     0.37337,     0.37437,     0.37538,     0.37638,     0.37738,     0.37838,     0.37938,     0.38038,     0.38138,     0.38238,     0.38338,\n",
      "           0.38438,     0.38539,     0.38639,     0.38739,     0.38839,     0.38939,     0.39039,     0.39139,     0.39239,     0.39339,     0.39439,      0.3954,      0.3964,      0.3974,      0.3984,      0.3994,      0.4004,      0.4014,      0.4024,      0.4034,      0.4044,     0.40541,     0.40641,     0.40741,\n",
      "           0.40841,     0.40941,     0.41041,     0.41141,     0.41241,     0.41341,     0.41441,     0.41542,     0.41642,     0.41742,     0.41842,     0.41942,     0.42042,     0.42142,     0.42242,     0.42342,     0.42442,     0.42543,     0.42643,     0.42743,     0.42843,     0.42943,     0.43043,     0.43143,\n",
      "           0.43243,     0.43343,     0.43443,     0.43544,     0.43644,     0.43744,     0.43844,     0.43944,     0.44044,     0.44144,     0.44244,     0.44344,     0.44444,     0.44545,     0.44645,     0.44745,     0.44845,     0.44945,     0.45045,     0.45145,     0.45245,     0.45345,     0.45445,     0.45546,\n",
      "           0.45646,     0.45746,     0.45846,     0.45946,     0.46046,     0.46146,     0.46246,     0.46346,     0.46446,     0.46547,     0.46647,     0.46747,     0.46847,     0.46947,     0.47047,     0.47147,     0.47247,     0.47347,     0.47447,     0.47548,     0.47648,     0.47748,     0.47848,     0.47948,\n",
      "           0.48048,     0.48148,     0.48248,     0.48348,     0.48448,     0.48549,     0.48649,     0.48749,     0.48849,     0.48949,     0.49049,     0.49149,     0.49249,     0.49349,     0.49449,      0.4955,      0.4965,      0.4975,      0.4985,      0.4995,      0.5005,      0.5015,      0.5025,      0.5035,\n",
      "            0.5045,     0.50551,     0.50651,     0.50751,     0.50851,     0.50951,     0.51051,     0.51151,     0.51251,     0.51351,     0.51451,     0.51552,     0.51652,     0.51752,     0.51852,     0.51952,     0.52052,     0.52152,     0.52252,     0.52352,     0.52452,     0.52553,     0.52653,     0.52753,\n",
      "           0.52853,     0.52953,     0.53053,     0.53153,     0.53253,     0.53353,     0.53453,     0.53554,     0.53654,     0.53754,     0.53854,     0.53954,     0.54054,     0.54154,     0.54254,     0.54354,     0.54454,     0.54555,     0.54655,     0.54755,     0.54855,     0.54955,     0.55055,     0.55155,\n",
      "           0.55255,     0.55355,     0.55455,     0.55556,     0.55656,     0.55756,     0.55856,     0.55956,     0.56056,     0.56156,     0.56256,     0.56356,     0.56456,     0.56557,     0.56657,     0.56757,     0.56857,     0.56957,     0.57057,     0.57157,     0.57257,     0.57357,     0.57457,     0.57558,\n",
      "           0.57658,     0.57758,     0.57858,     0.57958,     0.58058,     0.58158,     0.58258,     0.58358,     0.58458,     0.58559,     0.58659,     0.58759,     0.58859,     0.58959,     0.59059,     0.59159,     0.59259,     0.59359,     0.59459,      0.5956,      0.5966,      0.5976,      0.5986,      0.5996,\n",
      "            0.6006,      0.6016,      0.6026,      0.6036,      0.6046,     0.60561,     0.60661,     0.60761,     0.60861,     0.60961,     0.61061,     0.61161,     0.61261,     0.61361,     0.61461,     0.61562,     0.61662,     0.61762,     0.61862,     0.61962,     0.62062,     0.62162,     0.62262,     0.62362,\n",
      "           0.62462,     0.62563,     0.62663,     0.62763,     0.62863,     0.62963,     0.63063,     0.63163,     0.63263,     0.63363,     0.63463,     0.63564,     0.63664,     0.63764,     0.63864,     0.63964,     0.64064,     0.64164,     0.64264,     0.64364,     0.64464,     0.64565,     0.64665,     0.64765,\n",
      "           0.64865,     0.64965,     0.65065,     0.65165,     0.65265,     0.65365,     0.65465,     0.65566,     0.65666,     0.65766,     0.65866,     0.65966,     0.66066,     0.66166,     0.66266,     0.66366,     0.66466,     0.66567,     0.66667,     0.66767,     0.66867,     0.66967,     0.67067,     0.67167,\n",
      "           0.67267,     0.67367,     0.67467,     0.67568,     0.67668,     0.67768,     0.67868,     0.67968,     0.68068,     0.68168,     0.68268,     0.68368,     0.68468,     0.68569,     0.68669,     0.68769,     0.68869,     0.68969,     0.69069,     0.69169,     0.69269,     0.69369,     0.69469,      0.6957,\n",
      "            0.6967,      0.6977,      0.6987,      0.6997,      0.7007,      0.7017,      0.7027,      0.7037,      0.7047,     0.70571,     0.70671,     0.70771,     0.70871,     0.70971,     0.71071,     0.71171,     0.71271,     0.71371,     0.71471,     0.71572,     0.71672,     0.71772,     0.71872,     0.71972,\n",
      "           0.72072,     0.72172,     0.72272,     0.72372,     0.72472,     0.72573,     0.72673,     0.72773,     0.72873,     0.72973,     0.73073,     0.73173,     0.73273,     0.73373,     0.73473,     0.73574,     0.73674,     0.73774,     0.73874,     0.73974,     0.74074,     0.74174,     0.74274,     0.74374,\n",
      "           0.74474,     0.74575,     0.74675,     0.74775,     0.74875,     0.74975,     0.75075,     0.75175,     0.75275,     0.75375,     0.75475,     0.75576,     0.75676,     0.75776,     0.75876,     0.75976,     0.76076,     0.76176,     0.76276,     0.76376,     0.76476,     0.76577,     0.76677,     0.76777,\n",
      "           0.76877,     0.76977,     0.77077,     0.77177,     0.77277,     0.77377,     0.77477,     0.77578,     0.77678,     0.77778,     0.77878,     0.77978,     0.78078,     0.78178,     0.78278,     0.78378,     0.78478,     0.78579,     0.78679,     0.78779,     0.78879,     0.78979,     0.79079,     0.79179,\n",
      "           0.79279,     0.79379,     0.79479,      0.7958,      0.7968,      0.7978,      0.7988,      0.7998,      0.8008,      0.8018,      0.8028,      0.8038,      0.8048,     0.80581,     0.80681,     0.80781,     0.80881,     0.80981,     0.81081,     0.81181,     0.81281,     0.81381,     0.81481,     0.81582,\n",
      "           0.81682,     0.81782,     0.81882,     0.81982,     0.82082,     0.82182,     0.82282,     0.82382,     0.82482,     0.82583,     0.82683,     0.82783,     0.82883,     0.82983,     0.83083,     0.83183,     0.83283,     0.83383,     0.83483,     0.83584,     0.83684,     0.83784,     0.83884,     0.83984,\n",
      "           0.84084,     0.84184,     0.84284,     0.84384,     0.84484,     0.84585,     0.84685,     0.84785,     0.84885,     0.84985,     0.85085,     0.85185,     0.85285,     0.85385,     0.85485,     0.85586,     0.85686,     0.85786,     0.85886,     0.85986,     0.86086,     0.86186,     0.86286,     0.86386,\n",
      "           0.86486,     0.86587,     0.86687,     0.86787,     0.86887,     0.86987,     0.87087,     0.87187,     0.87287,     0.87387,     0.87487,     0.87588,     0.87688,     0.87788,     0.87888,     0.87988,     0.88088,     0.88188,     0.88288,     0.88388,     0.88488,     0.88589,     0.88689,     0.88789,\n",
      "           0.88889,     0.88989,     0.89089,     0.89189,     0.89289,     0.89389,     0.89489,      0.8959,      0.8969,      0.8979,      0.8989,      0.8999,      0.9009,      0.9019,      0.9029,      0.9039,      0.9049,     0.90591,     0.90691,     0.90791,     0.90891,     0.90991,     0.91091,     0.91191,\n",
      "           0.91291,     0.91391,     0.91491,     0.91592,     0.91692,     0.91792,     0.91892,     0.91992,     0.92092,     0.92192,     0.92292,     0.92392,     0.92492,     0.92593,     0.92693,     0.92793,     0.92893,     0.92993,     0.93093,     0.93193,     0.93293,     0.93393,     0.93493,     0.93594,\n",
      "           0.93694,     0.93794,     0.93894,     0.93994,     0.94094,     0.94194,     0.94294,     0.94394,     0.94494,     0.94595,     0.94695,     0.94795,     0.94895,     0.94995,     0.95095,     0.95195,     0.95295,     0.95395,     0.95495,     0.95596,     0.95696,     0.95796,     0.95896,     0.95996,\n",
      "           0.96096,     0.96196,     0.96296,     0.96396,     0.96496,     0.96597,     0.96697,     0.96797,     0.96897,     0.96997,     0.97097,     0.97197,     0.97297,     0.97397,     0.97497,     0.97598,     0.97698,     0.97798,     0.97898,     0.97998,     0.98098,     0.98198,     0.98298,     0.98398,\n",
      "           0.98498,     0.98599,     0.98699,     0.98799,     0.98899,     0.98999,     0.99099,     0.99199,     0.99299,     0.99399,     0.99499,       0.996,       0.997,       0.998,       0.999,           1]), array([[    0.91691,     0.91691,     0.91098,     0.90653,     0.90504,     0.90504,     0.90208,     0.90208,     0.89911,     0.89466,     0.89466,     0.89466,     0.89318,     0.89318,     0.89318,     0.89021,     0.89021,     0.89021,     0.89021,     0.89021,     0.89021,     0.88872,     0.88872,\n",
      "            0.88872,     0.88872,     0.88872,     0.88872,     0.88872,     0.88872,     0.88872,     0.88872,     0.88872,     0.88872,     0.88872,     0.88872,     0.88872,     0.88872,     0.88872,     0.88724,     0.88724,     0.88724,     0.88724,     0.88724,     0.88724,     0.88724,     0.88724,\n",
      "            0.88724,     0.88724,     0.88501,     0.88427,     0.88272,     0.88131,     0.88131,     0.88131,     0.88131,     0.88131,     0.88131,     0.88016,     0.87982,     0.87982,     0.87982,     0.87982,     0.87834,     0.87834,     0.87834,     0.87834,     0.87834,     0.87834,     0.87808,\n",
      "            0.87685,     0.87685,     0.87685,     0.87685,     0.87685,     0.87551,     0.87537,     0.87537,     0.87537,     0.87537,     0.87537,     0.87537,     0.87537,     0.87537,     0.87537,     0.87537,     0.87537,     0.87537,     0.87479,     0.87405,     0.87389,     0.87389,     0.87271,\n",
      "            0.87142,     0.87092,     0.87092,     0.87092,     0.86944,     0.86944,     0.86944,     0.86886,     0.86794,     0.86749,     0.86704,     0.86658,     0.86647,     0.86647,     0.86647,     0.86647,     0.86499,     0.86499,     0.86499,     0.86499,     0.86458,      0.8638,     0.86317,\n",
      "            0.86264,      0.8621,     0.86202,     0.86202,     0.86173,     0.86053,     0.86053,     0.86053,     0.86053,     0.86053,     0.86053,     0.86053,     0.86053,     0.86053,     0.86053,     0.86053,     0.86008,     0.85941,     0.85905,     0.85905,     0.85905,     0.85905,     0.85905,\n",
      "            0.85905,     0.85905,     0.85905,     0.85905,     0.85844,     0.85768,     0.85757,     0.85757,     0.85757,     0.85757,     0.85757,     0.85757,     0.85757,     0.85757,     0.85757,     0.85757,     0.85707,     0.85653,     0.85608,     0.85608,     0.85608,     0.85608,     0.85608,\n",
      "            0.85608,     0.85608,     0.85608,     0.85608,     0.85608,     0.85608,     0.85608,     0.85608,     0.85608,     0.85608,     0.85608,     0.85608,     0.85608,     0.85608,     0.85608,     0.85608,     0.85608,     0.85608,     0.85608,     0.85608,     0.85608,     0.85608,     0.85608,\n",
      "            0.85608,     0.85608,     0.85608,     0.85608,     0.85608,     0.85608,     0.85608,     0.85608,     0.85608,     0.85608,     0.85608,     0.85608,     0.85608,     0.85608,     0.85608,     0.85608,     0.85608,     0.85608,     0.85608,     0.85608,     0.85608,     0.85608,     0.85608,\n",
      "            0.85608,      0.8546,      0.8546,      0.8546,      0.8546,      0.8546,     0.85427,     0.85378,     0.85329,     0.85312,     0.85312,     0.85312,     0.85312,     0.85312,     0.85312,     0.85312,     0.85312,     0.85312,     0.85312,     0.85312,     0.85312,     0.85312,     0.85312,\n",
      "            0.85312,     0.85312,     0.85312,     0.85312,     0.85312,     0.85312,     0.85312,     0.85312,     0.85312,     0.85312,     0.85312,     0.85312,     0.85312,     0.85312,     0.85312,     0.85312,     0.85312,     0.85312,     0.85312,     0.85312,     0.85312,     0.85312,     0.85312,\n",
      "            0.85312,     0.85312,     0.85312,     0.85312,     0.85171,     0.85141,     0.85117,     0.85094,      0.8507,     0.85046,     0.85023,     0.85015,     0.85015,     0.85015,     0.85015,     0.85015,     0.85015,     0.85015,     0.85015,     0.85015,     0.85015,     0.85015,     0.85015,\n",
      "            0.85015,     0.85015,     0.85015,     0.85015,     0.85015,     0.85015,     0.85015,     0.85015,     0.85015,     0.85015,     0.85015,     0.85015,     0.85015,     0.85015,     0.84895,     0.84866,     0.84866,     0.84866,     0.84866,     0.84866,     0.84866,     0.84866,     0.84866,\n",
      "            0.84866,     0.84866,     0.84866,     0.84866,     0.84866,     0.84856,     0.84845,     0.84835,     0.84824,     0.84813,     0.84802,     0.84792,     0.84781,      0.8477,      0.8476,     0.84749,     0.84738,     0.84727,     0.84718,     0.84718,     0.84718,     0.84718,     0.84718,\n",
      "            0.84718,     0.84718,     0.84718,     0.84718,     0.84718,     0.84718,     0.84718,     0.84718,     0.84718,     0.84718,     0.84718,     0.84718,     0.84718,     0.84718,     0.84718,     0.84718,     0.84718,     0.84718,     0.84718,     0.84718,     0.84718,     0.84718,     0.84718,\n",
      "            0.84718,     0.84707,      0.8457,      0.8457,      0.8457,      0.8457,      0.8457,      0.8457,      0.8457,      0.8457,      0.8457,      0.8457,      0.8457,      0.8457,      0.8457,      0.8457,      0.8457,      0.8457,      0.8457,      0.8457,      0.8457,      0.8457,      0.8457,\n",
      "             0.8457,      0.8457,      0.8457,      0.8457,      0.8457,      0.8457,      0.8457,      0.8457,      0.8457,      0.8457,      0.8457,      0.8457,      0.8457,      0.8457,      0.8457,      0.8457,      0.8457,      0.8457,      0.8457,      0.8457,      0.8457,      0.8457,      0.8457,\n",
      "             0.8457,      0.8457,      0.8457,      0.8457,      0.8457,      0.8457,      0.8457,      0.8457,      0.8457,      0.8457,      0.8457,      0.8456,     0.84549,     0.84537,     0.84525,     0.84514,     0.84502,     0.84491,     0.84479,     0.84468,     0.84456,     0.84444,     0.84433,\n",
      "             0.8442,     0.84348,     0.84277,     0.84125,     0.84125,     0.84125,     0.84125,     0.84109,     0.84076,     0.84042,     0.84009,     0.83973,     0.83839,     0.83792,     0.83753,     0.83714,      0.8368,      0.8368,      0.8368,      0.8368,      0.8368,      0.8368,      0.8368,\n",
      "             0.8368,      0.8368,     0.83674,     0.83667,     0.83661,     0.83654,     0.83647,     0.83641,     0.83634,     0.83627,     0.83621,     0.83614,     0.83608,     0.83601,     0.83594,     0.83588,     0.83581,     0.83574,     0.83568,     0.83561,     0.83554,     0.83548,     0.83541,\n",
      "            0.83534,     0.83518,     0.83491,     0.83465,     0.83439,     0.83412,     0.83386,      0.8319,     0.83098,     0.83073,     0.83057,     0.83042,     0.83027,     0.83012,     0.82996,     0.82981,     0.82966,     0.82951,     0.82906,     0.82784,     0.82772,      0.8276,     0.82748,\n",
      "            0.82736,     0.82724,     0.82712,       0.827,     0.82688,     0.82676,     0.82664,     0.82652,      0.8264,     0.82622,     0.82603,     0.82585,     0.82566,     0.82548,     0.82529,     0.82511,     0.82493,     0.82493,     0.82493,     0.82493,     0.82493,     0.82493,     0.82493,\n",
      "            0.82493,     0.82493,     0.82483,     0.82466,     0.82449,     0.82432,     0.82415,     0.82398,     0.82381,     0.82364,     0.82347,     0.82279,     0.82202,     0.82196,     0.82196,     0.82196,     0.82196,     0.82196,     0.82196,     0.82196,     0.82196,     0.82196,     0.82196,\n",
      "            0.82196,     0.82196,     0.82196,     0.82196,     0.82196,     0.82047,     0.82047,     0.82047,     0.82025,     0.81948,     0.81881,     0.81832,     0.81784,     0.81745,     0.81727,     0.81709,     0.81692,     0.81674,     0.81656,     0.81638,     0.81621,     0.81603,     0.81452,\n",
      "            0.81433,     0.81415,     0.81396,     0.81377,     0.81359,      0.8134,     0.81322,     0.81306,     0.81306,     0.81306,     0.81264,      0.8121,     0.81157,     0.81157,     0.81157,     0.81157,     0.81157,     0.81157,     0.81157,     0.81157,     0.81157,     0.81157,     0.81157,\n",
      "            0.81153,     0.81112,     0.81071,     0.81029,     0.80991,     0.80954,     0.80918,     0.80881,     0.80861,     0.80861,     0.80861,     0.80861,     0.80861,     0.80861,     0.80861,     0.80861,     0.80861,     0.80861,     0.80861,     0.80861,     0.80861,     0.80861,     0.80861,\n",
      "            0.80861,     0.80861,      0.8085,     0.80837,     0.80824,     0.80812,     0.80799,     0.80786,     0.80773,      0.8076,     0.80747,     0.80735,     0.80722,     0.80712,     0.80712,     0.80712,     0.80712,     0.80712,     0.80712,     0.80712,     0.80712,     0.80702,     0.80683,\n",
      "            0.80663,     0.80643,     0.80623,     0.80604,     0.80584,     0.80564,     0.80564,     0.80564,     0.80564,     0.80564,     0.80564,     0.80564,     0.80506,     0.80444,     0.80403,     0.80379,     0.80356,     0.80332,     0.80309,     0.80285,     0.80267,     0.80267,     0.80267,\n",
      "            0.80267,     0.80267,     0.80267,     0.80267,     0.80267,     0.80267,     0.80267,     0.80245,     0.80174,     0.80094,     0.79985,     0.79953,     0.79933,     0.79913,     0.79893,     0.79874,     0.79854,     0.79834,     0.79822,     0.79646,     0.79599,     0.79552,       0.795,\n",
      "            0.79438,     0.79377,     0.79345,     0.79313,      0.7928,     0.79248,     0.79211,     0.79165,      0.7912,      0.7908,      0.7908,     0.79054,     0.79007,     0.78959,     0.78783,     0.78783,     0.78783,     0.78783,     0.78783,     0.78774,     0.78716,     0.78658,     0.78338,\n",
      "            0.78331,     0.78323,     0.78315,     0.78308,       0.783,     0.78293,     0.78285,     0.78278,      0.7827,     0.78263,     0.78255,     0.78247,      0.7824,     0.78232,     0.78225,     0.78217,      0.7821,     0.78202,     0.78194,      0.7819,      0.7819,      0.7819,      0.7819,\n",
      "             0.7819,      0.7819,      0.7817,     0.78123,     0.78076,     0.78033,        0.78,     0.77968,     0.77935,     0.77902,     0.77711,     0.77406,     0.77321,     0.77252,     0.77187,     0.77127,     0.77072,     0.77017,     0.76826,     0.76787,     0.76747,     0.76708,     0.76651,\n",
      "            0.76595,     0.76451,     0.76346,     0.76273,     0.76146,     0.76021,     0.75964,     0.75838,     0.75816,     0.75816,     0.75635,     0.75552,     0.75371,     0.75371,     0.75371,     0.75331,     0.75277,     0.75222,      0.7512,     0.75004,     0.74851,     0.74723,     0.74618,\n",
      "            0.74541,     0.74481,      0.7429,     0.74213,     0.74184,     0.74184,     0.74184,     0.74068,     0.74036,     0.74036,     0.74036,     0.74036,     0.74006,     0.73977,     0.73947,     0.73917,     0.73887,     0.73739,     0.73689,     0.73627,     0.73591,     0.73433,      0.7328,\n",
      "             0.7321,     0.73113,     0.72833,     0.72782,      0.7273,     0.72384,     0.72306,      0.7223,     0.72156,     0.72107,      0.7205,     0.71991,     0.71773,     0.71335,     0.71217,     0.71217,     0.71195,     0.70995,     0.70903,     0.70836,     0.70772,     0.70751,      0.7065,\n",
      "            0.70487,     0.70426,     0.70374,     0.70318,     0.70211,     0.69751,     0.69657,     0.69577,     0.69496,     0.69404,      0.6926,      0.6894,     0.68616,      0.6846,     0.68211,     0.68073,     0.67869,     0.67679,     0.67325,     0.67051,     0.66715,     0.66617,     0.66617,\n",
      "             0.6645,     0.66042,     0.65613,     0.65078,      0.6479,      0.6454,      0.6454,     0.64394,     0.64077,     0.63622,     0.63538,     0.63405,      0.6307,     0.62979,     0.62879,     0.62463,     0.61856,     0.61785,     0.61696,     0.61196,     0.60979,     0.60677,     0.60542,\n",
      "            0.60289,     0.59609,     0.59193,     0.58724,     0.58502,     0.58309,     0.58129,     0.57757,     0.56924,     0.56839,     0.56727,     0.56413,     0.55935,      0.5585,     0.55237,     0.54892,     0.54603,     0.53907,     0.52882,     0.52654,     0.52226,     0.51752,     0.51156,\n",
      "             0.5082,     0.50632,     0.50191,     0.49738,      0.4911,     0.48292,     0.47869,     0.47307,     0.46781,     0.45904,     0.44983,     0.44362,     0.44113,     0.43917,      0.4286,     0.42252,      0.4148,     0.40866,     0.39749,     0.38724,     0.38263,     0.37137,     0.36398,\n",
      "             0.3537,     0.34823,     0.34387,      0.3362,     0.32668,     0.31322,     0.30932,     0.30618,     0.29425,      0.2811,     0.27039,     0.26152,     0.25279,     0.24632,      0.2416,     0.23007,     0.21919,     0.21433,     0.20708,     0.19865,     0.19466,      0.1893,      0.1809,\n",
      "            0.17434,     0.16896,     0.16478,     0.15547,      0.1481,     0.14282,     0.13546,     0.12383,     0.11967,     0.11081,     0.10542,    0.099664,    0.096457,    0.093916,     0.08661,     0.08432,    0.077214,    0.076384,    0.075195,    0.068368,    0.060859,    0.050002,    0.044402,\n",
      "           0.042744,    0.038017,    0.035493,    0.030924,    0.030034,    0.029217,    0.028449,    0.025223,    0.023385,    0.022548,    0.020448,    0.019422,    0.016676,    0.015887,    0.015402,    0.014916,    0.014276,    0.013606,    0.011654,    0.011163,    0.010672,   0.0088094,   0.0073213,\n",
      "          0.0071024,   0.0068835,   0.0066647,   0.0064458,    0.006227,   0.0060081,   0.0053397,   0.0044445,   0.0035644,   0.0029439,   0.0028711,   0.0027982,   0.0027253,   0.0026525,   0.0025796,   0.0025067,   0.0024338,    0.002361,   0.0022881,   0.0022152,   0.0021424,   0.0020695,   0.0019966,\n",
      "          0.0019238,   0.0018509,    0.001778,   0.0017052,   0.0016323,   0.0015594,   0.0014865,           0,           0,           0,           0]]), 'Confidence', 'Recall'], [array([          0,    0.001001,    0.002002,    0.003003,    0.004004,    0.005005,    0.006006,    0.007007,    0.008008,    0.009009,     0.01001,    0.011011,    0.012012,    0.013013,    0.014014,    0.015015,    0.016016,    0.017017,    0.018018,    0.019019,     0.02002,    0.021021,    0.022022,    0.023023,\n",
      "          0.024024,    0.025025,    0.026026,    0.027027,    0.028028,    0.029029,     0.03003,    0.031031,    0.032032,    0.033033,    0.034034,    0.035035,    0.036036,    0.037037,    0.038038,    0.039039,     0.04004,    0.041041,    0.042042,    0.043043,    0.044044,    0.045045,    0.046046,    0.047047,\n",
      "          0.048048,    0.049049,     0.05005,    0.051051,    0.052052,    0.053053,    0.054054,    0.055055,    0.056056,    0.057057,    0.058058,    0.059059,     0.06006,    0.061061,    0.062062,    0.063063,    0.064064,    0.065065,    0.066066,    0.067067,    0.068068,    0.069069,     0.07007,    0.071071,\n",
      "          0.072072,    0.073073,    0.074074,    0.075075,    0.076076,    0.077077,    0.078078,    0.079079,     0.08008,    0.081081,    0.082082,    0.083083,    0.084084,    0.085085,    0.086086,    0.087087,    0.088088,    0.089089,     0.09009,    0.091091,    0.092092,    0.093093,    0.094094,    0.095095,\n",
      "          0.096096,    0.097097,    0.098098,    0.099099,      0.1001,      0.1011,      0.1021,      0.1031,      0.1041,     0.10511,     0.10611,     0.10711,     0.10811,     0.10911,     0.11011,     0.11111,     0.11211,     0.11311,     0.11411,     0.11512,     0.11612,     0.11712,     0.11812,     0.11912,\n",
      "           0.12012,     0.12112,     0.12212,     0.12312,     0.12412,     0.12513,     0.12613,     0.12713,     0.12813,     0.12913,     0.13013,     0.13113,     0.13213,     0.13313,     0.13413,     0.13514,     0.13614,     0.13714,     0.13814,     0.13914,     0.14014,     0.14114,     0.14214,     0.14314,\n",
      "           0.14414,     0.14515,     0.14615,     0.14715,     0.14815,     0.14915,     0.15015,     0.15115,     0.15215,     0.15315,     0.15415,     0.15516,     0.15616,     0.15716,     0.15816,     0.15916,     0.16016,     0.16116,     0.16216,     0.16316,     0.16416,     0.16517,     0.16617,     0.16717,\n",
      "           0.16817,     0.16917,     0.17017,     0.17117,     0.17217,     0.17317,     0.17417,     0.17518,     0.17618,     0.17718,     0.17818,     0.17918,     0.18018,     0.18118,     0.18218,     0.18318,     0.18418,     0.18519,     0.18619,     0.18719,     0.18819,     0.18919,     0.19019,     0.19119,\n",
      "           0.19219,     0.19319,     0.19419,      0.1952,      0.1962,      0.1972,      0.1982,      0.1992,      0.2002,      0.2012,      0.2022,      0.2032,      0.2042,     0.20521,     0.20621,     0.20721,     0.20821,     0.20921,     0.21021,     0.21121,     0.21221,     0.21321,     0.21421,     0.21522,\n",
      "           0.21622,     0.21722,     0.21822,     0.21922,     0.22022,     0.22122,     0.22222,     0.22322,     0.22422,     0.22523,     0.22623,     0.22723,     0.22823,     0.22923,     0.23023,     0.23123,     0.23223,     0.23323,     0.23423,     0.23524,     0.23624,     0.23724,     0.23824,     0.23924,\n",
      "           0.24024,     0.24124,     0.24224,     0.24324,     0.24424,     0.24525,     0.24625,     0.24725,     0.24825,     0.24925,     0.25025,     0.25125,     0.25225,     0.25325,     0.25425,     0.25526,     0.25626,     0.25726,     0.25826,     0.25926,     0.26026,     0.26126,     0.26226,     0.26326,\n",
      "           0.26426,     0.26527,     0.26627,     0.26727,     0.26827,     0.26927,     0.27027,     0.27127,     0.27227,     0.27327,     0.27427,     0.27528,     0.27628,     0.27728,     0.27828,     0.27928,     0.28028,     0.28128,     0.28228,     0.28328,     0.28428,     0.28529,     0.28629,     0.28729,\n",
      "           0.28829,     0.28929,     0.29029,     0.29129,     0.29229,     0.29329,     0.29429,      0.2953,      0.2963,      0.2973,      0.2983,      0.2993,      0.3003,      0.3013,      0.3023,      0.3033,      0.3043,     0.30531,     0.30631,     0.30731,     0.30831,     0.30931,     0.31031,     0.31131,\n",
      "           0.31231,     0.31331,     0.31431,     0.31532,     0.31632,     0.31732,     0.31832,     0.31932,     0.32032,     0.32132,     0.32232,     0.32332,     0.32432,     0.32533,     0.32633,     0.32733,     0.32833,     0.32933,     0.33033,     0.33133,     0.33233,     0.33333,     0.33433,     0.33534,\n",
      "           0.33634,     0.33734,     0.33834,     0.33934,     0.34034,     0.34134,     0.34234,     0.34334,     0.34434,     0.34535,     0.34635,     0.34735,     0.34835,     0.34935,     0.35035,     0.35135,     0.35235,     0.35335,     0.35435,     0.35536,     0.35636,     0.35736,     0.35836,     0.35936,\n",
      "           0.36036,     0.36136,     0.36236,     0.36336,     0.36436,     0.36537,     0.36637,     0.36737,     0.36837,     0.36937,     0.37037,     0.37137,     0.37237,     0.37337,     0.37437,     0.37538,     0.37638,     0.37738,     0.37838,     0.37938,     0.38038,     0.38138,     0.38238,     0.38338,\n",
      "           0.38438,     0.38539,     0.38639,     0.38739,     0.38839,     0.38939,     0.39039,     0.39139,     0.39239,     0.39339,     0.39439,      0.3954,      0.3964,      0.3974,      0.3984,      0.3994,      0.4004,      0.4014,      0.4024,      0.4034,      0.4044,     0.40541,     0.40641,     0.40741,\n",
      "           0.40841,     0.40941,     0.41041,     0.41141,     0.41241,     0.41341,     0.41441,     0.41542,     0.41642,     0.41742,     0.41842,     0.41942,     0.42042,     0.42142,     0.42242,     0.42342,     0.42442,     0.42543,     0.42643,     0.42743,     0.42843,     0.42943,     0.43043,     0.43143,\n",
      "           0.43243,     0.43343,     0.43443,     0.43544,     0.43644,     0.43744,     0.43844,     0.43944,     0.44044,     0.44144,     0.44244,     0.44344,     0.44444,     0.44545,     0.44645,     0.44745,     0.44845,     0.44945,     0.45045,     0.45145,     0.45245,     0.45345,     0.45445,     0.45546,\n",
      "           0.45646,     0.45746,     0.45846,     0.45946,     0.46046,     0.46146,     0.46246,     0.46346,     0.46446,     0.46547,     0.46647,     0.46747,     0.46847,     0.46947,     0.47047,     0.47147,     0.47247,     0.47347,     0.47447,     0.47548,     0.47648,     0.47748,     0.47848,     0.47948,\n",
      "           0.48048,     0.48148,     0.48248,     0.48348,     0.48448,     0.48549,     0.48649,     0.48749,     0.48849,     0.48949,     0.49049,     0.49149,     0.49249,     0.49349,     0.49449,      0.4955,      0.4965,      0.4975,      0.4985,      0.4995,      0.5005,      0.5015,      0.5025,      0.5035,\n",
      "            0.5045,     0.50551,     0.50651,     0.50751,     0.50851,     0.50951,     0.51051,     0.51151,     0.51251,     0.51351,     0.51451,     0.51552,     0.51652,     0.51752,     0.51852,     0.51952,     0.52052,     0.52152,     0.52252,     0.52352,     0.52452,     0.52553,     0.52653,     0.52753,\n",
      "           0.52853,     0.52953,     0.53053,     0.53153,     0.53253,     0.53353,     0.53453,     0.53554,     0.53654,     0.53754,     0.53854,     0.53954,     0.54054,     0.54154,     0.54254,     0.54354,     0.54454,     0.54555,     0.54655,     0.54755,     0.54855,     0.54955,     0.55055,     0.55155,\n",
      "           0.55255,     0.55355,     0.55455,     0.55556,     0.55656,     0.55756,     0.55856,     0.55956,     0.56056,     0.56156,     0.56256,     0.56356,     0.56456,     0.56557,     0.56657,     0.56757,     0.56857,     0.56957,     0.57057,     0.57157,     0.57257,     0.57357,     0.57457,     0.57558,\n",
      "           0.57658,     0.57758,     0.57858,     0.57958,     0.58058,     0.58158,     0.58258,     0.58358,     0.58458,     0.58559,     0.58659,     0.58759,     0.58859,     0.58959,     0.59059,     0.59159,     0.59259,     0.59359,     0.59459,      0.5956,      0.5966,      0.5976,      0.5986,      0.5996,\n",
      "            0.6006,      0.6016,      0.6026,      0.6036,      0.6046,     0.60561,     0.60661,     0.60761,     0.60861,     0.60961,     0.61061,     0.61161,     0.61261,     0.61361,     0.61461,     0.61562,     0.61662,     0.61762,     0.61862,     0.61962,     0.62062,     0.62162,     0.62262,     0.62362,\n",
      "           0.62462,     0.62563,     0.62663,     0.62763,     0.62863,     0.62963,     0.63063,     0.63163,     0.63263,     0.63363,     0.63463,     0.63564,     0.63664,     0.63764,     0.63864,     0.63964,     0.64064,     0.64164,     0.64264,     0.64364,     0.64464,     0.64565,     0.64665,     0.64765,\n",
      "           0.64865,     0.64965,     0.65065,     0.65165,     0.65265,     0.65365,     0.65465,     0.65566,     0.65666,     0.65766,     0.65866,     0.65966,     0.66066,     0.66166,     0.66266,     0.66366,     0.66466,     0.66567,     0.66667,     0.66767,     0.66867,     0.66967,     0.67067,     0.67167,\n",
      "           0.67267,     0.67367,     0.67467,     0.67568,     0.67668,     0.67768,     0.67868,     0.67968,     0.68068,     0.68168,     0.68268,     0.68368,     0.68468,     0.68569,     0.68669,     0.68769,     0.68869,     0.68969,     0.69069,     0.69169,     0.69269,     0.69369,     0.69469,      0.6957,\n",
      "            0.6967,      0.6977,      0.6987,      0.6997,      0.7007,      0.7017,      0.7027,      0.7037,      0.7047,     0.70571,     0.70671,     0.70771,     0.70871,     0.70971,     0.71071,     0.71171,     0.71271,     0.71371,     0.71471,     0.71572,     0.71672,     0.71772,     0.71872,     0.71972,\n",
      "           0.72072,     0.72172,     0.72272,     0.72372,     0.72472,     0.72573,     0.72673,     0.72773,     0.72873,     0.72973,     0.73073,     0.73173,     0.73273,     0.73373,     0.73473,     0.73574,     0.73674,     0.73774,     0.73874,     0.73974,     0.74074,     0.74174,     0.74274,     0.74374,\n",
      "           0.74474,     0.74575,     0.74675,     0.74775,     0.74875,     0.74975,     0.75075,     0.75175,     0.75275,     0.75375,     0.75475,     0.75576,     0.75676,     0.75776,     0.75876,     0.75976,     0.76076,     0.76176,     0.76276,     0.76376,     0.76476,     0.76577,     0.76677,     0.76777,\n",
      "           0.76877,     0.76977,     0.77077,     0.77177,     0.77277,     0.77377,     0.77477,     0.77578,     0.77678,     0.77778,     0.77878,     0.77978,     0.78078,     0.78178,     0.78278,     0.78378,     0.78478,     0.78579,     0.78679,     0.78779,     0.78879,     0.78979,     0.79079,     0.79179,\n",
      "           0.79279,     0.79379,     0.79479,      0.7958,      0.7968,      0.7978,      0.7988,      0.7998,      0.8008,      0.8018,      0.8028,      0.8038,      0.8048,     0.80581,     0.80681,     0.80781,     0.80881,     0.80981,     0.81081,     0.81181,     0.81281,     0.81381,     0.81481,     0.81582,\n",
      "           0.81682,     0.81782,     0.81882,     0.81982,     0.82082,     0.82182,     0.82282,     0.82382,     0.82482,     0.82583,     0.82683,     0.82783,     0.82883,     0.82983,     0.83083,     0.83183,     0.83283,     0.83383,     0.83483,     0.83584,     0.83684,     0.83784,     0.83884,     0.83984,\n",
      "           0.84084,     0.84184,     0.84284,     0.84384,     0.84484,     0.84585,     0.84685,     0.84785,     0.84885,     0.84985,     0.85085,     0.85185,     0.85285,     0.85385,     0.85485,     0.85586,     0.85686,     0.85786,     0.85886,     0.85986,     0.86086,     0.86186,     0.86286,     0.86386,\n",
      "           0.86486,     0.86587,     0.86687,     0.86787,     0.86887,     0.86987,     0.87087,     0.87187,     0.87287,     0.87387,     0.87487,     0.87588,     0.87688,     0.87788,     0.87888,     0.87988,     0.88088,     0.88188,     0.88288,     0.88388,     0.88488,     0.88589,     0.88689,     0.88789,\n",
      "           0.88889,     0.88989,     0.89089,     0.89189,     0.89289,     0.89389,     0.89489,      0.8959,      0.8969,      0.8979,      0.8989,      0.8999,      0.9009,      0.9019,      0.9029,      0.9039,      0.9049,     0.90591,     0.90691,     0.90791,     0.90891,     0.90991,     0.91091,     0.91191,\n",
      "           0.91291,     0.91391,     0.91491,     0.91592,     0.91692,     0.91792,     0.91892,     0.91992,     0.92092,     0.92192,     0.92292,     0.92392,     0.92492,     0.92593,     0.92693,     0.92793,     0.92893,     0.92993,     0.93093,     0.93193,     0.93293,     0.93393,     0.93493,     0.93594,\n",
      "           0.93694,     0.93794,     0.93894,     0.93994,     0.94094,     0.94194,     0.94294,     0.94394,     0.94494,     0.94595,     0.94695,     0.94795,     0.94895,     0.94995,     0.95095,     0.95195,     0.95295,     0.95395,     0.95495,     0.95596,     0.95696,     0.95796,     0.95896,     0.95996,\n",
      "           0.96096,     0.96196,     0.96296,     0.96396,     0.96496,     0.96597,     0.96697,     0.96797,     0.96897,     0.96997,     0.97097,     0.97197,     0.97297,     0.97397,     0.97497,     0.97598,     0.97698,     0.97798,     0.97898,     0.97998,     0.98098,     0.98198,     0.98298,     0.98398,\n",
      "           0.98498,     0.98599,     0.98699,     0.98799,     0.98899,     0.98999,     0.99099,     0.99199,     0.99299,     0.99399,     0.99499,       0.996,       0.997,       0.998,       0.999,           1]), array([[          1,           1,           1,           1,           1,           1,           1,           1,           1,           1,           1,           1,           1,           1,           1,           1,           1,           1,           1,           1,           1,           1,           1,\n",
      "                  1,           1,           1,      0.9863,      0.9863,      0.9863,      0.9863,      0.9863,      0.9863,      0.9863,      0.9863,      0.9863,      0.9863,      0.9863,      0.9863,      0.9863,      0.9863,      0.9863,      0.9863,      0.9863,      0.9863,      0.9863,      0.9863,\n",
      "             0.9863,      0.9863,      0.9863,      0.9863,      0.9863,      0.9863,      0.9863,      0.9863,      0.9863,      0.9863,      0.9863,      0.9863,      0.9863,      0.9863,      0.9863,      0.9863,      0.9863,      0.9863,      0.9863,      0.9863,      0.9863,      0.9863,      0.9863,\n",
      "             0.9863,      0.9863,      0.9863,      0.9863,      0.9863,      0.9863,      0.9863,      0.9863,      0.9863,      0.9863,      0.9863,      0.9863,      0.9863,      0.9863,      0.9863,      0.9863,      0.9863,      0.9863,      0.9863,      0.9863,      0.9863,      0.9863,      0.9863,\n",
      "             0.9863,      0.9863,      0.9863,      0.9863,      0.9863,      0.9863,      0.9863,      0.9863,      0.9863,      0.9863,      0.9863,      0.9863,      0.9863,      0.9863,      0.9863,     0.98529,     0.98529,     0.98529,     0.98529,     0.98529,     0.98529,     0.98529,     0.98529,\n",
      "            0.98529,     0.98529,     0.98529,     0.98529,     0.98529,     0.98529,     0.98529,     0.98529,     0.98529,     0.98529,     0.98529,     0.98529,     0.98529,     0.98529,     0.98529,     0.98529,     0.98529,     0.98529,     0.98529,     0.98529,     0.98529,     0.98529,     0.98529,\n",
      "            0.98529,     0.98529,     0.98529,     0.98529,     0.98529,     0.98529,     0.98529,     0.98529,     0.98529,     0.98529,     0.98529,     0.98529,     0.98529,     0.98529,     0.98529,     0.98529,     0.98529,     0.98529,     0.98529,     0.98529,     0.98529,     0.98529,     0.98529,\n",
      "            0.98529,     0.98529,     0.98529,     0.98529,     0.98529,     0.98529,     0.98529,     0.98529,     0.98529,     0.98529,     0.98529,     0.98529,     0.98529,     0.98529,     0.98529,     0.98529,     0.98529,     0.98529,     0.98529,     0.98529,     0.98529,     0.98529,     0.98529,\n",
      "            0.98529,     0.98529,     0.98529,     0.98529,     0.98529,     0.98529,     0.98529,     0.98529,     0.98529,     0.98529,     0.98529,     0.98529,     0.98529,     0.98529,     0.98529,     0.98529,     0.98529,     0.98529,     0.98529,     0.98529,     0.98529,     0.98529,     0.98529,\n",
      "            0.98529,     0.98529,     0.98529,     0.98529,     0.98529,     0.98529,     0.98529,     0.98529,     0.98529,     0.98529,     0.98529,     0.98529,     0.98529,     0.98529,     0.98529,     0.98529,     0.98529,     0.98529,     0.98529,     0.98529,     0.98529,     0.98529,     0.98529,\n",
      "            0.98529,     0.98529,     0.98529,     0.98529,     0.98529,     0.98529,     0.98529,     0.98529,     0.98529,     0.98529,     0.98529,     0.98529,     0.98529,     0.98529,     0.98529,     0.98529,     0.98529,     0.98529,     0.98529,     0.98529,     0.98529,     0.98529,     0.98529,\n",
      "            0.98529,     0.98529,     0.98529,     0.98529,     0.98529,     0.98529,     0.98529,     0.98529,     0.98529,     0.98529,     0.98529,     0.98529,     0.98529,     0.98529,     0.98529,     0.98529,     0.98529,     0.98529,     0.98529,     0.98529,     0.98529,     0.98529,     0.98529,\n",
      "            0.98529,     0.98529,     0.98529,     0.98529,     0.98529,     0.98529,     0.98529,     0.98529,     0.98529,     0.98529,     0.98529,     0.98529,     0.98529,     0.98529,     0.98529,     0.98529,     0.98529,     0.98529,     0.98529,     0.98529,     0.98529,     0.98529,     0.98496,\n",
      "            0.98496,     0.98496,     0.98496,     0.98496,     0.98496,     0.98496,     0.98496,     0.98496,     0.98496,     0.98496,     0.98496,     0.98496,     0.98496,     0.98496,     0.98496,     0.98496,     0.98496,     0.98496,     0.98496,     0.98496,     0.98496,     0.98496,     0.98496,\n",
      "            0.98496,     0.98496,     0.98496,     0.98496,     0.98496,     0.98496,     0.98496,     0.98496,     0.98496,     0.98496,     0.98496,     0.98496,     0.98496,     0.98496,     0.98496,     0.98496,     0.98496,     0.98496,     0.98496,     0.98496,     0.98496,     0.98496,     0.98496,\n",
      "            0.98496,     0.98496,     0.98496,     0.98496,     0.98496,     0.98496,     0.98496,     0.98496,     0.98496,     0.98496,     0.98496,     0.98496,     0.98496,     0.98496,     0.98496,     0.98496,     0.98496,     0.98496,     0.98496,     0.98496,     0.98496,     0.98496,     0.98496,\n",
      "            0.98496,     0.98496,     0.98496,     0.98496,     0.98496,     0.98496,     0.98496,     0.98496,     0.98496,     0.98496,     0.98496,     0.98496,     0.98496,     0.98496,     0.98496,     0.98496,     0.98496,     0.98496,     0.98496,     0.98496,     0.98496,     0.98227,     0.98227,\n",
      "            0.98227,     0.98227,     0.98227,     0.98227,     0.98227,     0.98227,     0.98227,     0.98227,     0.98227,     0.98227,     0.98227,     0.98227,     0.98227,     0.98227,     0.98227,     0.98227,     0.98227,     0.98227,     0.98227,     0.98227,     0.97924,     0.97924,     0.97924,\n",
      "            0.97924,     0.97924,     0.97924,     0.97924,     0.97924,     0.97924,      0.9769,      0.9769,      0.9769,      0.9769,      0.9769,      0.9769,      0.9769,      0.9769,      0.9769,      0.9769,      0.9769,      0.9769,      0.9769,      0.9769,      0.9769,      0.9769,      0.9769,\n",
      "             0.9769,      0.9769,     0.97078,     0.97078,     0.97078,     0.97078,     0.97078,     0.96774,     0.96707,     0.96707,     0.96707,     0.96707,     0.96707,     0.96707,     0.96707,     0.96707,     0.96707,     0.96707,     0.96707,     0.96707,     0.96707,     0.96707,     0.96707,\n",
      "            0.96707,     0.96707,     0.96707,     0.96707,     0.96707,     0.96707,     0.96707,     0.96707,     0.96707,     0.96707,     0.96707,     0.96707,     0.96707,     0.96707,     0.96707,     0.96707,     0.96707,     0.96707,     0.96707,     0.96501,     0.96501,     0.96501,     0.96501,\n",
      "            0.96501,     0.96501,     0.96501,     0.96501,     0.96501,     0.96501,     0.96501,     0.96501,     0.96458,     0.96458,     0.96458,     0.96458,     0.96458,     0.96458,     0.96458,     0.96458,     0.96458,     0.96458,     0.96458,     0.96458,     0.96458,     0.96458,     0.96458,\n",
      "            0.96458,     0.96458,     0.96458,     0.96458,     0.96458,     0.96458,     0.96458,     0.96458,     0.96458,     0.96458,     0.96458,     0.96458,     0.96458,     0.96458,     0.96458,     0.96458,     0.96458,     0.96458,     0.96458,     0.96296,     0.96296,     0.96296,     0.96296,\n",
      "            0.96296,     0.96296,     0.96296,     0.96296,     0.96296,     0.96296,     0.96296,     0.96296,     0.96296,     0.96296,     0.96296,     0.96114,     0.96114,     0.96114,     0.96114,     0.96114,     0.96114,     0.96114,     0.96114,     0.96114,     0.96114,     0.95929,     0.95929,\n",
      "            0.95929,     0.95929,     0.95929,     0.95929,     0.95929,     0.95929,     0.95929,      0.9562,      0.9562,      0.9562,      0.9562,      0.9562,      0.9562,      0.9562,      0.9562,      0.9562,      0.9562,      0.9562,      0.9562,      0.9562,      0.9562,      0.9562,      0.9562,\n",
      "             0.9562,      0.9562,      0.9562,      0.9562,      0.9562,      0.9562,      0.9562,      0.9562,     0.95411,     0.95411,     0.95411,     0.95227,     0.95227,     0.95227,     0.95227,     0.95227,     0.95227,     0.95139,     0.95139,     0.95139,     0.95139,     0.95139,     0.95139,\n",
      "            0.95139,     0.95139,     0.95139,     0.95139,     0.95139,     0.95139,     0.95139,     0.95139,     0.95139,     0.95139,     0.95139,     0.95139,     0.95137,     0.95137,     0.95137,     0.95137,     0.95137,     0.95137,     0.95137,     0.95137,     0.95137,     0.95137,     0.95137,\n",
      "            0.95137,     0.95137,     0.95137,     0.95137,     0.95137,     0.95137,     0.95137,     0.95137,     0.95137,     0.95137,     0.95137,     0.95137,     0.95137,     0.95137,     0.95137,     0.95137,     0.95137,     0.95137,     0.95137,     0.95137,     0.95137,     0.95137,     0.95137,\n",
      "            0.95137,     0.95137,     0.95137,     0.95137,     0.95137,     0.95137,     0.95137,     0.95137,     0.95137,     0.95137,     0.95137,     0.95137,     0.95137,     0.95137,     0.95137,     0.95137,     0.95137,     0.95137,     0.95137,     0.95137,     0.95137,     0.95137,     0.95137,\n",
      "            0.94841,     0.94841,     0.94841,     0.94841,     0.94841,     0.94841,     0.94841,     0.94841,     0.94841,     0.94841,     0.94841,     0.94841,     0.94841,     0.94841,     0.94841,     0.94841,     0.94841,     0.94841,     0.94841,     0.94841,     0.94841,     0.94841,     0.94841,\n",
      "            0.94841,     0.94841,     0.94841,     0.94841,     0.94841,     0.94841,     0.94841,     0.94841,     0.94841,     0.94841,     0.94841,     0.94841,     0.94841,     0.94841,     0.94841,     0.94841,     0.94841,     0.94841,     0.94841,     0.94574,     0.94574,     0.94574,     0.94574,\n",
      "            0.94574,     0.94574,     0.94574,     0.94574,     0.94574,     0.94574,     0.94574,     0.94574,     0.94574,     0.94574,     0.94574,     0.94318,     0.94318,     0.94318,     0.94318,     0.94318,     0.94318,     0.94318,     0.94318,     0.94318,     0.94318,     0.94318,     0.94318,\n",
      "            0.94318,     0.94318,     0.94318,     0.94151,     0.93996,     0.93996,     0.93996,     0.93832,     0.93832,      0.9368,      0.9368,      0.9368,     0.93554,     0.93554,     0.93554,     0.93554,     0.93554,     0.93223,     0.93223,     0.93091,     0.93091,     0.93091,     0.93091,\n",
      "            0.92935,     0.92935,      0.9287,      0.9287,      0.9287,      0.9287,      0.9287,      0.9287,      0.9287,      0.9287,      0.9287,      0.9287,      0.9287,      0.9287,     0.92782,     0.92782,     0.92782,     0.92782,     0.92782,     0.92782,     0.92782,     0.92782,     0.92782,\n",
      "            0.92509,     0.92509,     0.92509,     0.92509,     0.92509,     0.92509,     0.92361,     0.92055,     0.92055,     0.91952,     0.91952,     0.91952,     0.91952,     0.91952,     0.91837,     0.91837,     0.91837,     0.91837,     0.91837,       0.914,       0.914,       0.914,     0.91107,\n",
      "            0.90818,     0.90818,     0.90547,     0.90547,     0.90547,     0.90413,     0.90296,     0.90296,     0.90296,     0.90164,     0.90164,     0.89886,     0.89482,     0.89482,     0.89482,      0.8944,      0.8944,      0.8944,      0.8944,      0.8944,      0.8944,      0.8944,      0.8944,\n",
      "             0.8944,     0.89314,     0.89314,     0.88906,      0.8854,      0.8854,      0.8854,      0.8854,     0.87461,     0.87461,     0.86412,      0.8593,      0.8593,      0.8593,     0.84547,     0.84547,     0.82489,     0.81923,     0.81923,     0.81366,     0.80365,     0.80365,     0.79833,\n",
      "             0.7975,      0.7975,     0.79668,     0.79586,     0.79586,     0.79396,     0.78776,     0.78776,     0.73698,     0.73359,     0.73359,     0.73024,     0.72875,     0.72875,     0.70361,      0.6529,      0.6529,     0.61105,     0.61082,     0.61082,     0.59878,     0.55882,     0.55882,\n",
      "            0.55451,     0.55234,     0.51079,     0.51079,     0.42754,     0.41164,     0.41164,     0.39509,     0.37986,     0.37986,     0.33577,     0.30857,     0.30857,      0.2377,     0.22989,     0.22989,     0.19711,     0.15665,     0.15665,     0.13445,     0.10138,     0.10138,     0.10112,\n",
      "           0.093924,    0.093924,     0.07097,     0.07026,     0.06955,     0.06884,    0.068131,    0.067421,    0.066711,    0.066002,    0.065292,    0.064582,    0.063873,    0.063163,    0.062453,    0.061744,    0.061034,    0.060324,    0.059614,    0.058905,    0.058195,    0.057485,    0.056776,\n",
      "           0.056066,    0.055356,    0.054647,    0.053937,    0.053227,    0.052517,    0.051808,    0.051098,    0.050388,    0.049679,    0.048969,    0.048259,     0.04755,     0.04684,     0.04613,    0.045421,    0.044711,    0.044001,    0.043291,    0.042582,    0.041872,    0.041162,    0.040453,\n",
      "           0.039743,    0.039033,    0.038324,    0.037614,    0.036904,    0.036194,    0.035485,    0.034775,    0.034065,    0.033356,    0.032646,    0.031936,    0.031227,    0.030517,    0.029807,    0.029098,    0.028388,    0.027678,    0.026968,    0.026259,    0.025549,    0.024839,     0.02413,\n",
      "            0.02342,     0.02271,    0.022001,    0.021291,    0.020581,    0.019871,    0.019162,    0.018452,    0.017742,    0.017033,    0.016323,    0.015613,    0.014904,    0.014194,    0.013484,    0.012775,    0.012065,    0.011355,    0.010645,   0.0099357,    0.009226,   0.0085163,   0.0078067,\n",
      "           0.007097,   0.0063873,   0.0056776,   0.0049679,   0.0042582,   0.0035485,   0.0028388,   0.0021291,   0.0014194,   0.0007097,           0]]), 'Recall', 'Precision'], [array([          0,    0.001001,    0.002002,    0.003003,    0.004004,    0.005005,    0.006006,    0.007007,    0.008008,    0.009009,     0.01001,    0.011011,    0.012012,    0.013013,    0.014014,    0.015015,    0.016016,    0.017017,    0.018018,    0.019019,     0.02002,    0.021021,    0.022022,    0.023023,\n",
      "          0.024024,    0.025025,    0.026026,    0.027027,    0.028028,    0.029029,     0.03003,    0.031031,    0.032032,    0.033033,    0.034034,    0.035035,    0.036036,    0.037037,    0.038038,    0.039039,     0.04004,    0.041041,    0.042042,    0.043043,    0.044044,    0.045045,    0.046046,    0.047047,\n",
      "          0.048048,    0.049049,     0.05005,    0.051051,    0.052052,    0.053053,    0.054054,    0.055055,    0.056056,    0.057057,    0.058058,    0.059059,     0.06006,    0.061061,    0.062062,    0.063063,    0.064064,    0.065065,    0.066066,    0.067067,    0.068068,    0.069069,     0.07007,    0.071071,\n",
      "          0.072072,    0.073073,    0.074074,    0.075075,    0.076076,    0.077077,    0.078078,    0.079079,     0.08008,    0.081081,    0.082082,    0.083083,    0.084084,    0.085085,    0.086086,    0.087087,    0.088088,    0.089089,     0.09009,    0.091091,    0.092092,    0.093093,    0.094094,    0.095095,\n",
      "          0.096096,    0.097097,    0.098098,    0.099099,      0.1001,      0.1011,      0.1021,      0.1031,      0.1041,     0.10511,     0.10611,     0.10711,     0.10811,     0.10911,     0.11011,     0.11111,     0.11211,     0.11311,     0.11411,     0.11512,     0.11612,     0.11712,     0.11812,     0.11912,\n",
      "           0.12012,     0.12112,     0.12212,     0.12312,     0.12412,     0.12513,     0.12613,     0.12713,     0.12813,     0.12913,     0.13013,     0.13113,     0.13213,     0.13313,     0.13413,     0.13514,     0.13614,     0.13714,     0.13814,     0.13914,     0.14014,     0.14114,     0.14214,     0.14314,\n",
      "           0.14414,     0.14515,     0.14615,     0.14715,     0.14815,     0.14915,     0.15015,     0.15115,     0.15215,     0.15315,     0.15415,     0.15516,     0.15616,     0.15716,     0.15816,     0.15916,     0.16016,     0.16116,     0.16216,     0.16316,     0.16416,     0.16517,     0.16617,     0.16717,\n",
      "           0.16817,     0.16917,     0.17017,     0.17117,     0.17217,     0.17317,     0.17417,     0.17518,     0.17618,     0.17718,     0.17818,     0.17918,     0.18018,     0.18118,     0.18218,     0.18318,     0.18418,     0.18519,     0.18619,     0.18719,     0.18819,     0.18919,     0.19019,     0.19119,\n",
      "           0.19219,     0.19319,     0.19419,      0.1952,      0.1962,      0.1972,      0.1982,      0.1992,      0.2002,      0.2012,      0.2022,      0.2032,      0.2042,     0.20521,     0.20621,     0.20721,     0.20821,     0.20921,     0.21021,     0.21121,     0.21221,     0.21321,     0.21421,     0.21522,\n",
      "           0.21622,     0.21722,     0.21822,     0.21922,     0.22022,     0.22122,     0.22222,     0.22322,     0.22422,     0.22523,     0.22623,     0.22723,     0.22823,     0.22923,     0.23023,     0.23123,     0.23223,     0.23323,     0.23423,     0.23524,     0.23624,     0.23724,     0.23824,     0.23924,\n",
      "           0.24024,     0.24124,     0.24224,     0.24324,     0.24424,     0.24525,     0.24625,     0.24725,     0.24825,     0.24925,     0.25025,     0.25125,     0.25225,     0.25325,     0.25425,     0.25526,     0.25626,     0.25726,     0.25826,     0.25926,     0.26026,     0.26126,     0.26226,     0.26326,\n",
      "           0.26426,     0.26527,     0.26627,     0.26727,     0.26827,     0.26927,     0.27027,     0.27127,     0.27227,     0.27327,     0.27427,     0.27528,     0.27628,     0.27728,     0.27828,     0.27928,     0.28028,     0.28128,     0.28228,     0.28328,     0.28428,     0.28529,     0.28629,     0.28729,\n",
      "           0.28829,     0.28929,     0.29029,     0.29129,     0.29229,     0.29329,     0.29429,      0.2953,      0.2963,      0.2973,      0.2983,      0.2993,      0.3003,      0.3013,      0.3023,      0.3033,      0.3043,     0.30531,     0.30631,     0.30731,     0.30831,     0.30931,     0.31031,     0.31131,\n",
      "           0.31231,     0.31331,     0.31431,     0.31532,     0.31632,     0.31732,     0.31832,     0.31932,     0.32032,     0.32132,     0.32232,     0.32332,     0.32432,     0.32533,     0.32633,     0.32733,     0.32833,     0.32933,     0.33033,     0.33133,     0.33233,     0.33333,     0.33433,     0.33534,\n",
      "           0.33634,     0.33734,     0.33834,     0.33934,     0.34034,     0.34134,     0.34234,     0.34334,     0.34434,     0.34535,     0.34635,     0.34735,     0.34835,     0.34935,     0.35035,     0.35135,     0.35235,     0.35335,     0.35435,     0.35536,     0.35636,     0.35736,     0.35836,     0.35936,\n",
      "           0.36036,     0.36136,     0.36236,     0.36336,     0.36436,     0.36537,     0.36637,     0.36737,     0.36837,     0.36937,     0.37037,     0.37137,     0.37237,     0.37337,     0.37437,     0.37538,     0.37638,     0.37738,     0.37838,     0.37938,     0.38038,     0.38138,     0.38238,     0.38338,\n",
      "           0.38438,     0.38539,     0.38639,     0.38739,     0.38839,     0.38939,     0.39039,     0.39139,     0.39239,     0.39339,     0.39439,      0.3954,      0.3964,      0.3974,      0.3984,      0.3994,      0.4004,      0.4014,      0.4024,      0.4034,      0.4044,     0.40541,     0.40641,     0.40741,\n",
      "           0.40841,     0.40941,     0.41041,     0.41141,     0.41241,     0.41341,     0.41441,     0.41542,     0.41642,     0.41742,     0.41842,     0.41942,     0.42042,     0.42142,     0.42242,     0.42342,     0.42442,     0.42543,     0.42643,     0.42743,     0.42843,     0.42943,     0.43043,     0.43143,\n",
      "           0.43243,     0.43343,     0.43443,     0.43544,     0.43644,     0.43744,     0.43844,     0.43944,     0.44044,     0.44144,     0.44244,     0.44344,     0.44444,     0.44545,     0.44645,     0.44745,     0.44845,     0.44945,     0.45045,     0.45145,     0.45245,     0.45345,     0.45445,     0.45546,\n",
      "           0.45646,     0.45746,     0.45846,     0.45946,     0.46046,     0.46146,     0.46246,     0.46346,     0.46446,     0.46547,     0.46647,     0.46747,     0.46847,     0.46947,     0.47047,     0.47147,     0.47247,     0.47347,     0.47447,     0.47548,     0.47648,     0.47748,     0.47848,     0.47948,\n",
      "           0.48048,     0.48148,     0.48248,     0.48348,     0.48448,     0.48549,     0.48649,     0.48749,     0.48849,     0.48949,     0.49049,     0.49149,     0.49249,     0.49349,     0.49449,      0.4955,      0.4965,      0.4975,      0.4985,      0.4995,      0.5005,      0.5015,      0.5025,      0.5035,\n",
      "            0.5045,     0.50551,     0.50651,     0.50751,     0.50851,     0.50951,     0.51051,     0.51151,     0.51251,     0.51351,     0.51451,     0.51552,     0.51652,     0.51752,     0.51852,     0.51952,     0.52052,     0.52152,     0.52252,     0.52352,     0.52452,     0.52553,     0.52653,     0.52753,\n",
      "           0.52853,     0.52953,     0.53053,     0.53153,     0.53253,     0.53353,     0.53453,     0.53554,     0.53654,     0.53754,     0.53854,     0.53954,     0.54054,     0.54154,     0.54254,     0.54354,     0.54454,     0.54555,     0.54655,     0.54755,     0.54855,     0.54955,     0.55055,     0.55155,\n",
      "           0.55255,     0.55355,     0.55455,     0.55556,     0.55656,     0.55756,     0.55856,     0.55956,     0.56056,     0.56156,     0.56256,     0.56356,     0.56456,     0.56557,     0.56657,     0.56757,     0.56857,     0.56957,     0.57057,     0.57157,     0.57257,     0.57357,     0.57457,     0.57558,\n",
      "           0.57658,     0.57758,     0.57858,     0.57958,     0.58058,     0.58158,     0.58258,     0.58358,     0.58458,     0.58559,     0.58659,     0.58759,     0.58859,     0.58959,     0.59059,     0.59159,     0.59259,     0.59359,     0.59459,      0.5956,      0.5966,      0.5976,      0.5986,      0.5996,\n",
      "            0.6006,      0.6016,      0.6026,      0.6036,      0.6046,     0.60561,     0.60661,     0.60761,     0.60861,     0.60961,     0.61061,     0.61161,     0.61261,     0.61361,     0.61461,     0.61562,     0.61662,     0.61762,     0.61862,     0.61962,     0.62062,     0.62162,     0.62262,     0.62362,\n",
      "           0.62462,     0.62563,     0.62663,     0.62763,     0.62863,     0.62963,     0.63063,     0.63163,     0.63263,     0.63363,     0.63463,     0.63564,     0.63664,     0.63764,     0.63864,     0.63964,     0.64064,     0.64164,     0.64264,     0.64364,     0.64464,     0.64565,     0.64665,     0.64765,\n",
      "           0.64865,     0.64965,     0.65065,     0.65165,     0.65265,     0.65365,     0.65465,     0.65566,     0.65666,     0.65766,     0.65866,     0.65966,     0.66066,     0.66166,     0.66266,     0.66366,     0.66466,     0.66567,     0.66667,     0.66767,     0.66867,     0.66967,     0.67067,     0.67167,\n",
      "           0.67267,     0.67367,     0.67467,     0.67568,     0.67668,     0.67768,     0.67868,     0.67968,     0.68068,     0.68168,     0.68268,     0.68368,     0.68468,     0.68569,     0.68669,     0.68769,     0.68869,     0.68969,     0.69069,     0.69169,     0.69269,     0.69369,     0.69469,      0.6957,\n",
      "            0.6967,      0.6977,      0.6987,      0.6997,      0.7007,      0.7017,      0.7027,      0.7037,      0.7047,     0.70571,     0.70671,     0.70771,     0.70871,     0.70971,     0.71071,     0.71171,     0.71271,     0.71371,     0.71471,     0.71572,     0.71672,     0.71772,     0.71872,     0.71972,\n",
      "           0.72072,     0.72172,     0.72272,     0.72372,     0.72472,     0.72573,     0.72673,     0.72773,     0.72873,     0.72973,     0.73073,     0.73173,     0.73273,     0.73373,     0.73473,     0.73574,     0.73674,     0.73774,     0.73874,     0.73974,     0.74074,     0.74174,     0.74274,     0.74374,\n",
      "           0.74474,     0.74575,     0.74675,     0.74775,     0.74875,     0.74975,     0.75075,     0.75175,     0.75275,     0.75375,     0.75475,     0.75576,     0.75676,     0.75776,     0.75876,     0.75976,     0.76076,     0.76176,     0.76276,     0.76376,     0.76476,     0.76577,     0.76677,     0.76777,\n",
      "           0.76877,     0.76977,     0.77077,     0.77177,     0.77277,     0.77377,     0.77477,     0.77578,     0.77678,     0.77778,     0.77878,     0.77978,     0.78078,     0.78178,     0.78278,     0.78378,     0.78478,     0.78579,     0.78679,     0.78779,     0.78879,     0.78979,     0.79079,     0.79179,\n",
      "           0.79279,     0.79379,     0.79479,      0.7958,      0.7968,      0.7978,      0.7988,      0.7998,      0.8008,      0.8018,      0.8028,      0.8038,      0.8048,     0.80581,     0.80681,     0.80781,     0.80881,     0.80981,     0.81081,     0.81181,     0.81281,     0.81381,     0.81481,     0.81582,\n",
      "           0.81682,     0.81782,     0.81882,     0.81982,     0.82082,     0.82182,     0.82282,     0.82382,     0.82482,     0.82583,     0.82683,     0.82783,     0.82883,     0.82983,     0.83083,     0.83183,     0.83283,     0.83383,     0.83483,     0.83584,     0.83684,     0.83784,     0.83884,     0.83984,\n",
      "           0.84084,     0.84184,     0.84284,     0.84384,     0.84484,     0.84585,     0.84685,     0.84785,     0.84885,     0.84985,     0.85085,     0.85185,     0.85285,     0.85385,     0.85485,     0.85586,     0.85686,     0.85786,     0.85886,     0.85986,     0.86086,     0.86186,     0.86286,     0.86386,\n",
      "           0.86486,     0.86587,     0.86687,     0.86787,     0.86887,     0.86987,     0.87087,     0.87187,     0.87287,     0.87387,     0.87487,     0.87588,     0.87688,     0.87788,     0.87888,     0.87988,     0.88088,     0.88188,     0.88288,     0.88388,     0.88488,     0.88589,     0.88689,     0.88789,\n",
      "           0.88889,     0.88989,     0.89089,     0.89189,     0.89289,     0.89389,     0.89489,      0.8959,      0.8969,      0.8979,      0.8989,      0.8999,      0.9009,      0.9019,      0.9029,      0.9039,      0.9049,     0.90591,     0.90691,     0.90791,     0.90891,     0.90991,     0.91091,     0.91191,\n",
      "           0.91291,     0.91391,     0.91491,     0.91592,     0.91692,     0.91792,     0.91892,     0.91992,     0.92092,     0.92192,     0.92292,     0.92392,     0.92492,     0.92593,     0.92693,     0.92793,     0.92893,     0.92993,     0.93093,     0.93193,     0.93293,     0.93393,     0.93493,     0.93594,\n",
      "           0.93694,     0.93794,     0.93894,     0.93994,     0.94094,     0.94194,     0.94294,     0.94394,     0.94494,     0.94595,     0.94695,     0.94795,     0.94895,     0.94995,     0.95095,     0.95195,     0.95295,     0.95395,     0.95495,     0.95596,     0.95696,     0.95796,     0.95896,     0.95996,\n",
      "           0.96096,     0.96196,     0.96296,     0.96396,     0.96496,     0.96597,     0.96697,     0.96797,     0.96897,     0.96997,     0.97097,     0.97197,     0.97297,     0.97397,     0.97497,     0.97598,     0.97698,     0.97798,     0.97898,     0.97998,     0.98098,     0.98198,     0.98298,     0.98398,\n",
      "           0.98498,     0.98599,     0.98699,     0.98799,     0.98899,     0.98999,     0.99099,     0.99199,     0.99299,     0.99399,     0.99499,       0.996,       0.997,       0.998,       0.999,           1]), array([[    0.13252,     0.13264,     0.24296,     0.32553,     0.38951,     0.44145,     0.48658,     0.52287,     0.54966,      0.5787,     0.60786,     0.62814,     0.64745,      0.6612,     0.67333,     0.68112,     0.68869,     0.69694,     0.70405,     0.71008,     0.71759,     0.72497,     0.72933,\n",
      "            0.73575,     0.74216,     0.74517,     0.74719,     0.75202,     0.75578,     0.75924,     0.76216,     0.76338,     0.76574,      0.7688,     0.76967,     0.77209,     0.77285,      0.7749,     0.77593,     0.77776,     0.77956,     0.77992,     0.78232,     0.78455,     0.78693,     0.78774,\n",
      "            0.78964,     0.79077,     0.79088,     0.79258,     0.79394,     0.79325,     0.79448,     0.79623,     0.79684,     0.79782,     0.79945,      0.8007,     0.80176,     0.80238,     0.80307,     0.80358,     0.80495,     0.80559,     0.80706,     0.80742,     0.80878,     0.80947,     0.81046,\n",
      "             0.8121,     0.81329,     0.81363,     0.81418,     0.81495,     0.81601,     0.81692,     0.81744,     0.81784,     0.81803,     0.81822,     0.81898,     0.82016,     0.82033,     0.82051,     0.82068,      0.8215,     0.82179,     0.82153,     0.82112,     0.82144,     0.82275,     0.82442,\n",
      "            0.82398,     0.82385,     0.82412,     0.82453,     0.82408,     0.82428,     0.82447,      0.8243,     0.82437,     0.82411,     0.82385,     0.82359,     0.82363,     0.82377,     0.82391,     0.82405,     0.82379,     0.82411,     0.82436,     0.82525,     0.82581,     0.82612,     0.82606,\n",
      "            0.82575,     0.82544,     0.82597,     0.82632,     0.82671,     0.82722,     0.82752,     0.82798,     0.82863,     0.82893,      0.8297,     0.82991,     0.83012,     0.83032,     0.83052,     0.83073,     0.83053,     0.83015,     0.83036,     0.83065,     0.83079,     0.83093,     0.83106,\n",
      "            0.83127,     0.83159,     0.83193,     0.83231,     0.83262,     0.83218,     0.83259,     0.83285,     0.83301,     0.83318,     0.83338,     0.83409,     0.83458,     0.83477,     0.83496,     0.83515,     0.83488,     0.83457,     0.83433,     0.83442,     0.83451,     0.83461,      0.8347,\n",
      "            0.83479,     0.83489,     0.83527,     0.83574,     0.83612,     0.83626,     0.83638,      0.8365,     0.83662,     0.83674,      0.8369,     0.83706,     0.83722,     0.83747,     0.83886,      0.8393,     0.83946,     0.83961,     0.83977,     0.83988,     0.83995,     0.84002,     0.84009,\n",
      "            0.84016,     0.84023,      0.8403,     0.84037,     0.84044,     0.84069,      0.8411,     0.84119,     0.84128,     0.84137,     0.84146,     0.84154,     0.84163,     0.84172,     0.84185,     0.84198,     0.84212,     0.84225,     0.84253,       0.843,     0.84313,     0.84326,     0.84338,\n",
      "            0.84351,     0.84426,      0.8444,     0.84453,     0.84466,      0.8448,     0.84465,     0.84437,     0.84408,     0.84402,     0.84408,     0.84414,      0.8442,     0.84425,     0.84431,     0.84437,     0.84443,     0.84449,     0.84455,     0.84461,     0.84471,     0.84481,     0.84491,\n",
      "            0.84501,     0.84511,     0.84521,     0.84591,     0.84612,     0.84633,     0.84658,     0.84698,      0.8475,     0.84821,     0.84854,     0.84874,     0.84893,     0.84916,     0.84942,     0.84967,     0.84975,     0.84983,     0.84992,        0.85,     0.85008,     0.85017,     0.85025,\n",
      "            0.85037,     0.85055,     0.85073,     0.85091,     0.85012,     0.84994,     0.84981,     0.84967,     0.84953,      0.8494,     0.84926,     0.84928,     0.84939,      0.8495,      0.8496,     0.84971,     0.84981,     0.85002,     0.85029,      0.8505,     0.85054,     0.85058,     0.85062,\n",
      "            0.85066,      0.8507,     0.85074,     0.85078,     0.85082,     0.85086,      0.8509,     0.85094,     0.85098,     0.85102,     0.85106,      0.8511,     0.85123,      0.8516,     0.85107,     0.85095,       0.851,     0.85105,      0.8511,     0.85115,      0.8512,     0.85125,     0.85129,\n",
      "            0.85134,     0.85139,     0.85144,     0.85149,     0.85154,     0.85159,     0.85164,     0.85168,     0.85173,     0.85178,     0.85182,     0.85187,     0.85191,     0.85196,     0.85201,     0.85205,      0.8521,     0.85215,     0.85221,     0.85234,     0.85247,     0.85261,     0.85274,\n",
      "            0.85287,     0.85301,     0.85315,     0.85328,     0.85342,      0.8541,     0.85433,     0.85455,     0.85477,     0.85495,     0.85514,     0.85532,     0.85544,     0.85549,     0.85554,     0.85559,     0.85565,      0.8557,     0.85575,      0.8558,     0.85586,     0.85591,     0.85596,\n",
      "            0.85601,       0.856,     0.85521,      0.8554,     0.85558,     0.85577,     0.85591,     0.85603,     0.85615,     0.85626,     0.85638,      0.8565,     0.85676,     0.85701,     0.85724,     0.85745,     0.85765,     0.85781,     0.85787,     0.85793,     0.85799,     0.85805,     0.85811,\n",
      "            0.85817,     0.85823,     0.85829,     0.85835,     0.85841,     0.85848,      0.8586,     0.85871,     0.85882,     0.85894,     0.85905,     0.85912,     0.85915,     0.85919,     0.85922,     0.85926,     0.85929,     0.85933,     0.85936,      0.8594,     0.85943,     0.85946,      0.8595,\n",
      "            0.85953,     0.85957,      0.8596,     0.85964,     0.85967,     0.85971,     0.85974,     0.85985,     0.86003,     0.86021,     0.86038,     0.86036,     0.86029,     0.86022,     0.86015,     0.86008,     0.86002,     0.85995,     0.85988,     0.85981,     0.85974,     0.85968,     0.85961,\n",
      "            0.85953,     0.85911,     0.85869,     0.85854,      0.8587,     0.85886,     0.85903,     0.85918,     0.85933,     0.85948,     0.85963,     0.85975,     0.85896,     0.85906,     0.85923,      0.8594,     0.85957,     0.85969,     0.85981,     0.85993,     0.86005,     0.86017,     0.86036,\n",
      "             0.8606,     0.86084,     0.86084,      0.8608,     0.86076,     0.86073,     0.86069,     0.86065,     0.86061,     0.86057,     0.86053,     0.86049,     0.86045,     0.86041,     0.86037,     0.86033,     0.86029,     0.86025,     0.86022,     0.86018,     0.86014,      0.8601,     0.86006,\n",
      "            0.86002,     0.86006,     0.86018,     0.86029,     0.86041,     0.86053,     0.86065,     0.85952,     0.85898,     0.85883,     0.85874,     0.85865,     0.85855,     0.85846,     0.85837,     0.85828,     0.85819,      0.8581,     0.85784,     0.85711,     0.85704,     0.85697,      0.8569,\n",
      "            0.85683,     0.85676,     0.85668,     0.85661,     0.85654,     0.85647,      0.8564,     0.85633,     0.85625,     0.85614,     0.85603,     0.85592,     0.85581,      0.8557,     0.85559,     0.85548,     0.85538,     0.85546,     0.85553,     0.85561,     0.85569,     0.85577,     0.85585,\n",
      "            0.85593,       0.856,     0.85598,     0.85588,     0.85578,     0.85567,     0.85557,     0.85547,     0.85537,     0.85527,     0.85517,     0.85476,      0.8543,     0.85442,      0.8546,     0.85477,      0.8552,     0.85564,      0.8557,     0.85576,     0.85582,     0.85588,     0.85594,\n",
      "              0.856,     0.85606,     0.85612,     0.85617,     0.85623,     0.85546,     0.85567,     0.85588,     0.85613,     0.85648,     0.85659,      0.8563,       0.856,     0.85583,     0.85591,     0.85599,     0.85607,     0.85615,     0.85623,     0.85631,     0.85639,     0.85647,     0.85557,\n",
      "            0.85546,     0.85534,     0.85523,     0.85512,     0.85501,      0.8549,     0.85478,     0.85473,     0.85501,      0.8553,      0.8551,     0.85478,     0.85446,     0.85452,     0.85458,     0.85464,     0.85471,     0.85477,     0.85483,     0.85489,     0.85495,     0.85501,     0.85507,\n",
      "             0.8551,     0.85486,     0.85461,     0.85436,     0.85412,      0.8539,     0.85368,     0.85346,     0.85337,     0.85347,     0.85356,     0.85366,     0.85375,     0.85385,     0.85394,     0.85403,      0.8541,     0.85417,     0.85424,     0.85431,     0.85438,     0.85445,     0.85452,\n",
      "            0.85459,     0.85466,     0.85461,     0.85453,     0.85445,     0.85438,      0.8543,     0.85422,     0.85414,     0.85407,     0.85399,     0.85391,     0.85383,      0.8538,     0.85391,     0.85402,     0.85412,     0.85423,     0.85434,     0.85446,     0.85494,     0.85426,     0.85435,\n",
      "            0.85444,     0.85453,     0.85462,     0.85471,      0.8548,     0.85489,       0.855,     0.85511,     0.85522,     0.85534,     0.85545,     0.85556,     0.85521,     0.85484,     0.85458,     0.85444,      0.8543,     0.85415,     0.85401,     0.85386,     0.85377,     0.85384,     0.85391,\n",
      "            0.85398,     0.85405,     0.85412,      0.8542,     0.85427,     0.85434,     0.85441,     0.85565,     0.85522,     0.85473,     0.85406,     0.85386,     0.85374,     0.85362,      0.8535,     0.85337,     0.85325,     0.85313,     0.85348,     0.85265,     0.85237,     0.85208,     0.85175,\n",
      "            0.85137,       0.851,      0.8508,      0.8506,      0.8504,      0.8502,     0.85016,     0.85037,     0.85058,     0.85059,     0.85015,     0.85064,     0.85086,     0.85108,     0.85032,     0.85045,     0.85059,     0.85072,     0.85085,      0.8509,     0.85054,     0.85018,     0.84819,\n",
      "            0.84814,      0.8481,     0.84805,       0.848,     0.84796,     0.84791,     0.84786,     0.84781,     0.84777,     0.84772,     0.84767,     0.84763,     0.84758,     0.84753,     0.84748,     0.84744,     0.84739,     0.84734,      0.8473,     0.84736,      0.8476,     0.84783,     0.84806,\n",
      "            0.84828,      0.8485,     0.84851,     0.84822,     0.84792,     0.84765,     0.84745,     0.84724,     0.84704,     0.84683,     0.84563,     0.84371,     0.84318,     0.84326,     0.84356,     0.84357,     0.84322,     0.84288,     0.84167,     0.84142,     0.84117,     0.84092,     0.84056,\n",
      "             0.8402,     0.83929,     0.83862,     0.83815,     0.83735,     0.83655,     0.83683,     0.83606,     0.83619,     0.83651,     0.83544,     0.83491,     0.83379,     0.83407,     0.83435,     0.83417,     0.83382,     0.83347,     0.83394,     0.83438,      0.8334,     0.83257,     0.83189,\n",
      "            0.83139,     0.83145,     0.83044,     0.82994,     0.82988,     0.83009,      0.8303,     0.82968,     0.82963,      0.8298,     0.82998,     0.83015,     0.82997,     0.82977,     0.82958,     0.82938,     0.82919,      0.8286,     0.82857,     0.82817,     0.82857,     0.82759,     0.82658,\n",
      "            0.82611,     0.82548,     0.82362,     0.82328,     0.82294,     0.82064,     0.82012,     0.81961,     0.81912,     0.81992,     0.81979,     0.81939,     0.81793,     0.81498,     0.81408,     0.81362,     0.81304,     0.81169,     0.81106,     0.81061,      0.8102,     0.81141,     0.81072,\n",
      "            0.80961,     0.80919,     0.80884,     0.80845,     0.80772,     0.80457,     0.80392,     0.80337,     0.80281,     0.80218,     0.80118,     0.79896,      0.7967,     0.79562,     0.79388,     0.79291,     0.79148,     0.79013,     0.78764,     0.78638,     0.78399,     0.78357,     0.78387,\n",
      "            0.78346,     0.78053,     0.77744,     0.77357,     0.77146,     0.76957,     0.76856,     0.76748,     0.76515,     0.76178,     0.76116,     0.76017,     0.75768,     0.75699,     0.75625,     0.75355,     0.74922,     0.74869,     0.74801,     0.74421,     0.74317,      0.7409,     0.73986,\n",
      "            0.73791,     0.73264,     0.73006,     0.72637,     0.72529,     0.72379,       0.723,     0.72004,     0.71336,     0.71267,     0.71177,     0.70923,      0.7054,     0.70596,     0.70093,     0.69874,     0.69634,     0.69119,     0.68253,     0.68058,     0.67758,      0.6735,     0.66833,\n",
      "            0.66541,     0.66376,     0.65989,     0.65589,     0.65089,     0.64358,     0.64038,     0.63525,     0.63042,     0.62228,     0.61222,     0.60849,     0.60658,      0.6059,      0.5957,     0.58974,     0.58419,     0.57866,     0.56737,     0.55707,     0.55266,     0.54084,     0.53298,\n",
      "             0.5219,     0.51593,     0.51114,     0.50265,     0.49196,     0.47659,     0.47208,     0.46842,     0.45491,     0.43913,     0.42603,     0.41501,     0.40402,     0.39577,     0.38971,     0.37467,     0.36025,     0.35371,     0.34388,     0.33229,     0.32674,     0.31923,     0.30734,\n",
      "            0.29793,     0.29014,     0.28404,     0.27029,     0.25923,     0.25124,     0.23996,     0.22214,     0.21555,     0.20138,     0.19265,     0.18347,     0.17817,     0.17395,      0.1617,     0.15783,     0.14571,     0.14429,     0.14224,      0.1304,     0.11721,    0.097792,     0.08762,\n",
      "           0.084589,    0.073145,    0.068454,    0.059906,    0.058233,    0.056694,    0.055245,    0.049136,    0.045701,    0.044102,    0.040077,    0.038103,    0.032805,    0.031278,    0.030336,    0.029394,    0.028151,    0.026847,     0.02304,     0.02208,    0.021119,    0.017465,    0.014536,\n",
      "           0.014105,    0.013673,    0.013241,    0.012809,    0.012377,    0.011944,    0.010623,   0.0088497,   0.0071036,   0.0058706,   0.0057257,   0.0055808,   0.0054358,   0.0052909,   0.0051459,   0.0050009,   0.0048559,   0.0047108,   0.0045658,   0.0044207,   0.0042756,   0.0041305,   0.0039853,\n",
      "          0.0038401,   0.0036949,   0.0035497,   0.0034045,   0.0032593,    0.003114,   0.0029687,           0,           0,           0,           0]]), 'Confidence', 'F1'], [array([          0,    0.001001,    0.002002,    0.003003,    0.004004,    0.005005,    0.006006,    0.007007,    0.008008,    0.009009,     0.01001,    0.011011,    0.012012,    0.013013,    0.014014,    0.015015,    0.016016,    0.017017,    0.018018,    0.019019,     0.02002,    0.021021,    0.022022,    0.023023,\n",
      "          0.024024,    0.025025,    0.026026,    0.027027,    0.028028,    0.029029,     0.03003,    0.031031,    0.032032,    0.033033,    0.034034,    0.035035,    0.036036,    0.037037,    0.038038,    0.039039,     0.04004,    0.041041,    0.042042,    0.043043,    0.044044,    0.045045,    0.046046,    0.047047,\n",
      "          0.048048,    0.049049,     0.05005,    0.051051,    0.052052,    0.053053,    0.054054,    0.055055,    0.056056,    0.057057,    0.058058,    0.059059,     0.06006,    0.061061,    0.062062,    0.063063,    0.064064,    0.065065,    0.066066,    0.067067,    0.068068,    0.069069,     0.07007,    0.071071,\n",
      "          0.072072,    0.073073,    0.074074,    0.075075,    0.076076,    0.077077,    0.078078,    0.079079,     0.08008,    0.081081,    0.082082,    0.083083,    0.084084,    0.085085,    0.086086,    0.087087,    0.088088,    0.089089,     0.09009,    0.091091,    0.092092,    0.093093,    0.094094,    0.095095,\n",
      "          0.096096,    0.097097,    0.098098,    0.099099,      0.1001,      0.1011,      0.1021,      0.1031,      0.1041,     0.10511,     0.10611,     0.10711,     0.10811,     0.10911,     0.11011,     0.11111,     0.11211,     0.11311,     0.11411,     0.11512,     0.11612,     0.11712,     0.11812,     0.11912,\n",
      "           0.12012,     0.12112,     0.12212,     0.12312,     0.12412,     0.12513,     0.12613,     0.12713,     0.12813,     0.12913,     0.13013,     0.13113,     0.13213,     0.13313,     0.13413,     0.13514,     0.13614,     0.13714,     0.13814,     0.13914,     0.14014,     0.14114,     0.14214,     0.14314,\n",
      "           0.14414,     0.14515,     0.14615,     0.14715,     0.14815,     0.14915,     0.15015,     0.15115,     0.15215,     0.15315,     0.15415,     0.15516,     0.15616,     0.15716,     0.15816,     0.15916,     0.16016,     0.16116,     0.16216,     0.16316,     0.16416,     0.16517,     0.16617,     0.16717,\n",
      "           0.16817,     0.16917,     0.17017,     0.17117,     0.17217,     0.17317,     0.17417,     0.17518,     0.17618,     0.17718,     0.17818,     0.17918,     0.18018,     0.18118,     0.18218,     0.18318,     0.18418,     0.18519,     0.18619,     0.18719,     0.18819,     0.18919,     0.19019,     0.19119,\n",
      "           0.19219,     0.19319,     0.19419,      0.1952,      0.1962,      0.1972,      0.1982,      0.1992,      0.2002,      0.2012,      0.2022,      0.2032,      0.2042,     0.20521,     0.20621,     0.20721,     0.20821,     0.20921,     0.21021,     0.21121,     0.21221,     0.21321,     0.21421,     0.21522,\n",
      "           0.21622,     0.21722,     0.21822,     0.21922,     0.22022,     0.22122,     0.22222,     0.22322,     0.22422,     0.22523,     0.22623,     0.22723,     0.22823,     0.22923,     0.23023,     0.23123,     0.23223,     0.23323,     0.23423,     0.23524,     0.23624,     0.23724,     0.23824,     0.23924,\n",
      "           0.24024,     0.24124,     0.24224,     0.24324,     0.24424,     0.24525,     0.24625,     0.24725,     0.24825,     0.24925,     0.25025,     0.25125,     0.25225,     0.25325,     0.25425,     0.25526,     0.25626,     0.25726,     0.25826,     0.25926,     0.26026,     0.26126,     0.26226,     0.26326,\n",
      "           0.26426,     0.26527,     0.26627,     0.26727,     0.26827,     0.26927,     0.27027,     0.27127,     0.27227,     0.27327,     0.27427,     0.27528,     0.27628,     0.27728,     0.27828,     0.27928,     0.28028,     0.28128,     0.28228,     0.28328,     0.28428,     0.28529,     0.28629,     0.28729,\n",
      "           0.28829,     0.28929,     0.29029,     0.29129,     0.29229,     0.29329,     0.29429,      0.2953,      0.2963,      0.2973,      0.2983,      0.2993,      0.3003,      0.3013,      0.3023,      0.3033,      0.3043,     0.30531,     0.30631,     0.30731,     0.30831,     0.30931,     0.31031,     0.31131,\n",
      "           0.31231,     0.31331,     0.31431,     0.31532,     0.31632,     0.31732,     0.31832,     0.31932,     0.32032,     0.32132,     0.32232,     0.32332,     0.32432,     0.32533,     0.32633,     0.32733,     0.32833,     0.32933,     0.33033,     0.33133,     0.33233,     0.33333,     0.33433,     0.33534,\n",
      "           0.33634,     0.33734,     0.33834,     0.33934,     0.34034,     0.34134,     0.34234,     0.34334,     0.34434,     0.34535,     0.34635,     0.34735,     0.34835,     0.34935,     0.35035,     0.35135,     0.35235,     0.35335,     0.35435,     0.35536,     0.35636,     0.35736,     0.35836,     0.35936,\n",
      "           0.36036,     0.36136,     0.36236,     0.36336,     0.36436,     0.36537,     0.36637,     0.36737,     0.36837,     0.36937,     0.37037,     0.37137,     0.37237,     0.37337,     0.37437,     0.37538,     0.37638,     0.37738,     0.37838,     0.37938,     0.38038,     0.38138,     0.38238,     0.38338,\n",
      "           0.38438,     0.38539,     0.38639,     0.38739,     0.38839,     0.38939,     0.39039,     0.39139,     0.39239,     0.39339,     0.39439,      0.3954,      0.3964,      0.3974,      0.3984,      0.3994,      0.4004,      0.4014,      0.4024,      0.4034,      0.4044,     0.40541,     0.40641,     0.40741,\n",
      "           0.40841,     0.40941,     0.41041,     0.41141,     0.41241,     0.41341,     0.41441,     0.41542,     0.41642,     0.41742,     0.41842,     0.41942,     0.42042,     0.42142,     0.42242,     0.42342,     0.42442,     0.42543,     0.42643,     0.42743,     0.42843,     0.42943,     0.43043,     0.43143,\n",
      "           0.43243,     0.43343,     0.43443,     0.43544,     0.43644,     0.43744,     0.43844,     0.43944,     0.44044,     0.44144,     0.44244,     0.44344,     0.44444,     0.44545,     0.44645,     0.44745,     0.44845,     0.44945,     0.45045,     0.45145,     0.45245,     0.45345,     0.45445,     0.45546,\n",
      "           0.45646,     0.45746,     0.45846,     0.45946,     0.46046,     0.46146,     0.46246,     0.46346,     0.46446,     0.46547,     0.46647,     0.46747,     0.46847,     0.46947,     0.47047,     0.47147,     0.47247,     0.47347,     0.47447,     0.47548,     0.47648,     0.47748,     0.47848,     0.47948,\n",
      "           0.48048,     0.48148,     0.48248,     0.48348,     0.48448,     0.48549,     0.48649,     0.48749,     0.48849,     0.48949,     0.49049,     0.49149,     0.49249,     0.49349,     0.49449,      0.4955,      0.4965,      0.4975,      0.4985,      0.4995,      0.5005,      0.5015,      0.5025,      0.5035,\n",
      "            0.5045,     0.50551,     0.50651,     0.50751,     0.50851,     0.50951,     0.51051,     0.51151,     0.51251,     0.51351,     0.51451,     0.51552,     0.51652,     0.51752,     0.51852,     0.51952,     0.52052,     0.52152,     0.52252,     0.52352,     0.52452,     0.52553,     0.52653,     0.52753,\n",
      "           0.52853,     0.52953,     0.53053,     0.53153,     0.53253,     0.53353,     0.53453,     0.53554,     0.53654,     0.53754,     0.53854,     0.53954,     0.54054,     0.54154,     0.54254,     0.54354,     0.54454,     0.54555,     0.54655,     0.54755,     0.54855,     0.54955,     0.55055,     0.55155,\n",
      "           0.55255,     0.55355,     0.55455,     0.55556,     0.55656,     0.55756,     0.55856,     0.55956,     0.56056,     0.56156,     0.56256,     0.56356,     0.56456,     0.56557,     0.56657,     0.56757,     0.56857,     0.56957,     0.57057,     0.57157,     0.57257,     0.57357,     0.57457,     0.57558,\n",
      "           0.57658,     0.57758,     0.57858,     0.57958,     0.58058,     0.58158,     0.58258,     0.58358,     0.58458,     0.58559,     0.58659,     0.58759,     0.58859,     0.58959,     0.59059,     0.59159,     0.59259,     0.59359,     0.59459,      0.5956,      0.5966,      0.5976,      0.5986,      0.5996,\n",
      "            0.6006,      0.6016,      0.6026,      0.6036,      0.6046,     0.60561,     0.60661,     0.60761,     0.60861,     0.60961,     0.61061,     0.61161,     0.61261,     0.61361,     0.61461,     0.61562,     0.61662,     0.61762,     0.61862,     0.61962,     0.62062,     0.62162,     0.62262,     0.62362,\n",
      "           0.62462,     0.62563,     0.62663,     0.62763,     0.62863,     0.62963,     0.63063,     0.63163,     0.63263,     0.63363,     0.63463,     0.63564,     0.63664,     0.63764,     0.63864,     0.63964,     0.64064,     0.64164,     0.64264,     0.64364,     0.64464,     0.64565,     0.64665,     0.64765,\n",
      "           0.64865,     0.64965,     0.65065,     0.65165,     0.65265,     0.65365,     0.65465,     0.65566,     0.65666,     0.65766,     0.65866,     0.65966,     0.66066,     0.66166,     0.66266,     0.66366,     0.66466,     0.66567,     0.66667,     0.66767,     0.66867,     0.66967,     0.67067,     0.67167,\n",
      "           0.67267,     0.67367,     0.67467,     0.67568,     0.67668,     0.67768,     0.67868,     0.67968,     0.68068,     0.68168,     0.68268,     0.68368,     0.68468,     0.68569,     0.68669,     0.68769,     0.68869,     0.68969,     0.69069,     0.69169,     0.69269,     0.69369,     0.69469,      0.6957,\n",
      "            0.6967,      0.6977,      0.6987,      0.6997,      0.7007,      0.7017,      0.7027,      0.7037,      0.7047,     0.70571,     0.70671,     0.70771,     0.70871,     0.70971,     0.71071,     0.71171,     0.71271,     0.71371,     0.71471,     0.71572,     0.71672,     0.71772,     0.71872,     0.71972,\n",
      "           0.72072,     0.72172,     0.72272,     0.72372,     0.72472,     0.72573,     0.72673,     0.72773,     0.72873,     0.72973,     0.73073,     0.73173,     0.73273,     0.73373,     0.73473,     0.73574,     0.73674,     0.73774,     0.73874,     0.73974,     0.74074,     0.74174,     0.74274,     0.74374,\n",
      "           0.74474,     0.74575,     0.74675,     0.74775,     0.74875,     0.74975,     0.75075,     0.75175,     0.75275,     0.75375,     0.75475,     0.75576,     0.75676,     0.75776,     0.75876,     0.75976,     0.76076,     0.76176,     0.76276,     0.76376,     0.76476,     0.76577,     0.76677,     0.76777,\n",
      "           0.76877,     0.76977,     0.77077,     0.77177,     0.77277,     0.77377,     0.77477,     0.77578,     0.77678,     0.77778,     0.77878,     0.77978,     0.78078,     0.78178,     0.78278,     0.78378,     0.78478,     0.78579,     0.78679,     0.78779,     0.78879,     0.78979,     0.79079,     0.79179,\n",
      "           0.79279,     0.79379,     0.79479,      0.7958,      0.7968,      0.7978,      0.7988,      0.7998,      0.8008,      0.8018,      0.8028,      0.8038,      0.8048,     0.80581,     0.80681,     0.80781,     0.80881,     0.80981,     0.81081,     0.81181,     0.81281,     0.81381,     0.81481,     0.81582,\n",
      "           0.81682,     0.81782,     0.81882,     0.81982,     0.82082,     0.82182,     0.82282,     0.82382,     0.82482,     0.82583,     0.82683,     0.82783,     0.82883,     0.82983,     0.83083,     0.83183,     0.83283,     0.83383,     0.83483,     0.83584,     0.83684,     0.83784,     0.83884,     0.83984,\n",
      "           0.84084,     0.84184,     0.84284,     0.84384,     0.84484,     0.84585,     0.84685,     0.84785,     0.84885,     0.84985,     0.85085,     0.85185,     0.85285,     0.85385,     0.85485,     0.85586,     0.85686,     0.85786,     0.85886,     0.85986,     0.86086,     0.86186,     0.86286,     0.86386,\n",
      "           0.86486,     0.86587,     0.86687,     0.86787,     0.86887,     0.86987,     0.87087,     0.87187,     0.87287,     0.87387,     0.87487,     0.87588,     0.87688,     0.87788,     0.87888,     0.87988,     0.88088,     0.88188,     0.88288,     0.88388,     0.88488,     0.88589,     0.88689,     0.88789,\n",
      "           0.88889,     0.88989,     0.89089,     0.89189,     0.89289,     0.89389,     0.89489,      0.8959,      0.8969,      0.8979,      0.8989,      0.8999,      0.9009,      0.9019,      0.9029,      0.9039,      0.9049,     0.90591,     0.90691,     0.90791,     0.90891,     0.90991,     0.91091,     0.91191,\n",
      "           0.91291,     0.91391,     0.91491,     0.91592,     0.91692,     0.91792,     0.91892,     0.91992,     0.92092,     0.92192,     0.92292,     0.92392,     0.92492,     0.92593,     0.92693,     0.92793,     0.92893,     0.92993,     0.93093,     0.93193,     0.93293,     0.93393,     0.93493,     0.93594,\n",
      "           0.93694,     0.93794,     0.93894,     0.93994,     0.94094,     0.94194,     0.94294,     0.94394,     0.94494,     0.94595,     0.94695,     0.94795,     0.94895,     0.94995,     0.95095,     0.95195,     0.95295,     0.95395,     0.95495,     0.95596,     0.95696,     0.95796,     0.95896,     0.95996,\n",
      "           0.96096,     0.96196,     0.96296,     0.96396,     0.96496,     0.96597,     0.96697,     0.96797,     0.96897,     0.96997,     0.97097,     0.97197,     0.97297,     0.97397,     0.97497,     0.97598,     0.97698,     0.97798,     0.97898,     0.97998,     0.98098,     0.98198,     0.98298,     0.98398,\n",
      "           0.98498,     0.98599,     0.98699,     0.98799,     0.98899,     0.98999,     0.99099,     0.99199,     0.99299,     0.99399,     0.99499,       0.996,       0.997,       0.998,       0.999,           1]), array([[    0.07153,    0.071599,     0.14061,     0.19919,     0.24953,     0.29382,     0.33564,     0.37118,     0.39937,      0.4315,     0.46475,     0.48888,     0.51319,     0.53068,     0.54649,      0.5585,     0.56889,     0.58024,     0.59017,     0.59939,      0.6109,     0.62243,     0.62888,\n",
      "            0.63849,     0.64821,     0.65288,     0.65678,     0.66428,     0.67016,     0.67563,     0.68026,     0.68221,       0.686,     0.69092,     0.69232,     0.69624,     0.69748,     0.70084,      0.7035,     0.70651,     0.70949,     0.71009,     0.71408,     0.71779,      0.7218,     0.72316,\n",
      "            0.72637,     0.72829,     0.73007,      0.7335,     0.73696,     0.73682,     0.73894,     0.74198,     0.74303,     0.74474,     0.74758,     0.74978,     0.75164,     0.75273,     0.75395,     0.75484,     0.75725,      0.7584,     0.76101,     0.76165,     0.76408,     0.76529,     0.76706,\n",
      "            0.77002,     0.77217,     0.77278,     0.77377,     0.77515,     0.77708,     0.77872,     0.77967,      0.7804,     0.78074,     0.78109,     0.78248,     0.78464,     0.78496,     0.78528,      0.7856,      0.7871,     0.78764,     0.78764,      0.7875,     0.78823,     0.79066,     0.79373,\n",
      "            0.79377,     0.79396,     0.79446,     0.79522,     0.79567,     0.79603,     0.79639,     0.79657,      0.7975,     0.79742,     0.79733,     0.79724,     0.79742,     0.79767,     0.79793,     0.79819,     0.79902,     0.79961,     0.80008,     0.80178,     0.80283,     0.80342,     0.80359,\n",
      "            0.80349,     0.80339,     0.80446,     0.80512,     0.80586,     0.80684,      0.8074,     0.80827,     0.80952,     0.81009,     0.81156,     0.81196,     0.81236,     0.81276,     0.81314,     0.81353,     0.81357,     0.81346,      0.8142,     0.81476,     0.81502,     0.81529,     0.81555,\n",
      "            0.81595,     0.81656,     0.81723,     0.81794,     0.81912,     0.81898,     0.81987,     0.82038,      0.8207,     0.82102,     0.82142,     0.82279,     0.82376,     0.82413,      0.8245,     0.82486,     0.82481,     0.82471,     0.82467,     0.82485,     0.82503,     0.82521,      0.8254,\n",
      "            0.82558,     0.82576,     0.82651,     0.82744,     0.82818,     0.82846,     0.82869,     0.82893,     0.82916,      0.8294,     0.82971,     0.83003,     0.83035,     0.83083,     0.83358,     0.83445,     0.83476,     0.83506,     0.83537,      0.8356,     0.83573,     0.83587,     0.83601,\n",
      "            0.83614,     0.83628,     0.83642,     0.83655,     0.83669,     0.83719,     0.83802,     0.83819,     0.83837,     0.83854,     0.83872,     0.83889,     0.83907,     0.83924,      0.8395,     0.83977,     0.84003,     0.84029,     0.84085,     0.84179,     0.84205,      0.8423,     0.84256,\n",
      "            0.84281,     0.84431,     0.84458,     0.84484,     0.84511,     0.84538,     0.84542,     0.84534,     0.84527,     0.84531,     0.84543,     0.84555,     0.84567,     0.84578,      0.8459,     0.84602,     0.84614,     0.84626,     0.84637,     0.84649,     0.84669,     0.84689,      0.8471,\n",
      "             0.8473,     0.84751,     0.84771,     0.84912,     0.84954,     0.84996,     0.85047,     0.85127,     0.85232,     0.85377,     0.85444,     0.85483,     0.85522,     0.85568,     0.85621,     0.85672,     0.85689,     0.85706,     0.85723,      0.8574,     0.85757,     0.85774,     0.85791,\n",
      "            0.85815,     0.85852,     0.85889,     0.85925,      0.8591,     0.85906,     0.85902,     0.85899,     0.85896,     0.85892,     0.85889,     0.85902,     0.85924,     0.85946,     0.85967,     0.85989,     0.86011,     0.86054,     0.86108,     0.86151,     0.86159,     0.86168,     0.86176,\n",
      "            0.86184,     0.86192,       0.862,     0.86209,     0.86217,     0.86225,     0.86233,     0.86242,      0.8625,     0.86258,     0.86266,     0.86275,     0.86302,     0.86377,     0.86395,       0.864,     0.86411,     0.86421,     0.86431,     0.86441,     0.86452,     0.86462,     0.86472,\n",
      "            0.86482,     0.86493,     0.86503,     0.86513,     0.86523,     0.86533,     0.86543,     0.86552,     0.86562,     0.86571,     0.86581,     0.86591,       0.866,      0.8661,     0.86619,     0.86629,     0.86639,     0.86648,      0.8666,     0.86688,     0.86715,     0.86743,      0.8677,\n",
      "            0.86798,     0.86827,     0.86855,     0.86883,     0.86911,     0.87052,     0.87102,     0.87147,     0.87192,      0.8723,     0.87268,     0.87306,     0.87331,     0.87342,     0.87353,     0.87364,     0.87375,     0.87386,     0.87397,     0.87408,     0.87419,     0.87429,      0.8744,\n",
      "            0.87451,      0.8746,     0.87446,     0.87485,     0.87523,     0.87562,     0.87592,     0.87617,     0.87641,     0.87666,      0.8769,     0.87716,     0.87769,     0.87823,     0.87871,     0.87914,     0.87958,     0.87991,     0.88004,     0.88016,     0.88029,     0.88041,     0.88054,\n",
      "            0.88067,     0.88079,     0.88092,     0.88104,     0.88117,     0.88133,     0.88157,      0.8818,     0.88204,     0.88228,     0.88252,     0.88267,     0.88274,     0.88281,     0.88289,     0.88296,     0.88303,     0.88311,     0.88318,     0.88325,     0.88332,      0.8834,     0.88347,\n",
      "            0.88354,     0.88362,     0.88369,     0.88376,     0.88383,     0.88391,     0.88398,     0.88422,     0.88459,     0.88496,     0.88533,     0.88539,     0.88537,     0.88536,     0.88535,     0.88533,     0.88532,      0.8853,     0.88529,     0.88528,     0.88526,     0.88525,     0.88523,\n",
      "            0.88522,     0.88513,     0.88504,     0.88643,     0.88678,     0.88713,     0.88747,     0.88781,     0.88812,     0.88844,     0.88876,     0.88906,      0.8889,     0.88923,      0.8896,     0.88998,     0.89033,     0.89059,     0.89085,     0.89111,     0.89136,     0.89162,     0.89204,\n",
      "            0.89255,     0.89306,     0.89314,     0.89313,     0.89312,     0.89311,      0.8931,      0.8931,     0.89309,     0.89308,     0.89307,     0.89307,     0.89306,     0.89305,     0.89304,     0.89304,     0.89303,     0.89302,     0.89301,     0.89301,       0.893,     0.89299,     0.89298,\n",
      "            0.89298,      0.8931,     0.89335,     0.89361,     0.89386,     0.89411,     0.89437,     0.89418,     0.89407,     0.89405,     0.89403,     0.89401,     0.89399,     0.89398,     0.89396,     0.89394,     0.89392,     0.89391,     0.89385,     0.89371,      0.8937,     0.89369,     0.89367,\n",
      "            0.89366,     0.89364,     0.89363,     0.89362,      0.8936,     0.89359,     0.89358,     0.89356,     0.89355,     0.89353,      0.8935,     0.89348,     0.89346,     0.89344,     0.89342,      0.8934,     0.89338,     0.89355,     0.89372,     0.89389,     0.89407,     0.89424,     0.89441,\n",
      "            0.89458,     0.89475,     0.89481,     0.89479,     0.89477,     0.89475,     0.89473,     0.89471,     0.89469,     0.89467,     0.89465,     0.89458,     0.89449,     0.89483,     0.89521,     0.89559,     0.89653,     0.89751,     0.89764,     0.89777,      0.8979,     0.89803,     0.89816,\n",
      "            0.89829,     0.89842,     0.89855,     0.89868,     0.89881,      0.8989,     0.89936,     0.89983,     0.90039,     0.90116,     0.90162,     0.90157,     0.90151,     0.90154,     0.90171,     0.90189,     0.90207,     0.90225,     0.90242,      0.9026,     0.90278,     0.90296,      0.9028,\n",
      "            0.90278,     0.90276,     0.90274,     0.90272,      0.9027,     0.90268,     0.90266,     0.90273,     0.90336,       0.904,     0.90409,     0.90403,     0.90397,     0.90411,     0.90425,     0.90439,     0.90452,     0.90466,      0.9048,     0.90494,     0.90507,     0.90521,     0.90535,\n",
      "            0.90547,     0.90542,     0.90538,     0.90534,      0.9053,     0.90526,     0.90522,     0.90518,     0.90525,     0.90546,     0.90568,     0.90589,      0.9061,     0.90632,     0.90653,     0.90672,     0.90688,     0.90704,      0.9072,     0.90736,     0.90752,     0.90768,     0.90784,\n",
      "            0.90799,     0.90815,     0.90817,     0.90816,     0.90814,     0.90813,     0.90812,      0.9081,     0.90809,     0.90808,     0.90806,     0.90805,     0.90804,     0.90809,     0.90833,     0.90858,     0.90882,     0.90907,     0.90931,     0.90958,     0.91066,     0.91103,     0.91123,\n",
      "            0.91143,     0.91164,     0.91184,     0.91205,     0.91225,     0.91246,     0.91271,     0.91296,     0.91322,     0.91347,     0.91373,     0.91398,     0.91394,     0.91388,     0.91384,     0.91382,     0.91379,     0.91377,     0.91375,     0.91372,     0.91374,     0.91391,     0.91407,\n",
      "            0.91423,     0.91439,     0.91455,     0.91471,     0.91488,     0.91504,      0.9152,     0.91835,     0.91828,     0.91821,      0.9181,     0.91807,     0.91805,     0.91803,     0.91802,       0.918,     0.91798,     0.91796,     0.91892,     0.91936,     0.91931,     0.91927,     0.91922,\n",
      "            0.91916,      0.9191,     0.91907,     0.91904,     0.91901,     0.91898,     0.91915,     0.91964,     0.92013,     0.92053,     0.92115,     0.92229,      0.9228,     0.92332,     0.92358,     0.92389,      0.9242,     0.92451,     0.92483,     0.92508,     0.92503,     0.92498,     0.92469,\n",
      "            0.92469,     0.92468,     0.92467,     0.92467,     0.92466,     0.92465,     0.92465,     0.92464,     0.92463,     0.92463,     0.92462,     0.92461,     0.92461,      0.9246,     0.92459,     0.92459,     0.92458,     0.92457,     0.92457,     0.92479,     0.92535,     0.92591,     0.92646,\n",
      "            0.92698,     0.92751,      0.9278,     0.92776,     0.92772,     0.92768,     0.92765,     0.92763,      0.9276,     0.92757,      0.9274,     0.92714,     0.92707,     0.92758,      0.9283,     0.92868,     0.92863,     0.92858,     0.92842,     0.92839,     0.92835,     0.92832,     0.92827,\n",
      "            0.92822,     0.92809,       0.928,     0.92794,     0.92783,     0.92772,     0.92926,     0.92924,     0.92988,     0.93067,     0.93076,     0.93068,     0.93065,     0.93135,     0.93204,      0.9322,     0.93216,     0.93212,      0.9333,     0.93549,     0.93536,     0.93526,     0.93518,\n",
      "            0.93511,     0.93622,     0.93665,     0.93659,      0.9369,     0.93743,     0.93797,     0.93823,     0.93861,     0.93906,      0.9395,     0.93995,     0.93994,     0.93992,     0.93989,     0.93987,     0.93985,     0.94073,     0.94147,     0.94143,     0.94305,     0.94307,     0.94296,\n",
      "             0.9429,     0.94283,     0.94263,     0.94259,     0.94255,     0.94229,     0.94223,     0.94218,     0.94212,     0.94509,      0.9457,     0.94565,      0.9455,     0.94518,     0.94509,     0.94504,     0.94497,     0.94483,     0.94476,     0.94471,     0.94473,      0.9484,     0.94833,\n",
      "            0.94822,     0.94817,     0.94814,      0.9481,     0.94802,      0.9477,     0.94763,     0.94758,     0.94752,     0.94745,     0.94735,     0.94712,     0.94688,     0.94677,     0.94658,     0.94648,     0.94633,     0.94619,     0.94592,     0.94769,     0.94744,     0.94818,     0.94906,\n",
      "            0.95126,     0.95097,     0.95067,     0.95028,     0.95007,     0.94988,     0.94978,     0.94967,     0.94944,     0.94909,     0.94903,     0.94893,     0.94867,      0.9486,     0.94852,     0.94954,     0.94988,     0.94982,     0.94975,     0.94936,     0.95122,     0.95116,     0.95105,\n",
      "            0.95086,     0.95033,     0.95226,      0.9519,     0.95403,     0.95401,     0.95607,      0.9558,     0.95519,     0.95512,     0.95504,      0.9548,     0.95468,     0.95923,     0.95879,     0.96104,     0.96084,      0.9629,     0.96221,     0.96205,     0.96438,     0.96407,     0.96367,\n",
      "            0.96343,      0.9633,     0.96299,     0.96267,     0.96482,     0.96444,     0.96703,     0.96665,     0.96629,     0.96567,     0.96488,     0.96836,     0.97062,     0.97673,     0.97634,     0.97601,     0.97906,     0.98223,     0.98175,     0.98264,     0.98478,     0.98433,     0.98402,\n",
      "            0.98357,     0.98331,     0.98311,     0.98273,     0.98224,     0.98149,     0.98126,     0.98108,     0.98517,     0.98449,     0.98389,     0.98336,      0.9828,     0.98235,     0.98202,     0.98114,     0.98023,     0.97979,      0.9791,     0.97824,     0.97781,      0.9772,     0.97618,\n",
      "            0.97531,     0.97455,     0.97393,     0.97242,      0.9711,     0.97008,     0.96852,     0.97687,     0.97609,     0.97425,     0.97299,     0.98554,     0.98508,     0.98469,     0.98344,       0.983,      0.9815,      0.9813,     0.98102,      0.9792,     0.97675,     0.97199,     0.96868,\n",
      "            0.96754,     0.96243,     0.95987,      0.9542,     0.95291,     0.95165,     0.95042,     0.94681,           1,           1,           1,           1,           1,           1,           1,           1,           1,           1,           1,           1,           1,           1,           1,\n",
      "                  1,           1,           1,           1,           1,           1,           1,           1,           1,           1,           1,           1,           1,           1,           1,           1,           1,           1,           1,           1,           1,           1,           1,\n",
      "                  1,           1,           1,           1,           1,           1,           1,           1,           1,           1,           1]]), 'Confidence', 'Precision'], [array([          0,    0.001001,    0.002002,    0.003003,    0.004004,    0.005005,    0.006006,    0.007007,    0.008008,    0.009009,     0.01001,    0.011011,    0.012012,    0.013013,    0.014014,    0.015015,    0.016016,    0.017017,    0.018018,    0.019019,     0.02002,    0.021021,    0.022022,    0.023023,\n",
      "          0.024024,    0.025025,    0.026026,    0.027027,    0.028028,    0.029029,     0.03003,    0.031031,    0.032032,    0.033033,    0.034034,    0.035035,    0.036036,    0.037037,    0.038038,    0.039039,     0.04004,    0.041041,    0.042042,    0.043043,    0.044044,    0.045045,    0.046046,    0.047047,\n",
      "          0.048048,    0.049049,     0.05005,    0.051051,    0.052052,    0.053053,    0.054054,    0.055055,    0.056056,    0.057057,    0.058058,    0.059059,     0.06006,    0.061061,    0.062062,    0.063063,    0.064064,    0.065065,    0.066066,    0.067067,    0.068068,    0.069069,     0.07007,    0.071071,\n",
      "          0.072072,    0.073073,    0.074074,    0.075075,    0.076076,    0.077077,    0.078078,    0.079079,     0.08008,    0.081081,    0.082082,    0.083083,    0.084084,    0.085085,    0.086086,    0.087087,    0.088088,    0.089089,     0.09009,    0.091091,    0.092092,    0.093093,    0.094094,    0.095095,\n",
      "          0.096096,    0.097097,    0.098098,    0.099099,      0.1001,      0.1011,      0.1021,      0.1031,      0.1041,     0.10511,     0.10611,     0.10711,     0.10811,     0.10911,     0.11011,     0.11111,     0.11211,     0.11311,     0.11411,     0.11512,     0.11612,     0.11712,     0.11812,     0.11912,\n",
      "           0.12012,     0.12112,     0.12212,     0.12312,     0.12412,     0.12513,     0.12613,     0.12713,     0.12813,     0.12913,     0.13013,     0.13113,     0.13213,     0.13313,     0.13413,     0.13514,     0.13614,     0.13714,     0.13814,     0.13914,     0.14014,     0.14114,     0.14214,     0.14314,\n",
      "           0.14414,     0.14515,     0.14615,     0.14715,     0.14815,     0.14915,     0.15015,     0.15115,     0.15215,     0.15315,     0.15415,     0.15516,     0.15616,     0.15716,     0.15816,     0.15916,     0.16016,     0.16116,     0.16216,     0.16316,     0.16416,     0.16517,     0.16617,     0.16717,\n",
      "           0.16817,     0.16917,     0.17017,     0.17117,     0.17217,     0.17317,     0.17417,     0.17518,     0.17618,     0.17718,     0.17818,     0.17918,     0.18018,     0.18118,     0.18218,     0.18318,     0.18418,     0.18519,     0.18619,     0.18719,     0.18819,     0.18919,     0.19019,     0.19119,\n",
      "           0.19219,     0.19319,     0.19419,      0.1952,      0.1962,      0.1972,      0.1982,      0.1992,      0.2002,      0.2012,      0.2022,      0.2032,      0.2042,     0.20521,     0.20621,     0.20721,     0.20821,     0.20921,     0.21021,     0.21121,     0.21221,     0.21321,     0.21421,     0.21522,\n",
      "           0.21622,     0.21722,     0.21822,     0.21922,     0.22022,     0.22122,     0.22222,     0.22322,     0.22422,     0.22523,     0.22623,     0.22723,     0.22823,     0.22923,     0.23023,     0.23123,     0.23223,     0.23323,     0.23423,     0.23524,     0.23624,     0.23724,     0.23824,     0.23924,\n",
      "           0.24024,     0.24124,     0.24224,     0.24324,     0.24424,     0.24525,     0.24625,     0.24725,     0.24825,     0.24925,     0.25025,     0.25125,     0.25225,     0.25325,     0.25425,     0.25526,     0.25626,     0.25726,     0.25826,     0.25926,     0.26026,     0.26126,     0.26226,     0.26326,\n",
      "           0.26426,     0.26527,     0.26627,     0.26727,     0.26827,     0.26927,     0.27027,     0.27127,     0.27227,     0.27327,     0.27427,     0.27528,     0.27628,     0.27728,     0.27828,     0.27928,     0.28028,     0.28128,     0.28228,     0.28328,     0.28428,     0.28529,     0.28629,     0.28729,\n",
      "           0.28829,     0.28929,     0.29029,     0.29129,     0.29229,     0.29329,     0.29429,      0.2953,      0.2963,      0.2973,      0.2983,      0.2993,      0.3003,      0.3013,      0.3023,      0.3033,      0.3043,     0.30531,     0.30631,     0.30731,     0.30831,     0.30931,     0.31031,     0.31131,\n",
      "           0.31231,     0.31331,     0.31431,     0.31532,     0.31632,     0.31732,     0.31832,     0.31932,     0.32032,     0.32132,     0.32232,     0.32332,     0.32432,     0.32533,     0.32633,     0.32733,     0.32833,     0.32933,     0.33033,     0.33133,     0.33233,     0.33333,     0.33433,     0.33534,\n",
      "           0.33634,     0.33734,     0.33834,     0.33934,     0.34034,     0.34134,     0.34234,     0.34334,     0.34434,     0.34535,     0.34635,     0.34735,     0.34835,     0.34935,     0.35035,     0.35135,     0.35235,     0.35335,     0.35435,     0.35536,     0.35636,     0.35736,     0.35836,     0.35936,\n",
      "           0.36036,     0.36136,     0.36236,     0.36336,     0.36436,     0.36537,     0.36637,     0.36737,     0.36837,     0.36937,     0.37037,     0.37137,     0.37237,     0.37337,     0.37437,     0.37538,     0.37638,     0.37738,     0.37838,     0.37938,     0.38038,     0.38138,     0.38238,     0.38338,\n",
      "           0.38438,     0.38539,     0.38639,     0.38739,     0.38839,     0.38939,     0.39039,     0.39139,     0.39239,     0.39339,     0.39439,      0.3954,      0.3964,      0.3974,      0.3984,      0.3994,      0.4004,      0.4014,      0.4024,      0.4034,      0.4044,     0.40541,     0.40641,     0.40741,\n",
      "           0.40841,     0.40941,     0.41041,     0.41141,     0.41241,     0.41341,     0.41441,     0.41542,     0.41642,     0.41742,     0.41842,     0.41942,     0.42042,     0.42142,     0.42242,     0.42342,     0.42442,     0.42543,     0.42643,     0.42743,     0.42843,     0.42943,     0.43043,     0.43143,\n",
      "           0.43243,     0.43343,     0.43443,     0.43544,     0.43644,     0.43744,     0.43844,     0.43944,     0.44044,     0.44144,     0.44244,     0.44344,     0.44444,     0.44545,     0.44645,     0.44745,     0.44845,     0.44945,     0.45045,     0.45145,     0.45245,     0.45345,     0.45445,     0.45546,\n",
      "           0.45646,     0.45746,     0.45846,     0.45946,     0.46046,     0.46146,     0.46246,     0.46346,     0.46446,     0.46547,     0.46647,     0.46747,     0.46847,     0.46947,     0.47047,     0.47147,     0.47247,     0.47347,     0.47447,     0.47548,     0.47648,     0.47748,     0.47848,     0.47948,\n",
      "           0.48048,     0.48148,     0.48248,     0.48348,     0.48448,     0.48549,     0.48649,     0.48749,     0.48849,     0.48949,     0.49049,     0.49149,     0.49249,     0.49349,     0.49449,      0.4955,      0.4965,      0.4975,      0.4985,      0.4995,      0.5005,      0.5015,      0.5025,      0.5035,\n",
      "            0.5045,     0.50551,     0.50651,     0.50751,     0.50851,     0.50951,     0.51051,     0.51151,     0.51251,     0.51351,     0.51451,     0.51552,     0.51652,     0.51752,     0.51852,     0.51952,     0.52052,     0.52152,     0.52252,     0.52352,     0.52452,     0.52553,     0.52653,     0.52753,\n",
      "           0.52853,     0.52953,     0.53053,     0.53153,     0.53253,     0.53353,     0.53453,     0.53554,     0.53654,     0.53754,     0.53854,     0.53954,     0.54054,     0.54154,     0.54254,     0.54354,     0.54454,     0.54555,     0.54655,     0.54755,     0.54855,     0.54955,     0.55055,     0.55155,\n",
      "           0.55255,     0.55355,     0.55455,     0.55556,     0.55656,     0.55756,     0.55856,     0.55956,     0.56056,     0.56156,     0.56256,     0.56356,     0.56456,     0.56557,     0.56657,     0.56757,     0.56857,     0.56957,     0.57057,     0.57157,     0.57257,     0.57357,     0.57457,     0.57558,\n",
      "           0.57658,     0.57758,     0.57858,     0.57958,     0.58058,     0.58158,     0.58258,     0.58358,     0.58458,     0.58559,     0.58659,     0.58759,     0.58859,     0.58959,     0.59059,     0.59159,     0.59259,     0.59359,     0.59459,      0.5956,      0.5966,      0.5976,      0.5986,      0.5996,\n",
      "            0.6006,      0.6016,      0.6026,      0.6036,      0.6046,     0.60561,     0.60661,     0.60761,     0.60861,     0.60961,     0.61061,     0.61161,     0.61261,     0.61361,     0.61461,     0.61562,     0.61662,     0.61762,     0.61862,     0.61962,     0.62062,     0.62162,     0.62262,     0.62362,\n",
      "           0.62462,     0.62563,     0.62663,     0.62763,     0.62863,     0.62963,     0.63063,     0.63163,     0.63263,     0.63363,     0.63463,     0.63564,     0.63664,     0.63764,     0.63864,     0.63964,     0.64064,     0.64164,     0.64264,     0.64364,     0.64464,     0.64565,     0.64665,     0.64765,\n",
      "           0.64865,     0.64965,     0.65065,     0.65165,     0.65265,     0.65365,     0.65465,     0.65566,     0.65666,     0.65766,     0.65866,     0.65966,     0.66066,     0.66166,     0.66266,     0.66366,     0.66466,     0.66567,     0.66667,     0.66767,     0.66867,     0.66967,     0.67067,     0.67167,\n",
      "           0.67267,     0.67367,     0.67467,     0.67568,     0.67668,     0.67768,     0.67868,     0.67968,     0.68068,     0.68168,     0.68268,     0.68368,     0.68468,     0.68569,     0.68669,     0.68769,     0.68869,     0.68969,     0.69069,     0.69169,     0.69269,     0.69369,     0.69469,      0.6957,\n",
      "            0.6967,      0.6977,      0.6987,      0.6997,      0.7007,      0.7017,      0.7027,      0.7037,      0.7047,     0.70571,     0.70671,     0.70771,     0.70871,     0.70971,     0.71071,     0.71171,     0.71271,     0.71371,     0.71471,     0.71572,     0.71672,     0.71772,     0.71872,     0.71972,\n",
      "           0.72072,     0.72172,     0.72272,     0.72372,     0.72472,     0.72573,     0.72673,     0.72773,     0.72873,     0.72973,     0.73073,     0.73173,     0.73273,     0.73373,     0.73473,     0.73574,     0.73674,     0.73774,     0.73874,     0.73974,     0.74074,     0.74174,     0.74274,     0.74374,\n",
      "           0.74474,     0.74575,     0.74675,     0.74775,     0.74875,     0.74975,     0.75075,     0.75175,     0.75275,     0.75375,     0.75475,     0.75576,     0.75676,     0.75776,     0.75876,     0.75976,     0.76076,     0.76176,     0.76276,     0.76376,     0.76476,     0.76577,     0.76677,     0.76777,\n",
      "           0.76877,     0.76977,     0.77077,     0.77177,     0.77277,     0.77377,     0.77477,     0.77578,     0.77678,     0.77778,     0.77878,     0.77978,     0.78078,     0.78178,     0.78278,     0.78378,     0.78478,     0.78579,     0.78679,     0.78779,     0.78879,     0.78979,     0.79079,     0.79179,\n",
      "           0.79279,     0.79379,     0.79479,      0.7958,      0.7968,      0.7978,      0.7988,      0.7998,      0.8008,      0.8018,      0.8028,      0.8038,      0.8048,     0.80581,     0.80681,     0.80781,     0.80881,     0.80981,     0.81081,     0.81181,     0.81281,     0.81381,     0.81481,     0.81582,\n",
      "           0.81682,     0.81782,     0.81882,     0.81982,     0.82082,     0.82182,     0.82282,     0.82382,     0.82482,     0.82583,     0.82683,     0.82783,     0.82883,     0.82983,     0.83083,     0.83183,     0.83283,     0.83383,     0.83483,     0.83584,     0.83684,     0.83784,     0.83884,     0.83984,\n",
      "           0.84084,     0.84184,     0.84284,     0.84384,     0.84484,     0.84585,     0.84685,     0.84785,     0.84885,     0.84985,     0.85085,     0.85185,     0.85285,     0.85385,     0.85485,     0.85586,     0.85686,     0.85786,     0.85886,     0.85986,     0.86086,     0.86186,     0.86286,     0.86386,\n",
      "           0.86486,     0.86587,     0.86687,     0.86787,     0.86887,     0.86987,     0.87087,     0.87187,     0.87287,     0.87387,     0.87487,     0.87588,     0.87688,     0.87788,     0.87888,     0.87988,     0.88088,     0.88188,     0.88288,     0.88388,     0.88488,     0.88589,     0.88689,     0.88789,\n",
      "           0.88889,     0.88989,     0.89089,     0.89189,     0.89289,     0.89389,     0.89489,      0.8959,      0.8969,      0.8979,      0.8989,      0.8999,      0.9009,      0.9019,      0.9029,      0.9039,      0.9049,     0.90591,     0.90691,     0.90791,     0.90891,     0.90991,     0.91091,     0.91191,\n",
      "           0.91291,     0.91391,     0.91491,     0.91592,     0.91692,     0.91792,     0.91892,     0.91992,     0.92092,     0.92192,     0.92292,     0.92392,     0.92492,     0.92593,     0.92693,     0.92793,     0.92893,     0.92993,     0.93093,     0.93193,     0.93293,     0.93393,     0.93493,     0.93594,\n",
      "           0.93694,     0.93794,     0.93894,     0.93994,     0.94094,     0.94194,     0.94294,     0.94394,     0.94494,     0.94595,     0.94695,     0.94795,     0.94895,     0.94995,     0.95095,     0.95195,     0.95295,     0.95395,     0.95495,     0.95596,     0.95696,     0.95796,     0.95896,     0.95996,\n",
      "           0.96096,     0.96196,     0.96296,     0.96396,     0.96496,     0.96597,     0.96697,     0.96797,     0.96897,     0.96997,     0.97097,     0.97197,     0.97297,     0.97397,     0.97497,     0.97598,     0.97698,     0.97798,     0.97898,     0.97998,     0.98098,     0.98198,     0.98298,     0.98398,\n",
      "           0.98498,     0.98599,     0.98699,     0.98799,     0.98899,     0.98999,     0.99099,     0.99199,     0.99299,     0.99399,     0.99499,       0.996,       0.997,       0.998,       0.999,           1]), array([[    0.89911,     0.89911,     0.89318,     0.89021,     0.88724,     0.88724,     0.88427,     0.88427,     0.88131,     0.87834,     0.87834,     0.87834,     0.87685,     0.87685,     0.87685,     0.87273,      0.8724,      0.8724,      0.8724,     0.87092,     0.86944,     0.86795,     0.86795,\n",
      "            0.86795,     0.86795,     0.86786,     0.86647,     0.86647,     0.86647,     0.86647,     0.86647,     0.86647,     0.86647,     0.86647,     0.86647,     0.86647,     0.86647,     0.86647,     0.86499,     0.86499,     0.86499,     0.86499,     0.86499,     0.86499,     0.86499,     0.86499,\n",
      "            0.86499,     0.86499,     0.86275,     0.86202,     0.86046,     0.85905,     0.85905,     0.85905,     0.85905,     0.85905,     0.85905,     0.85905,     0.85905,     0.85905,     0.85905,     0.85905,     0.85905,     0.85905,     0.85905,     0.85905,     0.85905,     0.85905,     0.85905,\n",
      "            0.85905,     0.85905,     0.85905,     0.85905,     0.85905,     0.85905,     0.85905,     0.85905,     0.85905,     0.85905,     0.85905,     0.85905,     0.85905,     0.85905,     0.85905,     0.85905,     0.85905,     0.85905,     0.85847,     0.85773,     0.85757,     0.85757,     0.85757,\n",
      "            0.85658,     0.85608,     0.85608,     0.85608,      0.8546,      0.8546,      0.8546,     0.85402,     0.85311,     0.85265,      0.8522,     0.85175,     0.85163,     0.85163,     0.85163,     0.85163,     0.85015,     0.85015,     0.85015,     0.85015,     0.85015,     0.85015,     0.84982,\n",
      "            0.84928,     0.84875,     0.84866,     0.84866,     0.84866,     0.84866,     0.84866,     0.84866,     0.84866,     0.84866,     0.84866,     0.84866,     0.84866,     0.84866,     0.84866,     0.84866,     0.84821,     0.84754,     0.84718,     0.84718,     0.84718,     0.84718,     0.84718,\n",
      "            0.84718,     0.84718,     0.84718,     0.84718,     0.84657,     0.84581,      0.8457,      0.8457,      0.8457,      0.8457,      0.8457,      0.8457,      0.8457,      0.8457,      0.8457,      0.8457,      0.8452,     0.84466,     0.84421,     0.84421,     0.84421,     0.84421,     0.84421,\n",
      "            0.84421,     0.84421,     0.84421,     0.84421,     0.84421,     0.84421,     0.84421,     0.84421,     0.84421,     0.84421,     0.84421,     0.84421,     0.84421,     0.84421,     0.84421,     0.84421,     0.84421,     0.84421,     0.84421,     0.84421,     0.84421,     0.84421,     0.84421,\n",
      "            0.84421,     0.84421,     0.84421,     0.84421,     0.84421,     0.84421,     0.84421,     0.84421,     0.84421,     0.84421,     0.84421,     0.84421,     0.84421,     0.84421,     0.84421,     0.84421,     0.84421,     0.84421,     0.84421,     0.84421,     0.84421,     0.84421,     0.84421,\n",
      "            0.84421,     0.84421,     0.84421,     0.84421,     0.84421,     0.84421,     0.84388,     0.84339,     0.84291,     0.84273,     0.84273,     0.84273,     0.84273,     0.84273,     0.84273,     0.84273,     0.84273,     0.84273,     0.84273,     0.84273,     0.84273,     0.84273,     0.84273,\n",
      "            0.84273,     0.84273,     0.84273,     0.84273,     0.84273,     0.84273,     0.84273,     0.84273,     0.84273,     0.84273,     0.84273,     0.84273,     0.84273,     0.84273,     0.84273,     0.84273,     0.84273,     0.84273,     0.84273,     0.84273,     0.84273,     0.84273,     0.84273,\n",
      "            0.84273,     0.84273,     0.84273,     0.84273,     0.84132,     0.84102,     0.84079,     0.84055,     0.84031,     0.84008,     0.83984,     0.83976,     0.83976,     0.83976,     0.83976,     0.83976,     0.83976,     0.83976,     0.83976,     0.83976,     0.83976,     0.83976,     0.83976,\n",
      "            0.83976,     0.83976,     0.83976,     0.83976,     0.83976,     0.83976,     0.83976,     0.83976,     0.83976,     0.83976,     0.83976,     0.83976,     0.83976,     0.83976,     0.83856,     0.83828,     0.83828,     0.83828,     0.83828,     0.83828,     0.83828,     0.83828,     0.83828,\n",
      "            0.83828,     0.83828,     0.83828,     0.83828,     0.83828,     0.83828,     0.83828,     0.83828,     0.83828,     0.83828,     0.83828,     0.83828,     0.83828,     0.83828,     0.83828,     0.83828,     0.83828,     0.83828,     0.83828,     0.83828,     0.83828,     0.83828,     0.83828,\n",
      "            0.83828,     0.83828,     0.83828,     0.83828,     0.83828,     0.83828,     0.83828,     0.83828,     0.83828,     0.83828,     0.83828,     0.83828,     0.83828,     0.83828,     0.83828,     0.83828,     0.83828,     0.83828,     0.83828,     0.83828,     0.83828,     0.83828,     0.83828,\n",
      "            0.83828,     0.83817,      0.8368,      0.8368,      0.8368,      0.8368,      0.8368,      0.8368,      0.8368,      0.8368,      0.8368,      0.8368,      0.8368,      0.8368,      0.8368,      0.8368,      0.8368,      0.8368,      0.8368,      0.8368,      0.8368,      0.8368,      0.8368,\n",
      "             0.8368,      0.8368,      0.8368,      0.8368,      0.8368,      0.8368,      0.8368,      0.8368,      0.8368,      0.8368,      0.8368,      0.8368,      0.8368,      0.8368,      0.8368,      0.8368,      0.8368,      0.8368,      0.8368,      0.8368,      0.8368,      0.8368,      0.8368,\n",
      "             0.8368,      0.8368,      0.8368,      0.8368,      0.8368,      0.8368,      0.8368,      0.8368,      0.8368,      0.8368,      0.8368,      0.8367,     0.83658,     0.83647,     0.83635,     0.83624,     0.83612,       0.836,     0.83589,     0.83577,     0.83566,     0.83554,     0.83543,\n",
      "             0.8353,     0.83458,     0.83386,     0.83234,     0.83234,     0.83234,     0.83234,     0.83234,     0.83234,     0.83234,     0.83234,     0.83231,     0.83097,     0.83086,     0.83086,     0.83086,     0.83086,     0.83086,     0.83086,     0.83086,     0.83086,     0.83086,     0.83086,\n",
      "            0.83086,     0.83086,      0.8308,     0.83074,     0.83067,     0.83061,     0.83054,     0.83047,     0.83041,     0.83034,     0.83027,     0.83021,     0.83014,     0.83007,     0.83001,     0.82994,     0.82987,     0.82981,     0.82974,     0.82968,     0.82961,     0.82954,     0.82948,\n",
      "            0.82941,     0.82938,     0.82938,     0.82938,     0.82938,     0.82938,     0.82938,     0.82744,     0.82653,     0.82628,     0.82612,     0.82597,     0.82582,     0.82567,     0.82551,     0.82536,     0.82521,     0.82505,     0.82461,     0.82339,     0.82327,     0.82315,     0.82303,\n",
      "            0.82291,     0.82279,     0.82267,     0.82255,     0.82243,     0.82231,     0.82219,     0.82207,     0.82195,     0.82177,     0.82158,     0.82139,     0.82121,     0.82102,     0.82084,     0.82065,     0.82047,     0.82047,     0.82047,     0.82047,     0.82047,     0.82047,     0.82047,\n",
      "            0.82047,     0.82047,     0.82038,     0.82021,     0.82004,     0.81987,      0.8197,     0.81953,     0.81936,     0.81919,     0.81902,     0.81834,     0.81757,     0.81751,     0.81751,     0.81751,     0.81751,     0.81751,     0.81751,     0.81751,     0.81751,     0.81751,     0.81751,\n",
      "            0.81751,     0.81751,     0.81751,     0.81751,     0.81751,     0.81602,     0.81602,     0.81602,     0.81602,     0.81602,     0.81584,     0.81536,     0.81487,     0.81454,     0.81454,     0.81454,     0.81454,     0.81454,     0.81454,     0.81454,     0.81454,     0.81454,     0.81303,\n",
      "            0.81285,     0.81266,     0.81248,     0.81229,      0.8121,     0.81192,     0.81173,     0.81157,     0.81157,     0.81157,     0.81115,     0.81062,     0.81009,     0.81009,     0.81009,     0.81009,     0.81009,     0.81009,     0.81009,     0.81009,     0.81009,     0.81009,     0.81009,\n",
      "            0.81005,     0.80964,     0.80922,     0.80881,     0.80842,     0.80806,      0.8077,     0.80733,     0.80712,     0.80712,     0.80712,     0.80712,     0.80712,     0.80712,     0.80712,     0.80712,     0.80712,     0.80712,     0.80712,     0.80712,     0.80712,     0.80712,     0.80712,\n",
      "            0.80712,     0.80712,     0.80702,     0.80689,     0.80676,     0.80663,      0.8065,     0.80638,     0.80625,     0.80612,     0.80599,     0.80586,     0.80573,     0.80564,     0.80564,     0.80564,     0.80564,     0.80564,     0.80564,     0.80564,     0.80564,     0.80415,     0.80415,\n",
      "            0.80415,     0.80415,     0.80415,     0.80415,     0.80415,     0.80415,     0.80415,     0.80415,     0.80415,     0.80415,     0.80415,     0.80415,     0.80357,     0.80296,     0.80255,     0.80231,     0.80207,     0.80184,      0.8016,     0.80137,     0.80119,     0.80119,     0.80119,\n",
      "            0.80119,     0.80119,     0.80119,     0.80119,     0.80119,     0.80119,     0.80119,     0.80097,     0.80026,     0.79946,     0.79837,     0.79805,     0.79785,     0.79765,     0.79745,     0.79725,     0.79705,     0.79685,     0.79674,     0.79497,     0.79451,     0.79404,     0.79351,\n",
      "             0.7929,     0.79228,     0.79196,     0.79164,     0.79132,       0.791,      0.7908,      0.7908,      0.7908,     0.79054,     0.78932,     0.78932,     0.78932,     0.78932,     0.78783,     0.78783,     0.78783,     0.78783,     0.78783,     0.78774,     0.78716,     0.78658,     0.78338,\n",
      "            0.78331,     0.78323,     0.78315,     0.78308,       0.783,     0.78293,     0.78285,     0.78278,      0.7827,     0.78263,     0.78255,     0.78247,      0.7824,     0.78232,     0.78225,     0.78217,      0.7821,     0.78202,     0.78194,      0.7819,      0.7819,      0.7819,      0.7819,\n",
      "             0.7819,      0.7819,      0.7817,     0.78123,     0.78076,     0.78033,        0.78,     0.77968,     0.77935,     0.77902,     0.77711,     0.77406,     0.77321,       0.773,       0.773,     0.77275,      0.7722,     0.77166,     0.76975,     0.76935,     0.76896,     0.76856,       0.768,\n",
      "            0.76743,       0.766,     0.76494,     0.76421,     0.76294,     0.76169,     0.76113,     0.75986,     0.75964,     0.75964,     0.75783,       0.757,     0.75519,     0.75519,     0.75519,      0.7548,     0.75425,     0.75371,     0.75371,       0.753,     0.75148,      0.7502,     0.74915,\n",
      "            0.74838,     0.74777,     0.74587,     0.74509,     0.74481,     0.74481,     0.74481,     0.74365,     0.74332,     0.74332,     0.74332,     0.74332,     0.74303,     0.74273,     0.74244,     0.74214,     0.74184,     0.74036,     0.73985,     0.73923,     0.73887,      0.7373,     0.73577,\n",
      "            0.73506,      0.7341,      0.7313,     0.73078,     0.73027,      0.7268,     0.72603,     0.72527,     0.72453,     0.72404,     0.72347,     0.72288,     0.72069,     0.71631,     0.71497,     0.71429,     0.71343,     0.71143,     0.71051,     0.70985,      0.7092,       0.709,     0.70798,\n",
      "            0.70636,     0.70575,     0.70523,     0.70466,      0.7036,       0.699,     0.69805,     0.69725,     0.69645,     0.69553,     0.69408,     0.69089,     0.68764,     0.68608,      0.6836,     0.68222,     0.68017,     0.67827,     0.67473,       0.672,     0.66864,     0.66766,     0.66766,\n",
      "            0.66598,     0.66191,     0.65761,     0.65227,     0.64938,     0.64679,     0.64542,     0.64394,     0.64077,     0.63622,     0.63538,     0.63405,      0.6307,     0.62979,     0.62879,     0.62463,     0.61856,     0.61785,     0.61696,     0.61196,     0.60979,     0.60677,     0.60542,\n",
      "            0.60289,     0.59609,     0.59193,     0.58724,     0.58502,     0.58309,     0.58129,     0.57757,     0.56924,     0.56839,     0.56727,     0.56413,     0.55935,      0.5585,     0.55237,     0.54892,     0.54603,     0.53907,     0.52882,     0.52654,     0.52226,     0.51752,     0.51156,\n",
      "             0.5082,     0.50632,     0.50191,     0.49738,      0.4911,     0.48292,     0.47869,     0.47307,     0.46781,     0.45904,     0.44835,     0.44362,     0.44113,     0.43917,      0.4286,     0.42252,     0.41629,     0.41014,     0.39897,     0.38872,     0.38411,     0.37285,     0.36547,\n",
      "            0.35518,     0.34971,     0.34535,     0.33768,     0.32816,      0.3147,     0.31081,     0.30766,     0.29573,     0.28259,     0.27188,       0.263,     0.25427,      0.2478,     0.24309,     0.23155,     0.22068,     0.21581,     0.20856,     0.20014,     0.19614,     0.19078,     0.18238,\n",
      "            0.17582,     0.17044,     0.16627,     0.15696,     0.14958,     0.14431,     0.13695,     0.12532,     0.12115,      0.1123,     0.10691,     0.10115,    0.097941,      0.0954,    0.088094,    0.085804,    0.078698,    0.077868,    0.076679,    0.069851,    0.062343,    0.051486,    0.045885,\n",
      "           0.044228,    0.038017,    0.035493,    0.030924,    0.030034,    0.029217,    0.028449,    0.025223,    0.023385,    0.022548,    0.020448,    0.019422,    0.016676,    0.015887,    0.015402,    0.014916,    0.014276,    0.013606,    0.011654,    0.011163,    0.010672,   0.0088094,   0.0073213,\n",
      "          0.0071024,   0.0068835,   0.0066647,   0.0064458,    0.006227,   0.0060081,   0.0053397,   0.0044445,   0.0035644,   0.0029439,   0.0028711,   0.0027982,   0.0027253,   0.0026525,   0.0025796,   0.0025067,   0.0024338,    0.002361,   0.0022881,   0.0022152,   0.0021424,   0.0020695,   0.0019966,\n",
      "          0.0019238,   0.0018509,    0.001778,   0.0017052,   0.0016323,   0.0015594,   0.0014865,           0,           0,           0,           0]]), 'Confidence', 'Recall']]\n",
      "fitness: 1.2859721573893572\n",
      "keys: ['metrics/precision(B)', 'metrics/recall(B)', 'metrics/mAP50(B)', 'metrics/mAP50-95(B)', 'metrics/precision(M)', 'metrics/recall(M)', 'metrics/mAP50(M)', 'metrics/mAP50-95(M)']\n",
      "maps: array([     1.2388])\n",
      "names: {0: 'contaminated'}\n",
      "plot: True\n",
      "results_dict: {'metrics/precision(B)': 0.894718433377973, 'metrics/recall(B)': 0.8447909196883158, 'metrics/mAP50(B)': 0.862632532446257, 'metrics/mAP50-95(B)': 0.6740984988932701, 'metrics/precision(M)': 0.8884389770948562, 'metrics/recall(M)': 0.8323442136498517, 'metrics/mAP50(M)': 0.8480538070655455, 'metrics/mAP50-95(M)': 0.5646831938158154, 'fitness': 1.2859721573893572}\n",
      "save_dir: WindowsPath('c:/Users/nadyl/Documents/GitHub/nornnickel_hac/runs/segment/train132')\n",
      "seg: ultralytics.utils.metrics.Metric object\n",
      "speed: {'preprocess': 6.863106042146683, 'inference': 21.78802713751793, 'loss': 0.015515834093093872, 'postprocess': 3.187451511621475}\n",
      "task: 'segment'\n"
     ]
    }
   ],
   "source": [
    "results = model.val(data=\"./data.yaml\")\n",
    "# print(results)"
   ]
  },
  {
   "cell_type": "code",
   "execution_count": 7,
   "id": "59855c0397ebdf83",
   "metadata": {
    "ExecuteTime": {
     "end_time": "2024-12-05T20:45:56.619711200Z",
     "start_time": "2024-12-05T20:45:56.612160500Z"
    },
    "collapsed": false
   },
   "outputs": [],
   "source": [
    "def infer_image(image_path):\n",
    "    # Загрузка изображения\n",
    "    image = cv2.imread(image_path)\n",
    "\n",
    "    # Инференс\n",
    "    return model(image)\n",
    "\n"
   ]
  },
  {
   "cell_type": "code",
   "execution_count": null,
   "id": "bafd993999b6432d",
   "metadata": {
    "ExecuteTime": {
     "end_time": "2024-12-05T20:51:52.367492200Z",
     "start_time": "2024-12-05T20:51:52.357938500Z"
    },
    "collapsed": false
   },
   "outputs": [],
   "source": [
    "# Функция для создания маски с черным фоном\n",
    "def create_mask(image_path, results):\n",
    "    # Загружаем изображение и переводим в градации серого\n",
    "    image = cv2.imread(image_path)\n",
    "    height, width = image.shape[:2]\n",
    "\n",
    "    # Создаем пустую маску с черным фоном\n",
    "    mask = np.zeros((height, width), dtype=np.uint8)\n",
    "\n",
    "    # Проходим по результатам и создаем маску\n",
    "    for result in results:\n",
    "        masks = result.masks  # Получаем маски из результатов\n",
    "        if masks is not None:\n",
    "            for mask_array in masks.data:  # Получаем маски как массивы\n",
    "                mask_i = mask_array.numpy()  # Преобразуем маску в numpy массив\n",
    "                \n",
    "                # Изменяем размер маски под размер оригинального изображения\n",
    "                mask_i_resized = cv2.resize(mask_i, (width, height), interpolation=cv2.INTER_LINEAR)\n",
    "                \n",
    "                # Накладываем маску на пустую маску (255 для белого)\n",
    "                mask[mask_i_resized > 0] = 255\n",
    "\n",
    "    return mask"
   ]
  },
  {
   "cell_type": "code",
   "execution_count": null,
   "id": "bb1b125643cab2da",
   "metadata": {
    "ExecuteTime": {
     "end_time": "2024-12-05T20:52:49.360392200Z",
     "start_time": "2024-12-05T20:52:49.205486700Z"
    },
    "collapsed": false
   },
   "outputs": [
    {
     "name": "stdout",
     "output_type": "stream",
     "text": [
      "0: 384x640 3 contaminateds, 71.0ms\n",
      "Speed: 3.0ms preprocess, 71.0ms inference, 2.0ms postprocess per image at shape (1, 3, 384, 640)\n"
     ]
    },
    {
     "data": {
      "text/plain": [
       "True"
      ]
     },
     "execution_count": 72,
     "metadata": {},
     "output_type": "execute_result"
    }
   ],
   "source": [
    "results = infer_image(\"./cv_test_dataset/test_img/_08.jpg\")\n",
    "mask_image = create_mask(\"./cv_test_dataset/test_img/_08.jpg\", results)\n",
    "\n",
    "# Сохраняем маску в формате PNG\n",
    "mask_output_path = './mask_image.png'  # Укажите путь для сохранения маски\n",
    "cv2.imwrite(mask_output_path, mask_image)"
   ]
  },
  {
   "cell_type": "code",
   "execution_count": null,
   "id": "35bf1867b33cd589",
   "metadata": {
    "collapsed": false
   },
   "outputs": [],
   "source": []
  }
 ],
 "metadata": {
  "kernelspec": {
   "display_name": ".venv",
   "language": "python",
   "name": "python3"
  },
  "language_info": {
   "codemirror_mode": {
    "name": "ipython",
    "version": 3
   },
   "file_extension": ".py",
   "mimetype": "text/x-python",
   "name": "python",
   "nbconvert_exporter": "python",
   "pygments_lexer": "ipython3",
   "version": "3.10.0"
  }
 },
 "nbformat": 4,
 "nbformat_minor": 5
}
