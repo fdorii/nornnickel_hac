{
 "cells": [
  {
   "cell_type": "markdown",
   "id": "b441e3e3-7be9-4dc9-b33c-1dbbab6d9089",
   "metadata": {},
   "source": [
    "# Импортирование библиотек"
   ]
  },
  {
   "cell_type": "code",
   "execution_count": 1,
   "id": "37468795-0ca3-4f63-98d4-af2236b2d297",
   "metadata": {},
   "outputs": [],
   "source": [
    "import torch\n",
    "from torchvision import transforms\n",
    "from torchvision.transforms import v2\n",
    "from torch.utils.data import Dataset, DataLoader\n",
    "import os\n",
    "import cv2\n",
    "import shutil\n",
    "from PIL import Image\n",
    "import numpy as np\n",
    "import matplotlib.pyplot as plt\n",
    "import random"
   ]
  },
  {
   "cell_type": "markdown",
   "id": "ef38bcf6-f32a-4eab-a6bc-bdb147057f6a",
   "metadata": {},
   "source": [
    "# Обозначение констант"
   ]
  },
  {
   "cell_type": "code",
   "execution_count": 3,
   "id": "5e99e876-b2c4-4905-98c7-c63d40da71cd",
   "metadata": {},
   "outputs": [],
   "source": [
    "IMAGES_DIR = '../cv_open_dataset/open_img'  # Путь к вашему датасету с изображениями\n",
    "MASKS_DIR = '../cv_open_dataset/open_msk'  # Путь к вашему датасету с масками\n",
    "OUTPUT_DIR = '../concat_dataset/mine_synt'  # Путь к выходной директории"
   ]
  },
  {
   "cell_type": "code",
   "execution_count": 4,
   "id": "fe946883-7ef5-4de7-951d-7c51d3bac86e",
   "metadata": {},
   "outputs": [],
   "source": [
    "image_files = [f for f in os.listdir(IMAGES_DIR) if f.endswith(('.jpg', '.png'))]\n",
    "mask_files = [f for f in os.listdir(MASKS_DIR) if f.endswith(('.jpg','.png'))]\n",
    "if len(image_files) != len(mask_files):\n",
    "    print(len(image_files))\n",
    "    print(len(mask_files))\n",
    "    print(\"Количество изображений и масок не совпадает.\")\n",
    "    for mask in mask_files:\n",
    "        if mask.replace(\".png\", \".jpg\") not in image_files:\n",
    "            print(mask)"
   ]
  },
  {
   "cell_type": "markdown",
   "id": "ffc2a147-9444-4e60-b0e3-0941ef5520db",
   "metadata": {},
   "source": [
    "# Создание класса на основе Dataset из Pytorch"
   ]
  },
  {
   "cell_type": "markdown",
   "id": "c55ff726-85e3-4299-aa9b-3a66ca5cbace",
   "metadata": {},
   "source": [
    "Создаём класс, в котором из директорий с путём к изображениям и к их маскам выделяем пути к файлам и далее преобразовываем изображения и их маски в одинаковом формате"
   ]
  },
  {
   "cell_type": "code",
   "execution_count": 10,
   "id": "22f38a5d-c9f0-4a78-9608-95acd641f177",
   "metadata": {},
   "outputs": [],
   "source": [
    "class DirtDataset(Dataset):\n",
    "    def __init__(self, data_path, masks_path):\n",
    "        self.data_path = data_path # Путь к директории с фото\n",
    "        self.labels_path = masks_path # Путь к директории с масками\n",
    "        self.data = [os.path.join(data_path,f) for f in os.listdir(self.data_path) if f.endswith(('.jpg', '.png'))]  # Путь к каждому фото\n",
    "        self.labels = [os.path.join(masks_path,f) for f in os.listdir(self.labels_path) if f.endswith(('.jpg', '.png'))] # Путь к каждой маске\n",
    "\n",
    "    def __len__(self):\n",
    "        return len(self.data)\n",
    "\n",
    "    def __getitem__(self, idx):\n",
    "        # Индексируем каждый путь к фото и маскам \n",
    "        img_path = self.data[idx]\n",
    "        mask_path = self.labels[idx]\n",
    "        # Открываем фото и маски в коде\n",
    "        image = Image.open(img_path)\n",
    "        mask = Image.open(mask_path)\n",
    "        # Рандомно выбираем какое преобразование будет сделано\n",
    "        is_horizontal, is_vertical = random.choice([0,1]), random.choice([0,1])\n",
    "        # Делаем эти преобразования для маски и фото\n",
    "        if is_horizontal:\n",
    "            image = v2.functional.horizontal_flip(image)\n",
    "            mask = v2.functional.horizontal_flip(mask)\n",
    "        if is_vertical:\n",
    "            image = v2.functional.vertical_flip(image)\n",
    "            mask = v2.functional.vertical_flip(mask)\n",
    "        return image, mask"
   ]
  },
  {
   "cell_type": "markdown",
   "id": "12f89d90-4fd8-48a3-a6c1-35f6a95c434e",
   "metadata": {},
   "source": [
    "# Создаём папки где будем хранить аугментированные данные"
   ]
  },
  {
   "cell_type": "code",
   "execution_count": 13,
   "id": "86327fdd-bfe7-4005-9972-57a548495fe7",
   "metadata": {},
   "outputs": [],
   "source": [
    "os.makedirs(os.path.join(OUTPUT_DIR,os.path.basename(IMAGES_DIR),),exist_ok=True)\n",
    "os.makedirs(os.path.join(OUTPUT_DIR,os.path.basename(MASKS_DIR),),exist_ok=True)"
   ]
  },
  {
   "cell_type": "markdown",
   "id": "3abd4e7b-eee8-44c2-80f2-536c6d0e57b2",
   "metadata": {},
   "source": [
    "# Через цикл перебираем все фото и маски и сохраняем их в определённые папки"
   ]
  },
  {
   "cell_type": "code",
   "execution_count": 16,
   "id": "c9441afe-2f0b-4bf9-888e-ffcf25972f48",
   "metadata": {},
   "outputs": [],
   "source": [
    "for i,[image,mask] in enumerate(DirtDataset(IMAGES_DIR,MASKS_DIR)):\n",
    "    cv2.imwrite(os.path.join(OUTPUT_DIR,os.path.basename(IMAGES_DIR),'synt_' + str(i) + '.png'), np.array(image.convert('RGB'))[:, :, ::-1])\n",
    "    cv2.imwrite(os.path.join(OUTPUT_DIR,os.path.basename(MASKS_DIR),'synt_' + str(i)+ '.png'), np.array(mask.convert('RGB'))[:, :, ::-1])"
   ]
  }
 ],
 "metadata": {
  "kernelspec": {
   "display_name": "Python 3 (ipykernel)",
   "language": "python",
   "name": "python3"
  },
  "language_info": {
   "codemirror_mode": {
    "name": "ipython",
    "version": 3
   },
   "file_extension": ".py",
   "mimetype": "text/x-python",
   "name": "python",
   "nbconvert_exporter": "python",
   "pygments_lexer": "ipython3",
   "version": "3.11.7"
  }
 },
 "nbformat": 4,
 "nbformat_minor": 5
}
